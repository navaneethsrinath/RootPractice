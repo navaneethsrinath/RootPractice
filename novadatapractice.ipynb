{
 "cells": [
  {
   "cell_type": "code",
   "execution_count": 1,
   "id": "e160f8b0",
   "metadata": {},
   "outputs": [
    {
     "name": "stdout",
     "output_type": "stream",
     "text": [
      "Welcome to JupyROOT 6.26/06\n"
     ]
    }
   ],
   "source": [
    "import ROOT"
   ]
  },
  {
   "cell_type": "code",
   "execution_count": 2,
   "id": "14679c41",
   "metadata": {},
   "outputs": [],
   "source": [
    "inFileName = \"data/fardet_data_2_run16043_R20-11-25-cosfilt.c_r16043.0-r16043.45.cosmic_ntuple.root\""
   ]
  },
  {
   "cell_type": "code",
   "execution_count": 3,
   "id": "708cc3f9",
   "metadata": {},
   "outputs": [],
   "source": [
    "inFile = ROOT.TFile.Open(inFileName, \"READ\")"
   ]
  },
  {
   "cell_type": "code",
   "execution_count": 4,
   "id": "4394fac1",
   "metadata": {},
   "outputs": [],
   "source": [
    "tree = inFile.Get(\"cosmicntuple/cosmicTree\")"
   ]
  },
  {
   "cell_type": "code",
   "execution_count": 20,
   "id": "ff5143e1",
   "metadata": {},
   "outputs": [
    {
     "name": "stderr",
     "output_type": "stream",
     "text": [
      "Warning in <TFile::Append>: Replacing existing TH1: startx (Potential memory leak).\n"
     ]
    }
   ],
   "source": [
    "xPos = ROOT.TH1D(\"startx\",\"Starting X Position\", 150, -1000, 1000)"
   ]
  },
  {
   "cell_type": "code",
   "execution_count": 21,
   "id": "6fef6ad0",
   "metadata": {},
   "outputs": [],
   "source": [
    "for entryNum in range(0, tree.GetEntries()):\n",
    "    tree.GetEntry(entryNum)\n",
    "    if getattr(tree, \"ntrack\") == 0:\n",
    "        continue\n",
    "    startX = getattr(tree, \"startPosX\")[0]\n",
    "    xPos.Fill(startX)"
   ]
  },
  {
   "cell_type": "code",
   "execution_count": 22,
   "id": "ddeeae18",
   "metadata": {},
   "outputs": [
    {
     "name": "stderr",
     "output_type": "stream",
     "text": [
      "Warning in <TCanvas::Constructor>: Deleting canvas with same name: Canvas\n"
     ]
    }
   ],
   "source": [
    "canv = ROOT.TCanvas(\"Canvas\", \"NewGraph\", 800, 600)"
   ]
  },
  {
   "cell_type": "code",
   "execution_count": 23,
   "id": "efd74f62",
   "metadata": {},
   "outputs": [],
   "source": [
    "xPos.Draw()"
   ]
  },
  {
   "cell_type": "code",
   "execution_count": 24,
   "id": "219f95ff",
   "metadata": {},
   "outputs": [
    {
     "data": {
      "image/png": "[encoded data removed]",
      "text/plain": [
       "<IPython.core.display.Image object>"
      ]
     },
     "metadata": {},
     "output_type": "display_data"
    }
   ],
   "source": [
    "canv.Draw()"
   ]
  },
  {
   "cell_type": "code",
   "execution_count": null,
   "id": "cf247e2d",
   "metadata": {},
   "outputs": [],
   "source": [
    "yPos = ROOT.TH1D(\"starty\")"
   ]
  }
 ],
 "metadata": {
  "kernelspec": {
   "display_name": "Python 3 (ipykernel)",
   "language": "python",
   "name": "python3"
  },
  "language_info": {
   "codemirror_mode": {
    "name": "ipython",
    "version": 3
   },
   "file_extension": ".py",
   "mimetype": "text/x-python",
   "name": "python",
   "nbconvert_exporter": "python",
   "pygments_lexer": "ipython3",
   "version": "3.10.12"
  }
 },
 "nbformat": 4,
 "nbformat_minor": 5
}
