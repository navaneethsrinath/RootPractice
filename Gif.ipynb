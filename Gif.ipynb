{
 "cells": [
  {
   "cell_type": "code",
   "execution_count": 23,
   "id": "1236330f",
   "metadata": {},
   "outputs": [],
   "source": [
    "import ROOT\n",
    "inFileName = \"data/fardet_data_2_run44299_R20-11-25-cosfilt.c_r44299.0-r44299.53.cosmic_ntuple.root\"\n",
    "inFile = ROOT.TFile.Open(inFileName, \"READ\")\n",
    "tree = inFile.Get(\"cosmicntuple/cosmicTree\")\n",
    "ROOT.gStyle.SetOptStat(0)"
   ]
  },
  {
   "cell_type": "code",
   "execution_count": 2,
   "id": "276cede1",
   "metadata": {},
   "outputs": [
    {
     "name": "stdout",
     "output_type": "stream",
     "text": [
      "event number 1400\n",
      "event number 1400\n"
     ]
    },
    {
     "data": {
      "image/png": "[encoded data removed]",
      "text/plain": [
       "<IPython.core.display.Image object>"
      ]
     },
     "metadata": {},
     "output_type": "display_data"
    }
   ],
   "source": [
    "canv = ROOT.TCanvas(\"c1\",\"Canvas 1\", 850, 550)\n",
    "pad1 = ROOT.TPad(\"pad1\",\"Pad 1\",0.05,0.52,0.95,0.97)\n",
    "pad2 = ROOT.TPad(\"pad2\",\"Pad 2\",0.05,0.02,0.95,0.47)\n",
    "pad1.Draw()\n",
    "pad2.Draw()\n",
    "\n",
    "xvszstart = ROOT.TH2D(\"xvszstart\", \"X-Z Plane\", 350, 0, 6000, 350, -750, 750)\n",
    "xvszstop = ROOT.TH2D(\"xvszstop\", \"X vs Z Stop\", 350, 0, 6000, 350, -750, 750)\n",
    "\n",
    "pad1.cd()\n",
    "for entryNum in range(0, tree.GetEntries()):\n",
    "    tree.GetEntry(entryNum)\n",
    "    if getattr(tree, \"ntrack\") == 0:\n",
    "        continue\n",
    "    startPosx = getattr(tree, \"startPosX\")[0]\n",
    "    startPosz = getattr(tree, \"startPosZ\")[0]\n",
    "    stopPosx = getattr(tree, \"stopPosX\")[0]\n",
    "    stopPosz = getattr(tree, \"stopPosZ\")[0]\n",
    "    if entryNum == 1400:\n",
    "        print(\"event number\", entryNum)\n",
    "        xvszstart.Fill(startPosz, startPosx)\n",
    "        xvszstop.Fill(stopPosz, stopPosx)\n",
    "        linex = ROOT.TLine(startPosz, startPosx, stopPosz, stopPosx)\n",
    "linex.SetLineColor(ROOT.kBlue)\n",
    "xvszstart.GetYaxis().SetTitle(\"X Position (cm)\")\n",
    "xvszstart.GetXaxis().SetTitle(\"Z Position (cm)\")\n",
    "xvszstart.Draw()\n",
    "xvszstop.Draw(\"same\")\n",
    "linex.Draw()\n",
    "\n",
    "yvszstart = ROOT.TH2D(\"yvszstart\", \"Y-Z Plane\", 350, 0, 6000, 350, -750, 750)\n",
    "yvszstop = ROOT.TH2D(\"yvszstop\", \"Y vs Z Stop\", 350, 0, 6000, 350, -750, 750)\n",
    "\n",
    "pad2.cd()\n",
    "for entryNum in range(0, tree.GetEntries()):\n",
    "    tree.GetEntry(entryNum)\n",
    "    if getattr(tree, \"ntrack\") == 0:\n",
    "        continue\n",
    "    startPosy = getattr(tree, \"startPosY\")[0]\n",
    "    startPosz = getattr(tree, \"startPosZ\")[0]\n",
    "    stopPosy = getattr(tree, \"stopPosY\")[0]\n",
    "    stopPosz = getattr(tree, \"stopPosZ\")[0]\n",
    "    if entryNum == 1400:\n",
    "        print(\"event number\", entryNum)\n",
    "        yvszstart.Fill(startPosz, startPosy)\n",
    "        yvszstop.Fill(stopPosz, stopPosy)\n",
    "        liney = ROOT.TLine(startPosz, startPosy, stopPosz, stopPosy)\n",
    "liney.SetLineColor(ROOT.kBlue)\n",
    "yvszstart.GetYaxis().SetTitle(\"Y Position (cm)\")\n",
    "yvszstart.GetXaxis().SetTitle(\"Z Position (cm)\")\n",
    "yvszstart.Draw()\n",
    "yvszstop.Draw(\"same\")\n",
    "liney.Draw()\n",
    "\n",
    "canv.Draw()\n",
    "\n"
   ]
  },
  {
   "cell_type": "code",
   "execution_count": 3,
   "id": "e314b67d",
   "metadata": {},
   "outputs": [
    {
     "name": "stdout",
     "output_type": "stream",
     "text": [
      "event number 1401\n",
      "event number 1401\n"
     ]
    },
    {
     "name": "stderr",
     "output_type": "stream",
     "text": [
      "Warning in <TCanvas::Constructor>: Deleting canvas with same name: c1\n",
      "Warning in <TFile::Append>: Replacing existing TH1: xvszstart (Potential memory leak).\n",
      "Warning in <TFile::Append>: Replacing existing TH1: xvszstop (Potential memory leak).\n",
      "Warning in <TFile::Append>: Replacing existing TH1: yvszstart (Potential memory leak).\n",
      "Warning in <TFile::Append>: Replacing existing TH1: yvszstop (Potential memory leak).\n"
     ]
    },
    {
     "data": {
      "image/png": "[encoded data removed]",
      "text/plain": [
       "<IPython.core.display.Image object>"
      ]
     },
     "metadata": {},
     "output_type": "display_data"
    }
   ],
   "source": [
    "canv = ROOT.TCanvas(\"c1\",\"Canvas 1\", 850, 550)\n",
    "pad1 = ROOT.TPad(\"pad1\",\"Pad 1\",0.05,0.52,0.95,0.97)\n",
    "pad2 = ROOT.TPad(\"pad2\",\"Pad 2\",0.05,0.02,0.95,0.47)\n",
    "pad1.Draw()\n",
    "pad2.Draw()\n",
    "\n",
    "xvszstart = ROOT.TH2D(\"xvszstart\", \"X-Z Plane\", 350, 0, 6000, 350, -750, 750)\n",
    "xvszstop = ROOT.TH2D(\"xvszstop\", \"X vs Z Stop\", 350, 0, 6000, 350, -750, 750)\n",
    "\n",
    "pad1.cd()\n",
    "for entryNum in range(0, tree.GetEntries()):\n",
    "    tree.GetEntry(entryNum)\n",
    "    if getattr(tree, \"ntrack\") == 0:\n",
    "        continue\n",
    "    startPosx = getattr(tree, \"startPosX\")[0]\n",
    "    startPosz = getattr(tree, \"startPosZ\")[0]\n",
    "    stopPosx = getattr(tree, \"stopPosX\")[0]\n",
    "    stopPosz = getattr(tree, \"stopPosZ\")[0]\n",
    "    if entryNum == 1401:\n",
    "        print(\"event number\", entryNum)\n",
    "        xvszstart.Fill(startPosz, startPosx)\n",
    "        xvszstop.Fill(stopPosz, stopPosx)\n",
    "        linex = ROOT.TLine(startPosz, startPosx, stopPosz, stopPosx)\n",
    "linex.SetLineColor(ROOT.kBlue)\n",
    "xvszstart.GetYaxis().SetTitle(\"X Position (cm)\")\n",
    "xvszstart.GetXaxis().SetTitle(\"Z Position (cm)\")\n",
    "xvszstart.Draw()\n",
    "xvszstop.Draw(\"same\")\n",
    "linex.Draw()\n",
    "\n",
    "yvszstart = ROOT.TH2D(\"yvszstart\", \"Y-Z Plane\", 350, 0, 6000, 350, -750, 750)\n",
    "yvszstop = ROOT.TH2D(\"yvszstop\", \"Y vs Z Stop\", 350, 0, 6000, 350, -750, 750)\n",
    "\n",
    "pad2.cd()\n",
    "for entryNum in range(0, tree.GetEntries()):\n",
    "    tree.GetEntry(entryNum)\n",
    "    if getattr(tree, \"ntrack\") == 0:\n",
    "        continue\n",
    "    startPosy = getattr(tree, \"startPosY\")[0]\n",
    "    startPosz = getattr(tree, \"startPosZ\")[0]\n",
    "    stopPosy = getattr(tree, \"stopPosY\")[0]\n",
    "    stopPosz = getattr(tree, \"stopPosZ\")[0]\n",
    "    if entryNum == 1401:\n",
    "        print(\"event number\", entryNum)\n",
    "        yvszstart.Fill(startPosz, startPosy)\n",
    "        yvszstop.Fill(stopPosz, stopPosy)\n",
    "        liney = ROOT.TLine(startPosz, startPosy, stopPosz, stopPosy)\n",
    "liney.SetLineColor(ROOT.kBlue)\n",
    "yvszstart.GetYaxis().SetTitle(\"Y Position (cm)\")\n",
    "yvszstart.GetXaxis().SetTitle(\"Z Position (cm)\")\n",
    "yvszstart.Draw()\n",
    "yvszstop.Draw(\"same\")\n",
    "liney.Draw()\n",
    "\n",
    "canv.Draw()\n",
    "\n"
   ]
  },
  {
   "cell_type": "code",
   "execution_count": 4,
   "id": "eb7bf1b8",
   "metadata": {},
   "outputs": [
    {
     "name": "stdout",
     "output_type": "stream",
     "text": [
      "event number 1402\n",
      "event number 1402\n"
     ]
    },
    {
     "name": "stderr",
     "output_type": "stream",
     "text": [
      "Warning in <TCanvas::Constructor>: Deleting canvas with same name: c1\n",
      "Warning in <TFile::Append>: Replacing existing TH1: xvszstart (Potential memory leak).\n",
      "Warning in <TFile::Append>: Replacing existing TH1: xvszstop (Potential memory leak).\n",
      "Warning in <TFile::Append>: Replacing existing TH1: yvszstart (Potential memory leak).\n",
      "Warning in <TFile::Append>: Replacing existing TH1: yvszstop (Potential memory leak).\n"
     ]
    },
    {
     "data": {
      "image/png": "[encoded data removed]",
      "text/plain": [
       "<IPython.core.display.Image object>"
      ]
     },
     "metadata": {},
     "output_type": "display_data"
    }
   ],
   "source": [
    "canv = ROOT.TCanvas(\"c1\",\"Canvas 1\", 850, 550)\n",
    "pad1 = ROOT.TPad(\"pad1\",\"Pad 1\",0.05,0.52,0.95,0.97)\n",
    "pad2 = ROOT.TPad(\"pad2\",\"Pad 2\",0.05,0.02,0.95,0.47)\n",
    "pad1.Draw()\n",
    "pad2.Draw()\n",
    "\n",
    "xvszstart = ROOT.TH2D(\"xvszstart\", \"X-Z Plane\", 350, 0, 6000, 350, -750, 750)\n",
    "xvszstop = ROOT.TH2D(\"xvszstop\", \"X vs Z Stop\", 350, 0, 6000, 350, -750, 750)\n",
    "\n",
    "pad1.cd()\n",
    "for entryNum in range(0, tree.GetEntries()):\n",
    "    tree.GetEntry(entryNum)\n",
    "    if getattr(tree, \"ntrack\") == 0:\n",
    "        continue\n",
    "    startPosx = getattr(tree, \"startPosX\")[0]\n",
    "    startPosz = getattr(tree, \"startPosZ\")[0]\n",
    "    stopPosx = getattr(tree, \"stopPosX\")[0]\n",
    "    stopPosz = getattr(tree, \"stopPosZ\")[0]\n",
    "    if entryNum == 1402:\n",
    "        print(\"event number\", entryNum)\n",
    "        xvszstart.Fill(startPosz, startPosx)\n",
    "        xvszstop.Fill(stopPosz, stopPosx)\n",
    "        linex = ROOT.TLine(startPosz, startPosx, stopPosz, stopPosx)\n",
    "linex.SetLineColor(ROOT.kBlue)\n",
    "xvszstart.GetYaxis().SetTitle(\"X Position (cm)\")\n",
    "xvszstart.GetXaxis().SetTitle(\"Z Position (cm)\")\n",
    "xvszstart.Draw()\n",
    "xvszstop.Draw(\"same\")\n",
    "linex.Draw()\n",
    "\n",
    "yvszstart = ROOT.TH2D(\"yvszstart\", \"Y-Z Plane\", 350, 0, 6000, 350, -750, 750)\n",
    "yvszstop = ROOT.TH2D(\"yvszstop\", \"Y vs Z Stop\", 350, 0, 6000, 350, -750, 750)\n",
    "\n",
    "pad2.cd()\n",
    "for entryNum in range(0, tree.GetEntries()):\n",
    "    tree.GetEntry(entryNum)\n",
    "    if getattr(tree, \"ntrack\") == 0:\n",
    "        continue\n",
    "    startPosy = getattr(tree, \"startPosY\")[0]\n",
    "    startPosz = getattr(tree, \"startPosZ\")[0]\n",
    "    stopPosy = getattr(tree, \"stopPosY\")[0]\n",
    "    stopPosz = getattr(tree, \"stopPosZ\")[0]\n",
    "    if entryNum == 1402:\n",
    "        print(\"event number\", entryNum)\n",
    "        yvszstart.Fill(startPosz, startPosy)\n",
    "        yvszstop.Fill(stopPosz, stopPosy)\n",
    "        liney = ROOT.TLine(startPosz, startPosy, stopPosz, stopPosy)\n",
    "liney.SetLineColor(ROOT.kBlue)\n",
    "yvszstart.GetYaxis().SetTitle(\"Y Position (cm)\")\n",
    "yvszstart.GetXaxis().SetTitle(\"Z Position (cm)\")\n",
    "yvszstart.Draw()\n",
    "yvszstop.Draw(\"same\")\n",
    "liney.Draw()\n",
    "\n",
    "canv.Draw()\n",
    "\n"
   ]
  },
  {
   "cell_type": "code",
   "execution_count": 5,
   "id": "8cad4e77",
   "metadata": {},
   "outputs": [
    {
     "name": "stdout",
     "output_type": "stream",
     "text": [
      "event number 1403\n",
      "event number 1403\n"
     ]
    },
    {
     "name": "stderr",
     "output_type": "stream",
     "text": [
      "Warning in <TCanvas::Constructor>: Deleting canvas with same name: c1\n",
      "Warning in <TFile::Append>: Replacing existing TH1: xvszstart (Potential memory leak).\n",
      "Warning in <TFile::Append>: Replacing existing TH1: xvszstop (Potential memory leak).\n",
      "Warning in <TFile::Append>: Replacing existing TH1: yvszstart (Potential memory leak).\n",
      "Warning in <TFile::Append>: Replacing existing TH1: yvszstop (Potential memory leak).\n"
     ]
    },
    {
     "data": {
      "image/png": "[encoded data removed]",
      "text/plain": [
       "<IPython.core.display.Image object>"
      ]
     },
     "metadata": {},
     "output_type": "display_data"
    }
   ],
   "source": [
    "canv = ROOT.TCanvas(\"c1\",\"Canvas 1\", 850, 550)\n",
    "pad1 = ROOT.TPad(\"pad1\",\"Pad 1\",0.05,0.52,0.95,0.97)\n",
    "pad2 = ROOT.TPad(\"pad2\",\"Pad 2\",0.05,0.02,0.95,0.47)\n",
    "pad1.Draw()\n",
    "pad2.Draw()\n",
    "\n",
    "xvszstart = ROOT.TH2D(\"xvszstart\", \"X-Z Plane\", 350, 0, 6000, 350, -750, 750)\n",
    "xvszstop = ROOT.TH2D(\"xvszstop\", \"X vs Z Stop\", 350, 0, 6000, 350, -750, 750)\n",
    "\n",
    "pad1.cd()\n",
    "for entryNum in range(0, tree.GetEntries()):\n",
    "    tree.GetEntry(entryNum)\n",
    "    if getattr(tree, \"ntrack\") == 0:\n",
    "        continue\n",
    "    startPosx = getattr(tree, \"startPosX\")[0]\n",
    "    startPosz = getattr(tree, \"startPosZ\")[0]\n",
    "    stopPosx = getattr(tree, \"stopPosX\")[0]\n",
    "    stopPosz = getattr(tree, \"stopPosZ\")[0]\n",
    "    if entryNum == 1403:\n",
    "        print(\"event number\", entryNum)\n",
    "        xvszstart.Fill(startPosz, startPosx)\n",
    "        xvszstop.Fill(stopPosz, stopPosx)\n",
    "        linex = ROOT.TLine(startPosz, startPosx, stopPosz, stopPosx)\n",
    "linex.SetLineColor(ROOT.kBlue)\n",
    "xvszstart.GetYaxis().SetTitle(\"X Position (cm)\")\n",
    "xvszstart.GetXaxis().SetTitle(\"Z Position (cm)\")\n",
    "xvszstart.Draw()\n",
    "xvszstop.Draw(\"same\")\n",
    "linex.Draw()\n",
    "\n",
    "yvszstart = ROOT.TH2D(\"yvszstart\", \"Y-Z Plane\", 350, 0, 6000, 350, -750, 750)\n",
    "yvszstop = ROOT.TH2D(\"yvszstop\", \"Y vs Z Stop\", 350, 0, 6000, 350, -750, 750)\n",
    "\n",
    "pad2.cd()\n",
    "for entryNum in range(0, tree.GetEntries()):\n",
    "    tree.GetEntry(entryNum)\n",
    "    if getattr(tree, \"ntrack\") == 0:\n",
    "        continue\n",
    "    startPosy = getattr(tree, \"startPosY\")[0]\n",
    "    startPosz = getattr(tree, \"startPosZ\")[0]\n",
    "    stopPosy = getattr(tree, \"stopPosY\")[0]\n",
    "    stopPosz = getattr(tree, \"stopPosZ\")[0]\n",
    "    if entryNum == 1403:\n",
    "        print(\"event number\", entryNum)\n",
    "        yvszstart.Fill(startPosz, startPosy)\n",
    "        yvszstop.Fill(stopPosz, stopPosy)\n",
    "        liney = ROOT.TLine(startPosz, startPosy, stopPosz, stopPosy)\n",
    "liney.SetLineColor(ROOT.kBlue)\n",
    "yvszstart.GetYaxis().SetTitle(\"Y Position (cm)\")\n",
    "yvszstart.GetXaxis().SetTitle(\"Z Position (cm)\")\n",
    "yvszstart.Draw()\n",
    "yvszstop.Draw(\"same\")\n",
    "liney.Draw()\n",
    "\n",
    "canv.Draw()\n",
    "\n"
   ]
  },
  {
   "cell_type": "code",
   "execution_count": 6,
   "id": "887b05e8",
   "metadata": {},
   "outputs": [
    {
     "name": "stdout",
     "output_type": "stream",
     "text": [
      "event number 1404\n",
      "event number 1404\n"
     ]
    },
    {
     "name": "stderr",
     "output_type": "stream",
     "text": [
      "Warning in <TCanvas::Constructor>: Deleting canvas with same name: c1\n",
      "Warning in <TFile::Append>: Replacing existing TH1: xvszstart (Potential memory leak).\n",
      "Warning in <TFile::Append>: Replacing existing TH1: xvszstop (Potential memory leak).\n",
      "Warning in <TFile::Append>: Replacing existing TH1: yvszstart (Potential memory leak).\n",
      "Warning in <TFile::Append>: Replacing existing TH1: yvszstop (Potential memory leak).\n"
     ]
    },
    {
     "data": {
      "image/png": "[encoded data removed]",
      "text/plain": [
       "<IPython.core.display.Image object>"
      ]
     },
     "metadata": {},
     "output_type": "display_data"
    }
   ],
   "source": [
    "canv = ROOT.TCanvas(\"c1\",\"Canvas 1\", 850, 550)\n",
    "pad1 = ROOT.TPad(\"pad1\",\"Pad 1\",0.05,0.52,0.95,0.97)\n",
    "pad2 = ROOT.TPad(\"pad2\",\"Pad 2\",0.05,0.02,0.95,0.47)\n",
    "pad1.Draw()\n",
    "pad2.Draw()\n",
    "\n",
    "xvszstart = ROOT.TH2D(\"xvszstart\", \"X-Z Plane\", 350, 0, 6000, 350, -750, 750)\n",
    "xvszstop = ROOT.TH2D(\"xvszstop\", \"X vs Z Stop\", 350, 0, 6000, 350, -750, 750)\n",
    "\n",
    "pad1.cd()\n",
    "for entryNum in range(0, tree.GetEntries()):\n",
    "    tree.GetEntry(entryNum)\n",
    "    if getattr(tree, \"ntrack\") == 0:\n",
    "        continue\n",
    "    startPosx = getattr(tree, \"startPosX\")[0]\n",
    "    startPosz = getattr(tree, \"startPosZ\")[0]\n",
    "    stopPosx = getattr(tree, \"stopPosX\")[0]\n",
    "    stopPosz = getattr(tree, \"stopPosZ\")[0]\n",
    "    if entryNum == 1404:\n",
    "        print(\"event number\", entryNum)\n",
    "        xvszstart.Fill(startPosz, startPosx)\n",
    "        xvszstop.Fill(stopPosz, stopPosx)\n",
    "        linex = ROOT.TLine(startPosz, startPosx, stopPosz, stopPosx)\n",
    "linex.SetLineColor(ROOT.kBlue)\n",
    "xvszstart.GetYaxis().SetTitle(\"X Position (cm)\")\n",
    "xvszstart.GetXaxis().SetTitle(\"Z Position (cm)\")\n",
    "xvszstart.Draw()\n",
    "xvszstop.Draw(\"same\")\n",
    "linex.Draw()\n",
    "\n",
    "yvszstart = ROOT.TH2D(\"yvszstart\", \"Y-Z Plane\", 350, 0, 6000, 350, -750, 750)\n",
    "yvszstop = ROOT.TH2D(\"yvszstop\", \"Y vs Z Stop\", 350, 0, 6000, 350, -750, 750)\n",
    "\n",
    "pad2.cd()\n",
    "for entryNum in range(0, tree.GetEntries()):\n",
    "    tree.GetEntry(entryNum)\n",
    "    if getattr(tree, \"ntrack\") == 0:\n",
    "        continue\n",
    "    startPosy = getattr(tree, \"startPosY\")[0]\n",
    "    startPosz = getattr(tree, \"startPosZ\")[0]\n",
    "    stopPosy = getattr(tree, \"stopPosY\")[0]\n",
    "    stopPosz = getattr(tree, \"stopPosZ\")[0]\n",
    "    if entryNum == 1404:\n",
    "        print(\"event number\", entryNum)\n",
    "        yvszstart.Fill(startPosz, startPosy)\n",
    "        yvszstop.Fill(stopPosz, stopPosy)\n",
    "        liney = ROOT.TLine(startPosz, startPosy, stopPosz, stopPosy)\n",
    "liney.SetLineColor(ROOT.kBlue)\n",
    "yvszstart.GetYaxis().SetTitle(\"Y Position (cm)\")\n",
    "yvszstart.GetXaxis().SetTitle(\"Z Position (cm)\")\n",
    "yvszstart.Draw()\n",
    "yvszstop.Draw(\"same\")\n",
    "liney.Draw()\n",
    "\n",
    "canv.Draw()\n",
    "\n"
   ]
  },
  {
   "cell_type": "code",
   "execution_count": 7,
   "id": "6ab5e33e",
   "metadata": {},
   "outputs": [
    {
     "name": "stdout",
     "output_type": "stream",
     "text": [
      "event number 1405\n",
      "event number 1405\n"
     ]
    },
    {
     "name": "stderr",
     "output_type": "stream",
     "text": [
      "Warning in <TCanvas::Constructor>: Deleting canvas with same name: c1\n",
      "Warning in <TFile::Append>: Replacing existing TH1: xvszstart (Potential memory leak).\n",
      "Warning in <TFile::Append>: Replacing existing TH1: xvszstop (Potential memory leak).\n",
      "Warning in <TFile::Append>: Replacing existing TH1: yvszstart (Potential memory leak).\n",
      "Warning in <TFile::Append>: Replacing existing TH1: yvszstop (Potential memory leak).\n"
     ]
    },
    {
     "data": {
      "image/png": "[encoded data removed]",
      "text/plain": [
       "<IPython.core.display.Image object>"
      ]
     },
     "metadata": {},
     "output_type": "display_data"
    }
   ],
   "source": [
    "canv = ROOT.TCanvas(\"c1\",\"Canvas 1\", 850, 550)\n",
    "pad1 = ROOT.TPad(\"pad1\",\"Pad 1\",0.05,0.52,0.95,0.97)\n",
    "pad2 = ROOT.TPad(\"pad2\",\"Pad 2\",0.05,0.02,0.95,0.47)\n",
    "pad1.Draw()\n",
    "pad2.Draw()\n",
    "\n",
    "xvszstart = ROOT.TH2D(\"xvszstart\", \"X-Z Plane\", 350, 0, 6000, 350, -750, 750)\n",
    "xvszstop = ROOT.TH2D(\"xvszstop\", \"X vs Z Stop\", 350, 0, 6000, 350, -750, 750)\n",
    "\n",
    "pad1.cd()\n",
    "for entryNum in range(0, tree.GetEntries()):\n",
    "    tree.GetEntry(entryNum)\n",
    "    if getattr(tree, \"ntrack\") == 0:\n",
    "        continue\n",
    "    startPosx = getattr(tree, \"startPosX\")[0]\n",
    "    startPosz = getattr(tree, \"startPosZ\")[0]\n",
    "    stopPosx = getattr(tree, \"stopPosX\")[0]\n",
    "    stopPosz = getattr(tree, \"stopPosZ\")[0]\n",
    "    if entryNum == 1405:\n",
    "        print(\"event number\", entryNum)\n",
    "        xvszstart.Fill(startPosz, startPosx)\n",
    "        xvszstop.Fill(stopPosz, stopPosx)\n",
    "        linex = ROOT.TLine(startPosz, startPosx, stopPosz, stopPosx)\n",
    "linex.SetLineColor(ROOT.kBlue)\n",
    "xvszstart.GetYaxis().SetTitle(\"X Position (cm)\")\n",
    "xvszstart.GetXaxis().SetTitle(\"Z Position (cm)\")\n",
    "xvszstart.Draw()\n",
    "xvszstop.Draw(\"same\")\n",
    "linex.Draw()\n",
    "\n",
    "yvszstart = ROOT.TH2D(\"yvszstart\", \"Y-Z Plane\", 350, 0, 6000, 350, -750, 750)\n",
    "yvszstop = ROOT.TH2D(\"yvszstop\", \"Y vs Z Stop\", 350, 0, 6000, 350, -750, 750)\n",
    "\n",
    "pad2.cd()\n",
    "for entryNum in range(0, tree.GetEntries()):\n",
    "    tree.GetEntry(entryNum)\n",
    "    if getattr(tree, \"ntrack\") == 0:\n",
    "        continue\n",
    "    startPosy = getattr(tree, \"startPosY\")[0]\n",
    "    startPosz = getattr(tree, \"startPosZ\")[0]\n",
    "    stopPosy = getattr(tree, \"stopPosY\")[0]\n",
    "    stopPosz = getattr(tree, \"stopPosZ\")[0]\n",
    "    if entryNum == 1405:\n",
    "        print(\"event number\", entryNum)\n",
    "        yvszstart.Fill(startPosz, startPosy)\n",
    "        yvszstop.Fill(stopPosz, stopPosy)\n",
    "        liney = ROOT.TLine(startPosz, startPosy, stopPosz, stopPosy)\n",
    "liney.SetLineColor(ROOT.kBlue)\n",
    "yvszstart.GetYaxis().SetTitle(\"Y Position (cm)\")\n",
    "yvszstart.GetXaxis().SetTitle(\"Z Position (cm)\")\n",
    "yvszstart.Draw()\n",
    "yvszstop.Draw(\"same\")\n",
    "liney.Draw()\n",
    "\n",
    "canv.Draw()\n",
    "\n"
   ]
  },
  {
   "cell_type": "code",
   "execution_count": 8,
   "id": "363295c7",
   "metadata": {},
   "outputs": [
    {
     "name": "stdout",
     "output_type": "stream",
     "text": [
      "event number 1406\n",
      "event number 1406\n"
     ]
    },
    {
     "name": "stderr",
     "output_type": "stream",
     "text": [
      "Warning in <TCanvas::Constructor>: Deleting canvas with same name: c1\n",
      "Warning in <TFile::Append>: Replacing existing TH1: xvszstart (Potential memory leak).\n",
      "Warning in <TFile::Append>: Replacing existing TH1: xvszstop (Potential memory leak).\n",
      "Warning in <TFile::Append>: Replacing existing TH1: yvszstart (Potential memory leak).\n",
      "Warning in <TFile::Append>: Replacing existing TH1: yvszstop (Potential memory leak).\n"
     ]
    },
    {
     "data": {
      "image/png": "[encoded data removed]",
      "text/plain": [
       "<IPython.core.display.Image object>"
      ]
     },
     "metadata": {},
     "output_type": "display_data"
    }
   ],
   "source": [
    "canv = ROOT.TCanvas(\"c1\",\"Canvas 1\", 850, 550)\n",
    "pad1 = ROOT.TPad(\"pad1\",\"Pad 1\",0.05,0.52,0.95,0.97)\n",
    "pad2 = ROOT.TPad(\"pad2\",\"Pad 2\",0.05,0.02,0.95,0.47)\n",
    "pad1.Draw()\n",
    "pad2.Draw()\n",
    "\n",
    "xvszstart = ROOT.TH2D(\"xvszstart\", \"X-Z Plane\", 350, 0, 6000, 350, -750, 750)\n",
    "xvszstop = ROOT.TH2D(\"xvszstop\", \"X vs Z Stop\", 350, 0, 6000, 350, -750, 750)\n",
    "\n",
    "pad1.cd()\n",
    "for entryNum in range(0, tree.GetEntries()):\n",
    "    tree.GetEntry(entryNum)\n",
    "    if getattr(tree, \"ntrack\") == 0:\n",
    "        continue\n",
    "    startPosx = getattr(tree, \"startPosX\")[0]\n",
    "    startPosz = getattr(tree, \"startPosZ\")[0]\n",
    "    stopPosx = getattr(tree, \"stopPosX\")[0]\n",
    "    stopPosz = getattr(tree, \"stopPosZ\")[0]\n",
    "    if entryNum == 1406:\n",
    "        print(\"event number\", entryNum)\n",
    "        xvszstart.Fill(startPosz, startPosx)\n",
    "        xvszstop.Fill(stopPosz, stopPosx)\n",
    "        linex = ROOT.TLine(startPosz, startPosx, stopPosz, stopPosx)\n",
    "linex.SetLineColor(ROOT.kBlue)\n",
    "xvszstart.GetYaxis().SetTitle(\"X Position (cm)\")\n",
    "xvszstart.GetXaxis().SetTitle(\"Z Position (cm)\")\n",
    "xvszstart.Draw()\n",
    "xvszstop.Draw(\"same\")\n",
    "linex.Draw()\n",
    "\n",
    "yvszstart = ROOT.TH2D(\"yvszstart\", \"Y-Z Plane\", 350, 0, 6000, 350, -750, 750)\n",
    "yvszstop = ROOT.TH2D(\"yvszstop\", \"Y vs Z Stop\", 350, 0, 6000, 350, -750, 750)\n",
    "\n",
    "pad2.cd()\n",
    "for entryNum in range(0, tree.GetEntries()):\n",
    "    tree.GetEntry(entryNum)\n",
    "    if getattr(tree, \"ntrack\") == 0:\n",
    "        continue\n",
    "    startPosy = getattr(tree, \"startPosY\")[0]\n",
    "    startPosz = getattr(tree, \"startPosZ\")[0]\n",
    "    stopPosy = getattr(tree, \"stopPosY\")[0]\n",
    "    stopPosz = getattr(tree, \"stopPosZ\")[0]\n",
    "    if entryNum == 1406:\n",
    "        print(\"event number\", entryNum)\n",
    "        yvszstart.Fill(startPosz, startPosy)\n",
    "        yvszstop.Fill(stopPosz, stopPosy)\n",
    "        liney = ROOT.TLine(startPosz, startPosy, stopPosz, stopPosy)\n",
    "liney.SetLineColor(ROOT.kBlue)\n",
    "yvszstart.GetYaxis().SetTitle(\"Y Position (cm)\")\n",
    "yvszstart.GetXaxis().SetTitle(\"Z Position (cm)\")\n",
    "yvszstart.Draw()\n",
    "yvszstop.Draw(\"same\")\n",
    "liney.Draw()\n",
    "\n",
    "canv.Draw()\n",
    "\n"
   ]
  },
  {
   "cell_type": "code",
   "execution_count": 9,
   "id": "70fc2f88",
   "metadata": {},
   "outputs": [
    {
     "name": "stdout",
     "output_type": "stream",
     "text": [
      "event number 1407\n",
      "event number 1407\n"
     ]
    },
    {
     "name": "stderr",
     "output_type": "stream",
     "text": [
      "Warning in <TCanvas::Constructor>: Deleting canvas with same name: c1\n",
      "Warning in <TFile::Append>: Replacing existing TH1: xvszstart (Potential memory leak).\n",
      "Warning in <TFile::Append>: Replacing existing TH1: xvszstop (Potential memory leak).\n",
      "Warning in <TFile::Append>: Replacing existing TH1: yvszstart (Potential memory leak).\n",
      "Warning in <TFile::Append>: Replacing existing TH1: yvszstop (Potential memory leak).\n"
     ]
    },
    {
     "data": {
      "image/png": "[encoded data removed]",
      "text/plain": [
       "<IPython.core.display.Image object>"
      ]
     },
     "metadata": {},
     "output_type": "display_data"
    }
   ],
   "source": [
    "canv = ROOT.TCanvas(\"c1\",\"Canvas 1\", 850, 550)\n",
    "pad1 = ROOT.TPad(\"pad1\",\"Pad 1\",0.05,0.52,0.95,0.97)\n",
    "pad2 = ROOT.TPad(\"pad2\",\"Pad 2\",0.05,0.02,0.95,0.47)\n",
    "pad1.Draw()\n",
    "pad2.Draw()\n",
    "\n",
    "xvszstart = ROOT.TH2D(\"xvszstart\", \"X-Z Plane\", 350, 0, 6000, 350, -750, 750)\n",
    "xvszstop = ROOT.TH2D(\"xvszstop\", \"X vs Z Stop\", 350, 0, 6000, 350, -750, 750)\n",
    "\n",
    "pad1.cd()\n",
    "for entryNum in range(0, tree.GetEntries()):\n",
    "    tree.GetEntry(entryNum)\n",
    "    if getattr(tree, \"ntrack\") == 0:\n",
    "        continue\n",
    "    startPosx = getattr(tree, \"startPosX\")[0]\n",
    "    startPosz = getattr(tree, \"startPosZ\")[0]\n",
    "    stopPosx = getattr(tree, \"stopPosX\")[0]\n",
    "    stopPosz = getattr(tree, \"stopPosZ\")[0]\n",
    "    if entryNum == 1407:\n",
    "        print(\"event number\", entryNum)\n",
    "        xvszstart.Fill(startPosz, startPosx)\n",
    "        xvszstop.Fill(stopPosz, stopPosx)\n",
    "        linex = ROOT.TLine(startPosz, startPosx, stopPosz, stopPosx)\n",
    "linex.SetLineColor(ROOT.kBlue)\n",
    "xvszstart.GetYaxis().SetTitle(\"X Position (cm)\")\n",
    "xvszstart.GetXaxis().SetTitle(\"Z Position (cm)\")\n",
    "xvszstart.Draw()\n",
    "xvszstop.Draw(\"same\")\n",
    "linex.Draw()\n",
    "\n",
    "yvszstart = ROOT.TH2D(\"yvszstart\", \"Y-Z Plane\", 350, 0, 6000, 350, -750, 750)\n",
    "yvszstop = ROOT.TH2D(\"yvszstop\", \"Y vs Z Stop\", 350, 0, 6000, 350, -750, 750)\n",
    "\n",
    "pad2.cd()\n",
    "for entryNum in range(0, tree.GetEntries()):\n",
    "    tree.GetEntry(entryNum)\n",
    "    if getattr(tree, \"ntrack\") == 0:\n",
    "        continue\n",
    "    startPosy = getattr(tree, \"startPosY\")[0]\n",
    "    startPosz = getattr(tree, \"startPosZ\")[0]\n",
    "    stopPosy = getattr(tree, \"stopPosY\")[0]\n",
    "    stopPosz = getattr(tree, \"stopPosZ\")[0]\n",
    "    if entryNum == 1407:\n",
    "        print(\"event number\", entryNum)\n",
    "        yvszstart.Fill(startPosz, startPosy)\n",
    "        yvszstop.Fill(stopPosz, stopPosy)\n",
    "        liney = ROOT.TLine(startPosz, startPosy, stopPosz, stopPosy)\n",
    "liney.SetLineColor(ROOT.kBlue)\n",
    "yvszstart.GetYaxis().SetTitle(\"Y Position (cm)\")\n",
    "yvszstart.GetXaxis().SetTitle(\"Z Position (cm)\")\n",
    "yvszstart.Draw()\n",
    "yvszstop.Draw(\"same\")\n",
    "liney.Draw()\n",
    "\n",
    "canv.Draw()\n",
    "\n"
   ]
  },
  {
   "cell_type": "code",
   "execution_count": 10,
   "id": "33652f11",
   "metadata": {},
   "outputs": [
    {
     "name": "stdout",
     "output_type": "stream",
     "text": [
      "event number 1408\n",
      "event number 1408\n"
     ]
    },
    {
     "name": "stderr",
     "output_type": "stream",
     "text": [
      "Warning in <TCanvas::Constructor>: Deleting canvas with same name: c1\n",
      "Warning in <TFile::Append>: Replacing existing TH1: xvszstart (Potential memory leak).\n",
      "Warning in <TFile::Append>: Replacing existing TH1: xvszstop (Potential memory leak).\n",
      "Warning in <TFile::Append>: Replacing existing TH1: yvszstart (Potential memory leak).\n",
      "Warning in <TFile::Append>: Replacing existing TH1: yvszstop (Potential memory leak).\n"
     ]
    },
    {
     "data": {
      "image/png": "[encoded data removed]",
      "text/plain": [
       "<IPython.core.display.Image object>"
      ]
     },
     "metadata": {},
     "output_type": "display_data"
    }
   ],
   "source": [
    "canv = ROOT.TCanvas(\"c1\",\"Canvas 1\", 850, 550)\n",
    "pad1 = ROOT.TPad(\"pad1\",\"Pad 1\",0.05,0.52,0.95,0.97)\n",
    "pad2 = ROOT.TPad(\"pad2\",\"Pad 2\",0.05,0.02,0.95,0.47)\n",
    "pad1.Draw()\n",
    "pad2.Draw()\n",
    "\n",
    "xvszstart = ROOT.TH2D(\"xvszstart\", \"X-Z Plane\", 350, 0, 6000, 350, -750, 750)\n",
    "xvszstop = ROOT.TH2D(\"xvszstop\", \"X vs Z Stop\", 350, 0, 6000, 350, -750, 750)\n",
    "\n",
    "pad1.cd()\n",
    "for entryNum in range(0, tree.GetEntries()):\n",
    "    tree.GetEntry(entryNum)\n",
    "    if getattr(tree, \"ntrack\") == 0:\n",
    "        continue\n",
    "    startPosx = getattr(tree, \"startPosX\")[0]\n",
    "    startPosz = getattr(tree, \"startPosZ\")[0]\n",
    "    stopPosx = getattr(tree, \"stopPosX\")[0]\n",
    "    stopPosz = getattr(tree, \"stopPosZ\")[0]\n",
    "    if entryNum == 1408:\n",
    "        print(\"event number\", entryNum)\n",
    "        xvszstart.Fill(startPosz, startPosx)\n",
    "        xvszstop.Fill(stopPosz, stopPosx)\n",
    "        linex = ROOT.TLine(startPosz, startPosx, stopPosz, stopPosx)\n",
    "linex.SetLineColor(ROOT.kBlue)\n",
    "xvszstart.GetYaxis().SetTitle(\"X Position (cm)\")\n",
    "xvszstart.GetXaxis().SetTitle(\"Z Position (cm)\")\n",
    "xvszstart.Draw()\n",
    "xvszstop.Draw(\"same\")\n",
    "linex.Draw()\n",
    "\n",
    "yvszstart = ROOT.TH2D(\"yvszstart\", \"Y-Z Plane\", 350, 0, 6000, 350, -750, 750)\n",
    "yvszstop = ROOT.TH2D(\"yvszstop\", \"Y vs Z Stop\", 350, 0, 6000, 350, -750, 750)\n",
    "\n",
    "pad2.cd()\n",
    "for entryNum in range(0, tree.GetEntries()):\n",
    "    tree.GetEntry(entryNum)\n",
    "    if getattr(tree, \"ntrack\") == 0:\n",
    "        continue\n",
    "    startPosy = getattr(tree, \"startPosY\")[0]\n",
    "    startPosz = getattr(tree, \"startPosZ\")[0]\n",
    "    stopPosy = getattr(tree, \"stopPosY\")[0]\n",
    "    stopPosz = getattr(tree, \"stopPosZ\")[0]\n",
    "    if entryNum == 1408:\n",
    "        print(\"event number\", entryNum)\n",
    "        yvszstart.Fill(startPosz, startPosy)\n",
    "        yvszstop.Fill(stopPosz, stopPosy)\n",
    "        liney = ROOT.TLine(startPosz, startPosy, stopPosz, stopPosy)\n",
    "liney.SetLineColor(ROOT.kBlue)\n",
    "yvszstart.GetYaxis().SetTitle(\"Y Position (cm)\")\n",
    "yvszstart.GetXaxis().SetTitle(\"Z Position (cm)\")\n",
    "yvszstart.Draw()\n",
    "yvszstop.Draw(\"same\")\n",
    "liney.Draw()\n",
    "\n",
    "canv.Draw()\n",
    "\n"
   ]
  },
  {
   "cell_type": "code",
   "execution_count": 11,
   "id": "007f0322",
   "metadata": {},
   "outputs": [
    {
     "name": "stdout",
     "output_type": "stream",
     "text": [
      "event number 1409\n",
      "event number 1409\n"
     ]
    },
    {
     "name": "stderr",
     "output_type": "stream",
     "text": [
      "Warning in <TCanvas::Constructor>: Deleting canvas with same name: c1\n",
      "Warning in <TFile::Append>: Replacing existing TH1: xvszstart (Potential memory leak).\n",
      "Warning in <TFile::Append>: Replacing existing TH1: xvszstop (Potential memory leak).\n",
      "Warning in <TFile::Append>: Replacing existing TH1: yvszstart (Potential memory leak).\n",
      "Warning in <TFile::Append>: Replacing existing TH1: yvszstop (Potential memory leak).\n"
     ]
    },
    {
     "data": {
      "image/png": "[encoded data removed]",
      "text/plain": [
       "<IPython.core.display.Image object>"
      ]
     },
     "metadata": {},
     "output_type": "display_data"
    }
   ],
   "source": [
    "canv = ROOT.TCanvas(\"c1\",\"Canvas 1\", 850, 550)\n",
    "pad1 = ROOT.TPad(\"pad1\",\"Pad 1\",0.05,0.52,0.95,0.97)\n",
    "pad2 = ROOT.TPad(\"pad2\",\"Pad 2\",0.05,0.02,0.95,0.47)\n",
    "pad1.Draw()\n",
    "pad2.Draw()\n",
    "\n",
    "xvszstart = ROOT.TH2D(\"xvszstart\", \"X-Z Plane\", 350, 0, 6000, 350, -750, 750)\n",
    "xvszstop = ROOT.TH2D(\"xvszstop\", \"X vs Z Stop\", 350, 0, 6000, 350, -750, 750)\n",
    "\n",
    "pad1.cd()\n",
    "for entryNum in range(0, tree.GetEntries()):\n",
    "    tree.GetEntry(entryNum)\n",
    "    if getattr(tree, \"ntrack\") == 0:\n",
    "        continue\n",
    "    startPosx = getattr(tree, \"startPosX\")[0]\n",
    "    startPosz = getattr(tree, \"startPosZ\")[0]\n",
    "    stopPosx = getattr(tree, \"stopPosX\")[0]\n",
    "    stopPosz = getattr(tree, \"stopPosZ\")[0]\n",
    "    if entryNum == 1409:\n",
    "        print(\"event number\", entryNum)\n",
    "        xvszstart.Fill(startPosz, startPosx)\n",
    "        xvszstop.Fill(stopPosz, stopPosx)\n",
    "        linex = ROOT.TLine(startPosz, startPosx, stopPosz, stopPosx)\n",
    "linex.SetLineColor(ROOT.kBlue)\n",
    "xvszstart.GetYaxis().SetTitle(\"X Position (cm)\")\n",
    "xvszstart.GetXaxis().SetTitle(\"Z Position (cm)\")\n",
    "xvszstart.Draw()\n",
    "xvszstop.Draw(\"same\")\n",
    "linex.Draw()\n",
    "\n",
    "yvszstart = ROOT.TH2D(\"yvszstart\", \"Y-Z Plane\", 350, 0, 6000, 350, -750, 750)\n",
    "yvszstop = ROOT.TH2D(\"yvszstop\", \"Y vs Z Stop\", 350, 0, 6000, 350, -750, 750)\n",
    "\n",
    "pad2.cd()\n",
    "for entryNum in range(0, tree.GetEntries()):\n",
    "    tree.GetEntry(entryNum)\n",
    "    if getattr(tree, \"ntrack\") == 0:\n",
    "        continue\n",
    "    startPosy = getattr(tree, \"startPosY\")[0]\n",
    "    startPosz = getattr(tree, \"startPosZ\")[0]\n",
    "    stopPosy = getattr(tree, \"stopPosY\")[0]\n",
    "    stopPosz = getattr(tree, \"stopPosZ\")[0]\n",
    "    if entryNum == 1409:\n",
    "        print(\"event number\", entryNum)\n",
    "        yvszstart.Fill(startPosz, startPosy)\n",
    "        yvszstop.Fill(stopPosz, stopPosy)\n",
    "        liney = ROOT.TLine(startPosz, startPosy, stopPosz, stopPosy)\n",
    "liney.SetLineColor(ROOT.kBlue)\n",
    "yvszstart.GetYaxis().SetTitle(\"Y Position (cm)\")\n",
    "yvszstart.GetXaxis().SetTitle(\"Z Position (cm)\")\n",
    "yvszstart.Draw()\n",
    "yvszstop.Draw(\"same\")\n",
    "liney.Draw()\n",
    "\n",
    "canv.Draw()\n",
    "\n"
   ]
  },
  {
   "cell_type": "code",
   "execution_count": 12,
   "id": "0741d9be",
   "metadata": {},
   "outputs": [
    {
     "name": "stdout",
     "output_type": "stream",
     "text": [
      "event number 1410\n",
      "event number 1410\n"
     ]
    },
    {
     "name": "stderr",
     "output_type": "stream",
     "text": [
      "Warning in <TCanvas::Constructor>: Deleting canvas with same name: c1\n",
      "Warning in <TFile::Append>: Replacing existing TH1: xvszstart (Potential memory leak).\n",
      "Warning in <TFile::Append>: Replacing existing TH1: xvszstop (Potential memory leak).\n",
      "Warning in <TFile::Append>: Replacing existing TH1: yvszstart (Potential memory leak).\n",
      "Warning in <TFile::Append>: Replacing existing TH1: yvszstop (Potential memory leak).\n"
     ]
    },
    {
     "data": {
      "image/png": "[encoded data removed]",
      "text/plain": [
       "<IPython.core.display.Image object>"
      ]
     },
     "metadata": {},
     "output_type": "display_data"
    }
   ],
   "source": [
    "canv = ROOT.TCanvas(\"c1\",\"Canvas 1\", 850, 550)\n",
    "pad1 = ROOT.TPad(\"pad1\",\"Pad 1\",0.05,0.52,0.95,0.97)\n",
    "pad2 = ROOT.TPad(\"pad2\",\"Pad 2\",0.05,0.02,0.95,0.47)\n",
    "pad1.Draw()\n",
    "pad2.Draw()\n",
    "\n",
    "xvszstart = ROOT.TH2D(\"xvszstart\", \"X-Z Plane\", 350, 0, 6000, 350, -750, 750)\n",
    "xvszstop = ROOT.TH2D(\"xvszstop\", \"X vs Z Stop\", 350, 0, 6000, 350, -750, 750)\n",
    "\n",
    "pad1.cd()\n",
    "for entryNum in range(0, tree.GetEntries()):\n",
    "    tree.GetEntry(entryNum)\n",
    "    if getattr(tree, \"ntrack\") == 0:\n",
    "        continue\n",
    "    startPosx = getattr(tree, \"startPosX\")[0]\n",
    "    startPosz = getattr(tree, \"startPosZ\")[0]\n",
    "    stopPosx = getattr(tree, \"stopPosX\")[0]\n",
    "    stopPosz = getattr(tree, \"stopPosZ\")[0]\n",
    "    if entryNum == 1410:\n",
    "        print(\"event number\", entryNum)\n",
    "        xvszstart.Fill(startPosz, startPosx)\n",
    "        xvszstop.Fill(stopPosz, stopPosx)\n",
    "        linex = ROOT.TLine(startPosz, startPosx, stopPosz, stopPosx)\n",
    "linex.SetLineColor(ROOT.kBlue)\n",
    "xvszstart.GetYaxis().SetTitle(\"X Position (cm)\")\n",
    "xvszstart.GetXaxis().SetTitle(\"Z Position (cm)\")\n",
    "xvszstart.Draw()\n",
    "xvszstop.Draw(\"same\")\n",
    "linex.Draw()\n",
    "\n",
    "yvszstart = ROOT.TH2D(\"yvszstart\", \"Y-Z Plane\", 350, 0, 6000, 350, -750, 750)\n",
    "yvszstop = ROOT.TH2D(\"yvszstop\", \"Y vs Z Stop\", 350, 0, 6000, 350, -750, 750)\n",
    "\n",
    "pad2.cd()\n",
    "for entryNum in range(0, tree.GetEntries()):\n",
    "    tree.GetEntry(entryNum)\n",
    "    if getattr(tree, \"ntrack\") == 0:\n",
    "        continue\n",
    "    startPosy = getattr(tree, \"startPosY\")[0]\n",
    "    startPosz = getattr(tree, \"startPosZ\")[0]\n",
    "    stopPosy = getattr(tree, \"stopPosY\")[0]\n",
    "    stopPosz = getattr(tree, \"stopPosZ\")[0]\n",
    "    if entryNum == 1410:\n",
    "        print(\"event number\", entryNum)\n",
    "        yvszstart.Fill(startPosz, startPosy)\n",
    "        yvszstop.Fill(stopPosz, stopPosy)\n",
    "        liney = ROOT.TLine(startPosz, startPosy, stopPosz, stopPosy)\n",
    "liney.SetLineColor(ROOT.kBlue)\n",
    "yvszstart.GetYaxis().SetTitle(\"Y Position (cm)\")\n",
    "yvszstart.GetXaxis().SetTitle(\"Z Position (cm)\")\n",
    "yvszstart.Draw()\n",
    "yvszstop.Draw(\"same\")\n",
    "liney.Draw()\n",
    "\n",
    "canv.Draw()\n",
    "\n"
   ]
  },
  {
   "cell_type": "code",
   "execution_count": 13,
   "id": "ea61e8c9",
   "metadata": {},
   "outputs": [
    {
     "name": "stdout",
     "output_type": "stream",
     "text": [
      "event number 1411\n",
      "event number 1411\n"
     ]
    },
    {
     "name": "stderr",
     "output_type": "stream",
     "text": [
      "Warning in <TCanvas::Constructor>: Deleting canvas with same name: c1\n",
      "Warning in <TFile::Append>: Replacing existing TH1: xvszstart (Potential memory leak).\n",
      "Warning in <TFile::Append>: Replacing existing TH1: xvszstop (Potential memory leak).\n",
      "Warning in <TFile::Append>: Replacing existing TH1: yvszstart (Potential memory leak).\n",
      "Warning in <TFile::Append>: Replacing existing TH1: yvszstop (Potential memory leak).\n"
     ]
    },
    {
     "data": {
      "image/png": "[encoded data removed]",
      "text/plain": [
       "<IPython.core.display.Image object>"
      ]
     },
     "metadata": {},
     "output_type": "display_data"
    }
   ],
   "source": [
    "canv = ROOT.TCanvas(\"c1\",\"Canvas 1\", 850, 550)\n",
    "pad1 = ROOT.TPad(\"pad1\",\"Pad 1\",0.05,0.52,0.95,0.97)\n",
    "pad2 = ROOT.TPad(\"pad2\",\"Pad 2\",0.05,0.02,0.95,0.47)\n",
    "pad1.Draw()\n",
    "pad2.Draw()\n",
    "\n",
    "xvszstart = ROOT.TH2D(\"xvszstart\", \"X-Z Plane\", 350, 0, 6000, 350, -750, 750)\n",
    "xvszstop = ROOT.TH2D(\"xvszstop\", \"X vs Z Stop\", 350, 0, 6000, 350, -750, 750)\n",
    "\n",
    "pad1.cd()\n",
    "for entryNum in range(0, tree.GetEntries()):\n",
    "    tree.GetEntry(entryNum)\n",
    "    if getattr(tree, \"ntrack\") == 0:\n",
    "        continue\n",
    "    startPosx = getattr(tree, \"startPosX\")[0]\n",
    "    startPosz = getattr(tree, \"startPosZ\")[0]\n",
    "    stopPosx = getattr(tree, \"stopPosX\")[0]\n",
    "    stopPosz = getattr(tree, \"stopPosZ\")[0]\n",
    "    if entryNum == 1411:\n",
    "        print(\"event number\", entryNum)\n",
    "        xvszstart.Fill(startPosz, startPosx)\n",
    "        xvszstop.Fill(stopPosz, stopPosx)\n",
    "        linex = ROOT.TLine(startPosz, startPosx, stopPosz, stopPosx)\n",
    "linex.SetLineColor(ROOT.kBlue)\n",
    "xvszstart.GetYaxis().SetTitle(\"X Position (cm)\")\n",
    "xvszstart.GetXaxis().SetTitle(\"Z Position (cm)\")\n",
    "xvszstart.Draw()\n",
    "xvszstop.Draw(\"same\")\n",
    "linex.Draw()\n",
    "\n",
    "yvszstart = ROOT.TH2D(\"yvszstart\", \"Y-Z Plane\", 350, 0, 6000, 350, -750, 750)\n",
    "yvszstop = ROOT.TH2D(\"yvszstop\", \"Y vs Z Stop\", 350, 0, 6000, 350, -750, 750)\n",
    "\n",
    "pad2.cd()\n",
    "for entryNum in range(0, tree.GetEntries()):\n",
    "    tree.GetEntry(entryNum)\n",
    "    if getattr(tree, \"ntrack\") == 0:\n",
    "        continue\n",
    "    startPosy = getattr(tree, \"startPosY\")[0]\n",
    "    startPosz = getattr(tree, \"startPosZ\")[0]\n",
    "    stopPosy = getattr(tree, \"stopPosY\")[0]\n",
    "    stopPosz = getattr(tree, \"stopPosZ\")[0]\n",
    "    if entryNum == 1411:\n",
    "        print(\"event number\", entryNum)\n",
    "        yvszstart.Fill(startPosz, startPosy)\n",
    "        yvszstop.Fill(stopPosz, stopPosy)\n",
    "        liney = ROOT.TLine(startPosz, startPosy, stopPosz, stopPosy)\n",
    "liney.SetLineColor(ROOT.kBlue)\n",
    "yvszstart.GetYaxis().SetTitle(\"Y Position (cm)\")\n",
    "yvszstart.GetXaxis().SetTitle(\"Z Position (cm)\")\n",
    "yvszstart.Draw()\n",
    "yvszstop.Draw(\"same\")\n",
    "liney.Draw()\n",
    "\n",
    "canv.Draw()\n",
    "\n"
   ]
  },
  {
   "cell_type": "code",
   "execution_count": 14,
   "id": "5c0f5655",
   "metadata": {},
   "outputs": [
    {
     "name": "stdout",
     "output_type": "stream",
     "text": [
      "event number 1412\n",
      "event number 1412\n"
     ]
    },
    {
     "name": "stderr",
     "output_type": "stream",
     "text": [
      "Warning in <TCanvas::Constructor>: Deleting canvas with same name: c1\n",
      "Warning in <TFile::Append>: Replacing existing TH1: xvszstart (Potential memory leak).\n",
      "Warning in <TFile::Append>: Replacing existing TH1: xvszstop (Potential memory leak).\n",
      "Warning in <TFile::Append>: Replacing existing TH1: yvszstart (Potential memory leak).\n",
      "Warning in <TFile::Append>: Replacing existing TH1: yvszstop (Potential memory leak).\n"
     ]
    },
    {
     "data": {
      "image/png": "[encoded data removed]",
      "text/plain": [
       "<IPython.core.display.Image object>"
      ]
     },
     "metadata": {},
     "output_type": "display_data"
    }
   ],
   "source": [
    "canv = ROOT.TCanvas(\"c1\",\"Canvas 1\", 850, 550)\n",
    "pad1 = ROOT.TPad(\"pad1\",\"Pad 1\",0.05,0.52,0.95,0.97)\n",
    "pad2 = ROOT.TPad(\"pad2\",\"Pad 2\",0.05,0.02,0.95,0.47)\n",
    "pad1.Draw()\n",
    "pad2.Draw()\n",
    "\n",
    "xvszstart = ROOT.TH2D(\"xvszstart\", \"X-Z Plane\", 350, 0, 6000, 350, -750, 750)\n",
    "xvszstop = ROOT.TH2D(\"xvszstop\", \"X vs Z Stop\", 350, 0, 6000, 350, -750, 750)\n",
    "\n",
    "pad1.cd()\n",
    "for entryNum in range(0, tree.GetEntries()):\n",
    "    tree.GetEntry(entryNum)\n",
    "    if getattr(tree, \"ntrack\") == 0:\n",
    "        continue\n",
    "    startPosx = getattr(tree, \"startPosX\")[0]\n",
    "    startPosz = getattr(tree, \"startPosZ\")[0]\n",
    "    stopPosx = getattr(tree, \"stopPosX\")[0]\n",
    "    stopPosz = getattr(tree, \"stopPosZ\")[0]\n",
    "    if entryNum == 1412:\n",
    "        print(\"event number\", entryNum)\n",
    "        xvszstart.Fill(startPosz, startPosx)\n",
    "        xvszstop.Fill(stopPosz, stopPosx)\n",
    "        linex = ROOT.TLine(startPosz, startPosx, stopPosz, stopPosx)\n",
    "linex.SetLineColor(ROOT.kBlue)\n",
    "xvszstart.GetYaxis().SetTitle(\"X Position (cm)\")\n",
    "xvszstart.GetXaxis().SetTitle(\"Z Position (cm)\")\n",
    "xvszstart.Draw()\n",
    "xvszstop.Draw(\"same\")\n",
    "linex.Draw()\n",
    "\n",
    "yvszstart = ROOT.TH2D(\"yvszstart\", \"Y-Z Plane\", 350, 0, 6000, 350, -750, 750)\n",
    "yvszstop = ROOT.TH2D(\"yvszstop\", \"Y vs Z Stop\", 350, 0, 6000, 350, -750, 750)\n",
    "\n",
    "pad2.cd()\n",
    "for entryNum in range(0, tree.GetEntries()):\n",
    "    tree.GetEntry(entryNum)\n",
    "    if getattr(tree, \"ntrack\") == 0:\n",
    "        continue\n",
    "    startPosy = getattr(tree, \"startPosY\")[0]\n",
    "    startPosz = getattr(tree, \"startPosZ\")[0]\n",
    "    stopPosy = getattr(tree, \"stopPosY\")[0]\n",
    "    stopPosz = getattr(tree, \"stopPosZ\")[0]\n",
    "    if entryNum == 1412:\n",
    "        print(\"event number\", entryNum)\n",
    "        yvszstart.Fill(startPosz, startPosy)\n",
    "        yvszstop.Fill(stopPosz, stopPosy)\n",
    "        liney = ROOT.TLine(startPosz, startPosy, stopPosz, stopPosy)\n",
    "liney.SetLineColor(ROOT.kBlue)\n",
    "yvszstart.GetYaxis().SetTitle(\"Y Position (cm)\")\n",
    "yvszstart.GetXaxis().SetTitle(\"Z Position (cm)\")\n",
    "yvszstart.Draw()\n",
    "yvszstop.Draw(\"same\")\n",
    "liney.Draw()\n",
    "\n",
    "canv.Draw()\n",
    "\n"
   ]
  },
  {
   "cell_type": "code",
   "execution_count": 15,
   "id": "f1e67304",
   "metadata": {},
   "outputs": [
    {
     "name": "stdout",
     "output_type": "stream",
     "text": [
      "event number 1413\n",
      "event number 1413\n"
     ]
    },
    {
     "name": "stderr",
     "output_type": "stream",
     "text": [
      "Warning in <TCanvas::Constructor>: Deleting canvas with same name: c1\n",
      "Warning in <TFile::Append>: Replacing existing TH1: xvszstart (Potential memory leak).\n",
      "Warning in <TFile::Append>: Replacing existing TH1: xvszstop (Potential memory leak).\n",
      "Warning in <TFile::Append>: Replacing existing TH1: yvszstart (Potential memory leak).\n",
      "Warning in <TFile::Append>: Replacing existing TH1: yvszstop (Potential memory leak).\n"
     ]
    },
    {
     "data": {
      "image/png": "[encoded data removed]",
      "text/plain": [
       "<IPython.core.display.Image object>"
      ]
     },
     "metadata": {},
     "output_type": "display_data"
    }
   ],
   "source": [
    "canv = ROOT.TCanvas(\"c1\",\"Canvas 1\", 850, 550)\n",
    "pad1 = ROOT.TPad(\"pad1\",\"Pad 1\",0.05,0.52,0.95,0.97)\n",
    "pad2 = ROOT.TPad(\"pad2\",\"Pad 2\",0.05,0.02,0.95,0.47)\n",
    "pad1.Draw()\n",
    "pad2.Draw()\n",
    "\n",
    "xvszstart = ROOT.TH2D(\"xvszstart\", \"X-Z Plane\", 350, 0, 6000, 350, -750, 750)\n",
    "xvszstop = ROOT.TH2D(\"xvszstop\", \"X vs Z Stop\", 350, 0, 6000, 350, -750, 750)\n",
    "\n",
    "pad1.cd()\n",
    "for entryNum in range(0, tree.GetEntries()):\n",
    "    tree.GetEntry(entryNum)\n",
    "    if getattr(tree, \"ntrack\") == 0:\n",
    "        continue\n",
    "    startPosx = getattr(tree, \"startPosX\")[0]\n",
    "    startPosz = getattr(tree, \"startPosZ\")[0]\n",
    "    stopPosx = getattr(tree, \"stopPosX\")[0]\n",
    "    stopPosz = getattr(tree, \"stopPosZ\")[0]\n",
    "    if entryNum == 1413:\n",
    "        print(\"event number\", entryNum)\n",
    "        xvszstart.Fill(startPosz, startPosx)\n",
    "        xvszstop.Fill(stopPosz, stopPosx)\n",
    "        linex = ROOT.TLine(startPosz, startPosx, stopPosz, stopPosx)\n",
    "linex.SetLineColor(ROOT.kBlue)\n",
    "xvszstart.GetYaxis().SetTitle(\"X Position (cm)\")\n",
    "xvszstart.GetXaxis().SetTitle(\"Z Position (cm)\")\n",
    "xvszstart.Draw()\n",
    "xvszstop.Draw(\"same\")\n",
    "linex.Draw()\n",
    "\n",
    "yvszstart = ROOT.TH2D(\"yvszstart\", \"Y-Z Plane\", 350, 0, 6000, 350, -750, 750)\n",
    "yvszstop = ROOT.TH2D(\"yvszstop\", \"Y vs Z Stop\", 350, 0, 6000, 350, -750, 750)\n",
    "\n",
    "pad2.cd()\n",
    "for entryNum in range(0, tree.GetEntries()):\n",
    "    tree.GetEntry(entryNum)\n",
    "    if getattr(tree, \"ntrack\") == 0:\n",
    "        continue\n",
    "    startPosy = getattr(tree, \"startPosY\")[0]\n",
    "    startPosz = getattr(tree, \"startPosZ\")[0]\n",
    "    stopPosy = getattr(tree, \"stopPosY\")[0]\n",
    "    stopPosz = getattr(tree, \"stopPosZ\")[0]\n",
    "    if entryNum == 1413:\n",
    "        print(\"event number\", entryNum)\n",
    "        yvszstart.Fill(startPosz, startPosy)\n",
    "        yvszstop.Fill(stopPosz, stopPosy)\n",
    "        liney = ROOT.TLine(startPosz, startPosy, stopPosz, stopPosy)\n",
    "liney.SetLineColor(ROOT.kBlue)\n",
    "yvszstart.GetYaxis().SetTitle(\"Y Position (cm)\")\n",
    "yvszstart.GetXaxis().SetTitle(\"Z Position (cm)\")\n",
    "yvszstart.Draw()\n",
    "yvszstop.Draw(\"same\")\n",
    "liney.Draw()\n",
    "\n",
    "canv.Draw()\n",
    "\n"
   ]
  },
  {
   "cell_type": "code",
   "execution_count": 16,
   "id": "d1226ff3",
   "metadata": {},
   "outputs": [
    {
     "name": "stdout",
     "output_type": "stream",
     "text": [
      "event number 1414\n",
      "event number 1414\n"
     ]
    },
    {
     "name": "stderr",
     "output_type": "stream",
     "text": [
      "Warning in <TCanvas::Constructor>: Deleting canvas with same name: c1\n",
      "Warning in <TFile::Append>: Replacing existing TH1: xvszstart (Potential memory leak).\n",
      "Warning in <TFile::Append>: Replacing existing TH1: xvszstop (Potential memory leak).\n",
      "Warning in <TFile::Append>: Replacing existing TH1: yvszstart (Potential memory leak).\n",
      "Warning in <TFile::Append>: Replacing existing TH1: yvszstop (Potential memory leak).\n"
     ]
    },
    {
     "data": {
      "image/png": "[encoded data removed]",
      "text/plain": [
       "<IPython.core.display.Image object>"
      ]
     },
     "metadata": {},
     "output_type": "display_data"
    }
   ],
   "source": [
    "canv = ROOT.TCanvas(\"c1\",\"Canvas 1\", 850, 550)\n",
    "pad1 = ROOT.TPad(\"pad1\",\"Pad 1\",0.05,0.52,0.95,0.97)\n",
    "pad2 = ROOT.TPad(\"pad2\",\"Pad 2\",0.05,0.02,0.95,0.47)\n",
    "pad1.Draw()\n",
    "pad2.Draw()\n",
    "\n",
    "xvszstart = ROOT.TH2D(\"xvszstart\", \"X-Z Plane\", 350, 0, 6000, 350, -750, 750)\n",
    "xvszstop = ROOT.TH2D(\"xvszstop\", \"X vs Z Stop\", 350, 0, 6000, 350, -750, 750)\n",
    "\n",
    "pad1.cd()\n",
    "for entryNum in range(0, tree.GetEntries()):\n",
    "    tree.GetEntry(entryNum)\n",
    "    if getattr(tree, \"ntrack\") == 0:\n",
    "        continue\n",
    "    startPosx = getattr(tree, \"startPosX\")[0]\n",
    "    startPosz = getattr(tree, \"startPosZ\")[0]\n",
    "    stopPosx = getattr(tree, \"stopPosX\")[0]\n",
    "    stopPosz = getattr(tree, \"stopPosZ\")[0]\n",
    "    if entryNum == 1414:\n",
    "        print(\"event number\", entryNum)\n",
    "        xvszstart.Fill(startPosz, startPosx)\n",
    "        xvszstop.Fill(stopPosz, stopPosx)\n",
    "        linex = ROOT.TLine(startPosz, startPosx, stopPosz, stopPosx)\n",
    "linex.SetLineColor(ROOT.kBlue)\n",
    "xvszstart.GetYaxis().SetTitle(\"X Position (cm)\")\n",
    "xvszstart.GetXaxis().SetTitle(\"Z Position (cm)\")\n",
    "xvszstart.Draw()\n",
    "xvszstop.Draw(\"same\")\n",
    "linex.Draw()\n",
    "\n",
    "yvszstart = ROOT.TH2D(\"yvszstart\", \"Y-Z Plane\", 350, 0, 6000, 350, -750, 750)\n",
    "yvszstop = ROOT.TH2D(\"yvszstop\", \"Y vs Z Stop\", 350, 0, 6000, 350, -750, 750)\n",
    "\n",
    "pad2.cd()\n",
    "for entryNum in range(0, tree.GetEntries()):\n",
    "    tree.GetEntry(entryNum)\n",
    "    if getattr(tree, \"ntrack\") == 0:\n",
    "        continue\n",
    "    startPosy = getattr(tree, \"startPosY\")[0]\n",
    "    startPosz = getattr(tree, \"startPosZ\")[0]\n",
    "    stopPosy = getattr(tree, \"stopPosY\")[0]\n",
    "    stopPosz = getattr(tree, \"stopPosZ\")[0]\n",
    "    if entryNum == 1414:\n",
    "        print(\"event number\", entryNum)\n",
    "        yvszstart.Fill(startPosz, startPosy)\n",
    "        yvszstop.Fill(stopPosz, stopPosy)\n",
    "        liney = ROOT.TLine(startPosz, startPosy, stopPosz, stopPosy)\n",
    "liney.SetLineColor(ROOT.kBlue)\n",
    "yvszstart.GetYaxis().SetTitle(\"Y Position (cm)\")\n",
    "yvszstart.GetXaxis().SetTitle(\"Z Position (cm)\")\n",
    "yvszstart.Draw()\n",
    "yvszstop.Draw(\"same\")\n",
    "liney.Draw()\n",
    "\n",
    "canv.Draw()\n",
    "\n"
   ]
  },
  {
   "cell_type": "code",
   "execution_count": 17,
   "id": "22b9f506",
   "metadata": {},
   "outputs": [
    {
     "name": "stdout",
     "output_type": "stream",
     "text": [
      "event number 1415\n",
      "event number 1415\n"
     ]
    },
    {
     "name": "stderr",
     "output_type": "stream",
     "text": [
      "Warning in <TCanvas::Constructor>: Deleting canvas with same name: c1\n",
      "Warning in <TFile::Append>: Replacing existing TH1: xvszstart (Potential memory leak).\n",
      "Warning in <TFile::Append>: Replacing existing TH1: xvszstop (Potential memory leak).\n",
      "Warning in <TFile::Append>: Replacing existing TH1: yvszstart (Potential memory leak).\n",
      "Warning in <TFile::Append>: Replacing existing TH1: yvszstop (Potential memory leak).\n"
     ]
    },
    {
     "data": {
      "image/png": "[encoded data removed]",
      "text/plain": [
       "<IPython.core.display.Image object>"
      ]
     },
     "metadata": {},
     "output_type": "display_data"
    }
   ],
   "source": [
    "canv = ROOT.TCanvas(\"c1\",\"Canvas 1\", 850, 550)\n",
    "pad1 = ROOT.TPad(\"pad1\",\"Pad 1\",0.05,0.52,0.95,0.97)\n",
    "pad2 = ROOT.TPad(\"pad2\",\"Pad 2\",0.05,0.02,0.95,0.47)\n",
    "pad1.Draw()\n",
    "pad2.Draw()\n",
    "\n",
    "xvszstart = ROOT.TH2D(\"xvszstart\", \"X-Z Plane\", 350, 0, 6000, 350, -750, 750)\n",
    "xvszstop = ROOT.TH2D(\"xvszstop\", \"X vs Z Stop\", 350, 0, 6000, 350, -750, 750)\n",
    "\n",
    "pad1.cd()\n",
    "for entryNum in range(0, tree.GetEntries()):\n",
    "    tree.GetEntry(entryNum)\n",
    "    if getattr(tree, \"ntrack\") == 0:\n",
    "        continue\n",
    "    startPosx = getattr(tree, \"startPosX\")[0]\n",
    "    startPosz = getattr(tree, \"startPosZ\")[0]\n",
    "    stopPosx = getattr(tree, \"stopPosX\")[0]\n",
    "    stopPosz = getattr(tree, \"stopPosZ\")[0]\n",
    "    if entryNum == 1415:\n",
    "        print(\"event number\", entryNum)\n",
    "        xvszstart.Fill(startPosz, startPosx)\n",
    "        xvszstop.Fill(stopPosz, stopPosx)\n",
    "        linex = ROOT.TLine(startPosz, startPosx, stopPosz, stopPosx)\n",
    "linex.SetLineColor(ROOT.kBlue)\n",
    "xvszstart.GetYaxis().SetTitle(\"X Position (cm)\")\n",
    "xvszstart.GetXaxis().SetTitle(\"Z Position (cm)\")\n",
    "xvszstart.Draw()\n",
    "xvszstop.Draw(\"same\")\n",
    "linex.Draw()\n",
    "\n",
    "yvszstart = ROOT.TH2D(\"yvszstart\", \"Y-Z Plane\", 350, 0, 6000, 350, -750, 750)\n",
    "yvszstop = ROOT.TH2D(\"yvszstop\", \"Y vs Z Stop\", 350, 0, 6000, 350, -750, 750)\n",
    "\n",
    "pad2.cd()\n",
    "for entryNum in range(0, tree.GetEntries()):\n",
    "    tree.GetEntry(entryNum)\n",
    "    if getattr(tree, \"ntrack\") == 0:\n",
    "        continue\n",
    "    startPosy = getattr(tree, \"startPosY\")[0]\n",
    "    startPosz = getattr(tree, \"startPosZ\")[0]\n",
    "    stopPosy = getattr(tree, \"stopPosY\")[0]\n",
    "    stopPosz = getattr(tree, \"stopPosZ\")[0]\n",
    "    if entryNum == 1415:\n",
    "        print(\"event number\", entryNum)\n",
    "        yvszstart.Fill(startPosz, startPosy)\n",
    "        yvszstop.Fill(stopPosz, stopPosy)\n",
    "        liney = ROOT.TLine(startPosz, startPosy, stopPosz, stopPosy)\n",
    "liney.SetLineColor(ROOT.kBlue)\n",
    "yvszstart.GetYaxis().SetTitle(\"Y Position (cm)\")\n",
    "yvszstart.GetXaxis().SetTitle(\"Z Position (cm)\")\n",
    "yvszstart.Draw()\n",
    "yvszstop.Draw(\"same\")\n",
    "liney.Draw()\n",
    "\n",
    "canv.Draw()\n",
    "\n"
   ]
  },
  {
   "cell_type": "code",
   "execution_count": 18,
   "id": "0c0d1f8c",
   "metadata": {},
   "outputs": [
    {
     "name": "stdout",
     "output_type": "stream",
     "text": [
      "event number 1416\n",
      "event number 1416\n"
     ]
    },
    {
     "name": "stderr",
     "output_type": "stream",
     "text": [
      "Warning in <TCanvas::Constructor>: Deleting canvas with same name: c1\n",
      "Warning in <TFile::Append>: Replacing existing TH1: xvszstart (Potential memory leak).\n",
      "Warning in <TFile::Append>: Replacing existing TH1: xvszstop (Potential memory leak).\n",
      "Warning in <TFile::Append>: Replacing existing TH1: yvszstart (Potential memory leak).\n",
      "Warning in <TFile::Append>: Replacing existing TH1: yvszstop (Potential memory leak).\n"
     ]
    },
    {
     "data": {
      "image/png": "[encoded data removed]",
      "text/plain": [
       "<IPython.core.display.Image object>"
      ]
     },
     "metadata": {},
     "output_type": "display_data"
    }
   ],
   "source": [
    "canv = ROOT.TCanvas(\"c1\",\"Canvas 1\", 850, 550)\n",
    "pad1 = ROOT.TPad(\"pad1\",\"Pad 1\",0.05,0.52,0.95,0.97)\n",
    "pad2 = ROOT.TPad(\"pad2\",\"Pad 2\",0.05,0.02,0.95,0.47)\n",
    "pad1.Draw()\n",
    "pad2.Draw()\n",
    "\n",
    "xvszstart = ROOT.TH2D(\"xvszstart\", \"X-Z Plane\", 350, 0, 6000, 350, -750, 750)\n",
    "xvszstop = ROOT.TH2D(\"xvszstop\", \"X vs Z Stop\", 350, 0, 6000, 350, -750, 750)\n",
    "\n",
    "pad1.cd()\n",
    "for entryNum in range(0, tree.GetEntries()):\n",
    "    tree.GetEntry(entryNum)\n",
    "    if getattr(tree, \"ntrack\") == 0:\n",
    "        continue\n",
    "    startPosx = getattr(tree, \"startPosX\")[0]\n",
    "    startPosz = getattr(tree, \"startPosZ\")[0]\n",
    "    stopPosx = getattr(tree, \"stopPosX\")[0]\n",
    "    stopPosz = getattr(tree, \"stopPosZ\")[0]\n",
    "    if entryNum == 1416:\n",
    "        print(\"event number\", entryNum)\n",
    "        xvszstart.Fill(startPosz, startPosx)\n",
    "        xvszstop.Fill(stopPosz, stopPosx)\n",
    "        linex = ROOT.TLine(startPosz, startPosx, stopPosz, stopPosx)\n",
    "linex.SetLineColor(ROOT.kBlue)\n",
    "xvszstart.GetYaxis().SetTitle(\"X Position (cm)\")\n",
    "xvszstart.GetXaxis().SetTitle(\"Z Position (cm)\")\n",
    "xvszstart.Draw()\n",
    "xvszstop.Draw(\"same\")\n",
    "linex.Draw()\n",
    "\n",
    "yvszstart = ROOT.TH2D(\"yvszstart\", \"Y-Z Plane\", 350, 0, 6000, 350, -750, 750)\n",
    "yvszstop = ROOT.TH2D(\"yvszstop\", \"Y vs Z Stop\", 350, 0, 6000, 350, -750, 750)\n",
    "\n",
    "pad2.cd()\n",
    "for entryNum in range(0, tree.GetEntries()):\n",
    "    tree.GetEntry(entryNum)\n",
    "    if getattr(tree, \"ntrack\") == 0:\n",
    "        continue\n",
    "    startPosy = getattr(tree, \"startPosY\")[0]\n",
    "    startPosz = getattr(tree, \"startPosZ\")[0]\n",
    "    stopPosy = getattr(tree, \"stopPosY\")[0]\n",
    "    stopPosz = getattr(tree, \"stopPosZ\")[0]\n",
    "    if entryNum == 1416:\n",
    "        print(\"event number\", entryNum)\n",
    "        yvszstart.Fill(startPosz, startPosy)\n",
    "        yvszstop.Fill(stopPosz, stopPosy)\n",
    "        liney = ROOT.TLine(startPosz, startPosy, stopPosz, stopPosy)\n",
    "liney.SetLineColor(ROOT.kBlue)\n",
    "yvszstart.GetYaxis().SetTitle(\"Y Position (cm)\")\n",
    "yvszstart.GetXaxis().SetTitle(\"Z Position (cm)\")\n",
    "yvszstart.Draw()\n",
    "yvszstop.Draw(\"same\")\n",
    "liney.Draw()\n",
    "\n",
    "canv.Draw()\n",
    "\n"
   ]
  },
  {
   "cell_type": "code",
   "execution_count": 19,
   "id": "044d5c91",
   "metadata": {},
   "outputs": [
    {
     "name": "stdout",
     "output_type": "stream",
     "text": [
      "event number 1417\n",
      "event number 1417\n"
     ]
    },
    {
     "name": "stderr",
     "output_type": "stream",
     "text": [
      "Warning in <TCanvas::Constructor>: Deleting canvas with same name: c1\n",
      "Warning in <TFile::Append>: Replacing existing TH1: xvszstart (Potential memory leak).\n",
      "Warning in <TFile::Append>: Replacing existing TH1: xvszstop (Potential memory leak).\n",
      "Warning in <TFile::Append>: Replacing existing TH1: yvszstart (Potential memory leak).\n",
      "Warning in <TFile::Append>: Replacing existing TH1: yvszstop (Potential memory leak).\n"
     ]
    },
    {
     "data": {
      "image/png": "[encoded data removed]",
      "text/plain": [
       "<IPython.core.display.Image object>"
      ]
     },
     "metadata": {},
     "output_type": "display_data"
    }
   ],
   "source": [
    "canv = ROOT.TCanvas(\"c1\",\"Canvas 1\", 850, 550)\n",
    "pad1 = ROOT.TPad(\"pad1\",\"Pad 1\",0.05,0.52,0.95,0.97)\n",
    "pad2 = ROOT.TPad(\"pad2\",\"Pad 2\",0.05,0.02,0.95,0.47)\n",
    "pad1.Draw()\n",
    "pad2.Draw()\n",
    "\n",
    "xvszstart = ROOT.TH2D(\"xvszstart\", \"X-Z Plane\", 350, 0, 6000, 350, -750, 750)\n",
    "xvszstop = ROOT.TH2D(\"xvszstop\", \"X vs Z Stop\", 350, 0, 6000, 350, -750, 750)\n",
    "\n",
    "pad1.cd()\n",
    "for entryNum in range(0, tree.GetEntries()):\n",
    "    tree.GetEntry(entryNum)\n",
    "    if getattr(tree, \"ntrack\") == 0:\n",
    "        continue\n",
    "    startPosx = getattr(tree, \"startPosX\")[0]\n",
    "    startPosz = getattr(tree, \"startPosZ\")[0]\n",
    "    stopPosx = getattr(tree, \"stopPosX\")[0]\n",
    "    stopPosz = getattr(tree, \"stopPosZ\")[0]\n",
    "    if entryNum == 1417:\n",
    "        print(\"event number\", entryNum)\n",
    "        xvszstart.Fill(startPosz, startPosx)\n",
    "        xvszstop.Fill(stopPosz, stopPosx)\n",
    "        linex = ROOT.TLine(startPosz, startPosx, stopPosz, stopPosx)\n",
    "linex.SetLineColor(ROOT.kBlue)\n",
    "xvszstart.GetYaxis().SetTitle(\"X Position (cm)\")\n",
    "xvszstart.GetXaxis().SetTitle(\"Z Position (cm)\")\n",
    "xvszstart.Draw()\n",
    "xvszstop.Draw(\"same\")\n",
    "linex.Draw()\n",
    "\n",
    "yvszstart = ROOT.TH2D(\"yvszstart\", \"Y-Z Plane\", 350, 0, 6000, 350, -750, 750)\n",
    "yvszstop = ROOT.TH2D(\"yvszstop\", \"Y vs Z Stop\", 350, 0, 6000, 350, -750, 750)\n",
    "\n",
    "pad2.cd()\n",
    "for entryNum in range(0, tree.GetEntries()):\n",
    "    tree.GetEntry(entryNum)\n",
    "    if getattr(tree, \"ntrack\") == 0:\n",
    "        continue\n",
    "    startPosy = getattr(tree, \"startPosY\")[0]\n",
    "    startPosz = getattr(tree, \"startPosZ\")[0]\n",
    "    stopPosy = getattr(tree, \"stopPosY\")[0]\n",
    "    stopPosz = getattr(tree, \"stopPosZ\")[0]\n",
    "    if entryNum == 1417:\n",
    "        print(\"event number\", entryNum)\n",
    "        yvszstart.Fill(startPosz, startPosy)\n",
    "        yvszstop.Fill(stopPosz, stopPosy)\n",
    "        liney = ROOT.TLine(startPosz, startPosy, stopPosz, stopPosy)\n",
    "liney.SetLineColor(ROOT.kBlue)\n",
    "yvszstart.GetYaxis().SetTitle(\"Y Position (cm)\")\n",
    "yvszstart.GetXaxis().SetTitle(\"Z Position (cm)\")\n",
    "yvszstart.Draw()\n",
    "yvszstop.Draw(\"same\")\n",
    "liney.Draw()\n",
    "\n",
    "canv.Draw()\n",
    "\n"
   ]
  },
  {
   "cell_type": "code",
   "execution_count": 20,
   "id": "11fe9b8e",
   "metadata": {},
   "outputs": [
    {
     "name": "stdout",
     "output_type": "stream",
     "text": [
      "event number 1418\n",
      "event number 1418\n"
     ]
    },
    {
     "name": "stderr",
     "output_type": "stream",
     "text": [
      "Warning in <TCanvas::Constructor>: Deleting canvas with same name: c1\n",
      "Warning in <TFile::Append>: Replacing existing TH1: xvszstart (Potential memory leak).\n",
      "Warning in <TFile::Append>: Replacing existing TH1: xvszstop (Potential memory leak).\n",
      "Warning in <TFile::Append>: Replacing existing TH1: yvszstart (Potential memory leak).\n",
      "Warning in <TFile::Append>: Replacing existing TH1: yvszstop (Potential memory leak).\n"
     ]
    },
    {
     "data": {
      "image/png": "[encoded data removed]",
      "text/plain": [
       "<IPython.core.display.Image object>"
      ]
     },
     "metadata": {},
     "output_type": "display_data"
    }
   ],
   "source": [
    "canv = ROOT.TCanvas(\"c1\",\"Canvas 1\", 850, 550)\n",
    "pad1 = ROOT.TPad(\"pad1\",\"Pad 1\",0.05,0.52,0.95,0.97)\n",
    "pad2 = ROOT.TPad(\"pad2\",\"Pad 2\",0.05,0.02,0.95,0.47)\n",
    "pad1.Draw()\n",
    "pad2.Draw()\n",
    "\n",
    "xvszstart = ROOT.TH2D(\"xvszstart\", \"X-Z Plane\", 350, 0, 6000, 350, -750, 750)\n",
    "xvszstop = ROOT.TH2D(\"xvszstop\", \"X vs Z Stop\", 350, 0, 6000, 350, -750, 750)\n",
    "\n",
    "pad1.cd()\n",
    "for entryNum in range(0, tree.GetEntries()):\n",
    "    tree.GetEntry(entryNum)\n",
    "    if getattr(tree, \"ntrack\") == 0:\n",
    "        continue\n",
    "    startPosx = getattr(tree, \"startPosX\")[0]\n",
    "    startPosz = getattr(tree, \"startPosZ\")[0]\n",
    "    stopPosx = getattr(tree, \"stopPosX\")[0]\n",
    "    stopPosz = getattr(tree, \"stopPosZ\")[0]\n",
    "    if entryNum == 1418:\n",
    "        print(\"event number\", entryNum)\n",
    "        xvszstart.Fill(startPosz, startPosx)\n",
    "        xvszstop.Fill(stopPosz, stopPosx)\n",
    "        linex = ROOT.TLine(startPosz, startPosx, stopPosz, stopPosx)\n",
    "linex.SetLineColor(ROOT.kBlue)\n",
    "xvszstart.GetYaxis().SetTitle(\"X Position (cm)\")\n",
    "xvszstart.GetXaxis().SetTitle(\"Z Position (cm)\")\n",
    "xvszstart.Draw()\n",
    "xvszstop.Draw(\"same\")\n",
    "linex.Draw()\n",
    "\n",
    "yvszstart = ROOT.TH2D(\"yvszstart\", \"Y-Z Plane\", 350, 0, 6000, 350, -750, 750)\n",
    "yvszstop = ROOT.TH2D(\"yvszstop\", \"Y vs Z Stop\", 350, 0, 6000, 350, -750, 750)\n",
    "\n",
    "pad2.cd()\n",
    "for entryNum in range(0, tree.GetEntries()):\n",
    "    tree.GetEntry(entryNum)\n",
    "    if getattr(tree, \"ntrack\") == 0:\n",
    "        continue\n",
    "    startPosy = getattr(tree, \"startPosY\")[0]\n",
    "    startPosz = getattr(tree, \"startPosZ\")[0]\n",
    "    stopPosy = getattr(tree, \"stopPosY\")[0]\n",
    "    stopPosz = getattr(tree, \"stopPosZ\")[0]\n",
    "    if entryNum == 1418:\n",
    "        print(\"event number\", entryNum)\n",
    "        yvszstart.Fill(startPosz, startPosy)\n",
    "        yvszstop.Fill(stopPosz, stopPosy)\n",
    "        liney = ROOT.TLine(startPosz, startPosy, stopPosz, stopPosy)\n",
    "liney.SetLineColor(ROOT.kBlue)\n",
    "yvszstart.GetYaxis().SetTitle(\"Y Position (cm)\")\n",
    "yvszstart.GetXaxis().SetTitle(\"Z Position (cm)\")\n",
    "yvszstart.Draw()\n",
    "yvszstop.Draw(\"same\")\n",
    "liney.Draw()\n",
    "\n",
    "canv.Draw()\n",
    "\n"
   ]
  },
  {
   "cell_type": "code",
   "execution_count": 21,
   "id": "06e7cd1b",
   "metadata": {},
   "outputs": [
    {
     "name": "stdout",
     "output_type": "stream",
     "text": [
      "event number 1419\n",
      "event number 1419\n"
     ]
    },
    {
     "name": "stderr",
     "output_type": "stream",
     "text": [
      "Warning in <TCanvas::Constructor>: Deleting canvas with same name: c1\n",
      "Warning in <TFile::Append>: Replacing existing TH1: xvszstart (Potential memory leak).\n",
      "Warning in <TFile::Append>: Replacing existing TH1: xvszstop (Potential memory leak).\n",
      "Warning in <TFile::Append>: Replacing existing TH1: yvszstart (Potential memory leak).\n",
      "Warning in <TFile::Append>: Replacing existing TH1: yvszstop (Potential memory leak).\n"
     ]
    },
    {
     "data": {
      "image/png": "[encoded data removed]",
      "text/plain": [
       "<IPython.core.display.Image object>"
      ]
     },
     "metadata": {},
     "output_type": "display_data"
    }
   ],
   "source": [
    "canv = ROOT.TCanvas(\"c1\",\"Canvas 1\", 850, 550)\n",
    "pad1 = ROOT.TPad(\"pad1\",\"Pad 1\",0.05,0.52,0.95,0.97)\n",
    "pad2 = ROOT.TPad(\"pad2\",\"Pad 2\",0.05,0.02,0.95,0.47)\n",
    "pad1.Draw()\n",
    "pad2.Draw()\n",
    "\n",
    "xvszstart = ROOT.TH2D(\"xvszstart\", \"X-Z Plane\", 350, 0, 6000, 350, -750, 750)\n",
    "xvszstop = ROOT.TH2D(\"xvszstop\", \"X vs Z Stop\", 350, 0, 6000, 350, -750, 750)\n",
    "\n",
    "pad1.cd()\n",
    "for entryNum in range(0, tree.GetEntries()):\n",
    "    tree.GetEntry(entryNum)\n",
    "    if getattr(tree, \"ntrack\") == 0:\n",
    "        continue\n",
    "    startPosx = getattr(tree, \"startPosX\")[0]\n",
    "    startPosz = getattr(tree, \"startPosZ\")[0]\n",
    "    stopPosx = getattr(tree, \"stopPosX\")[0]\n",
    "    stopPosz = getattr(tree, \"stopPosZ\")[0]\n",
    "    if entryNum == 1419:\n",
    "        print(\"event number\", entryNum)\n",
    "        xvszstart.Fill(startPosz, startPosx)\n",
    "        xvszstop.Fill(stopPosz, stopPosx)\n",
    "        linex = ROOT.TLine(startPosz, startPosx, stopPosz, stopPosx)\n",
    "linex.SetLineColor(ROOT.kBlue)\n",
    "xvszstart.GetYaxis().SetTitle(\"X Position (cm)\")\n",
    "xvszstart.GetXaxis().SetTitle(\"Z Position (cm)\")\n",
    "xvszstart.Draw()\n",
    "xvszstop.Draw(\"same\")\n",
    "linex.Draw()\n",
    "\n",
    "yvszstart = ROOT.TH2D(\"yvszstart\", \"Y-Z Plane\", 350, 0, 6000, 350, -750, 750)\n",
    "yvszstop = ROOT.TH2D(\"yvszstop\", \"Y vs Z Stop\", 350, 0, 6000, 350, -750, 750)\n",
    "\n",
    "pad2.cd()\n",
    "for entryNum in range(0, tree.GetEntries()):\n",
    "    tree.GetEntry(entryNum)\n",
    "    if getattr(tree, \"ntrack\") == 0:\n",
    "        continue\n",
    "    startPosy = getattr(tree, \"startPosY\")[0]\n",
    "    startPosz = getattr(tree, \"startPosZ\")[0]\n",
    "    stopPosy = getattr(tree, \"stopPosY\")[0]\n",
    "    stopPosz = getattr(tree, \"stopPosZ\")[0]\n",
    "    if entryNum == 1419:\n",
    "        print(\"event number\", entryNum)\n",
    "        yvszstart.Fill(startPosz, startPosy)\n",
    "        yvszstop.Fill(stopPosz, stopPosy)\n",
    "        liney = ROOT.TLine(startPosz, startPosy, stopPosz, stopPosy)\n",
    "liney.SetLineColor(ROOT.kBlue)\n",
    "yvszstart.GetYaxis().SetTitle(\"Y Position (cm)\")\n",
    "yvszstart.GetXaxis().SetTitle(\"Z Position (cm)\")\n",
    "yvszstart.Draw()\n",
    "yvszstop.Draw(\"same\")\n",
    "liney.Draw()\n",
    "\n",
    "canv.Draw()\n",
    "\n"
   ]
  },
  {
   "cell_type": "code",
   "execution_count": 24,
   "id": "b6185b90",
   "metadata": {},
   "outputs": [
    {
     "name": "stdout",
     "output_type": "stream",
     "text": [
      "event number 1420\n",
      "event number 1420\n"
     ]
    },
    {
     "name": "stderr",
     "output_type": "stream",
     "text": [
      "Warning in <TCanvas::Constructor>: Deleting canvas with same name: c1\n"
     ]
    },
    {
     "data": {
      "image/png": "[encoded data removed]",
      "text/plain": [
       "<IPython.core.display.Image object>"
      ]
     },
     "metadata": {},
     "output_type": "display_data"
    }
   ],
   "source": [
    "canv = ROOT.TCanvas(\"c1\",\"Canvas 1\", 850, 550)\n",
    "pad1 = ROOT.TPad(\"pad1\",\"Pad 1\",0.05,0.52,0.95,0.97)\n",
    "pad2 = ROOT.TPad(\"pad2\",\"Pad 2\",0.05,0.02,0.95,0.47)\n",
    "pad1.Draw()\n",
    "pad2.Draw()\n",
    "\n",
    "xvszstart = ROOT.TH2D(\"xvszstart\", \"X-Z Plane\", 350, 0, 6000, 350, -750, 750)\n",
    "xvszstop = ROOT.TH2D(\"xvszstop\", \"X vs Z Stop\", 350, 0, 6000, 350, -750, 750)\n",
    "\n",
    "pad1.cd()\n",
    "for entryNum in range(0, tree.GetEntries()):\n",
    "    tree.GetEntry(entryNum)\n",
    "    if getattr(tree, \"ntrack\") == 0:\n",
    "        continue\n",
    "    startPosx = getattr(tree, \"startPosX\")[0]\n",
    "    startPosz = getattr(tree, \"startPosZ\")[0]\n",
    "    stopPosx = getattr(tree, \"stopPosX\")[0]\n",
    "    stopPosz = getattr(tree, \"stopPosZ\")[0]\n",
    "    if entryNum == 1420:\n",
    "        print(\"event number\", entryNum)\n",
    "        xvszstart.Fill(startPosz, startPosx)\n",
    "        xvszstop.Fill(stopPosz, stopPosx)\n",
    "        linex = ROOT.TLine(startPosz, startPosx, stopPosz, stopPosx)\n",
    "linex.SetLineColor(ROOT.kBlue)\n",
    "xvszstart.GetYaxis().SetTitle(\"X Position (cm)\")\n",
    "xvszstart.GetXaxis().SetTitle(\"Z Position (cm)\")\n",
    "xvszstart.Draw()\n",
    "xvszstop.Draw(\"same\")\n",
    "linex.Draw()\n",
    "\n",
    "yvszstart = ROOT.TH2D(\"yvszstart\", \"Y-Z Plane\", 350, 0, 6000, 350, -750, 750)\n",
    "yvszstop = ROOT.TH2D(\"yvszstop\", \"Y vs Z Stop\", 350, 0, 6000, 350, -750, 750)\n",
    "\n",
    "pad2.cd()\n",
    "for entryNum in range(0, tree.GetEntries()):\n",
    "    tree.GetEntry(entryNum)\n",
    "    if getattr(tree, \"ntrack\") == 0:\n",
    "        continue\n",
    "    startPosy = getattr(tree, \"startPosY\")[0]\n",
    "    startPosz = getattr(tree, \"startPosZ\")[0]\n",
    "    stopPosy = getattr(tree, \"stopPosY\")[0]\n",
    "    stopPosz = getattr(tree, \"stopPosZ\")[0]\n",
    "    if entryNum == 1420:\n",
    "        print(\"event number\", entryNum)\n",
    "        yvszstart.Fill(startPosz, startPosy)\n",
    "        yvszstop.Fill(stopPosz, stopPosy)\n",
    "        liney = ROOT.TLine(startPosz, startPosy, stopPosz, stopPosy)\n",
    "liney.SetLineColor(ROOT.kBlue)\n",
    "yvszstart.GetYaxis().SetTitle(\"Y Position (cm)\")\n",
    "yvszstart.GetXaxis().SetTitle(\"Z Position (cm)\")\n",
    "yvszstart.Draw()\n",
    "yvszstop.Draw(\"same\")\n",
    "liney.Draw()\n",
    "\n",
    "canv.Draw()\n",
    "\n"
   ]
  },
  {
   "cell_type": "code",
   "execution_count": 25,
   "id": "1a73c963",
   "metadata": {},
   "outputs": [
    {
     "name": "stdout",
     "output_type": "stream",
     "text": [
      "event number 1421\n",
      "event number 1421\n"
     ]
    },
    {
     "name": "stderr",
     "output_type": "stream",
     "text": [
      "Warning in <TCanvas::Constructor>: Deleting canvas with same name: c1\n",
      "Warning in <TFile::Append>: Replacing existing TH1: xvszstart (Potential memory leak).\n",
      "Warning in <TFile::Append>: Replacing existing TH1: xvszstop (Potential memory leak).\n",
      "Warning in <TFile::Append>: Replacing existing TH1: yvszstart (Potential memory leak).\n",
      "Warning in <TFile::Append>: Replacing existing TH1: yvszstop (Potential memory leak).\n"
     ]
    },
    {
     "data": {
      "image/png": "[encoded data removed]",
      "text/plain": [
       "<IPython.core.display.Image object>"
      ]
     },
     "metadata": {},
     "output_type": "display_data"
    }
   ],
   "source": [
    "canv = ROOT.TCanvas(\"c1\",\"Canvas 1\", 850, 550)\n",
    "pad1 = ROOT.TPad(\"pad1\",\"Pad 1\",0.05,0.52,0.95,0.97)\n",
    "pad2 = ROOT.TPad(\"pad2\",\"Pad 2\",0.05,0.02,0.95,0.47)\n",
    "pad1.Draw()\n",
    "pad2.Draw()\n",
    "\n",
    "xvszstart = ROOT.TH2D(\"xvszstart\", \"X-Z Plane\", 350, 0, 6000, 350, -750, 750)\n",
    "xvszstop = ROOT.TH2D(\"xvszstop\", \"X vs Z Stop\", 350, 0, 6000, 350, -750, 750)\n",
    "\n",
    "pad1.cd()\n",
    "for entryNum in range(0, tree.GetEntries()):\n",
    "    tree.GetEntry(entryNum)\n",
    "    if getattr(tree, \"ntrack\") == 0:\n",
    "        continue\n",
    "    startPosx = getattr(tree, \"startPosX\")[0]\n",
    "    startPosz = getattr(tree, \"startPosZ\")[0]\n",
    "    stopPosx = getattr(tree, \"stopPosX\")[0]\n",
    "    stopPosz = getattr(tree, \"stopPosZ\")[0]\n",
    "    if entryNum == 1421:\n",
    "        print(\"event number\", entryNum)\n",
    "        xvszstart.Fill(startPosz, startPosx)\n",
    "        xvszstop.Fill(stopPosz, stopPosx)\n",
    "        linex = ROOT.TLine(startPosz, startPosx, stopPosz, stopPosx)\n",
    "linex.SetLineColor(ROOT.kBlue)\n",
    "xvszstart.GetYaxis().SetTitle(\"X Position (cm)\")\n",
    "xvszstart.GetXaxis().SetTitle(\"Z Position (cm)\")\n",
    "xvszstart.Draw()\n",
    "xvszstop.Draw(\"same\")\n",
    "linex.Draw()\n",
    "\n",
    "yvszstart = ROOT.TH2D(\"yvszstart\", \"Y-Z Plane\", 350, 0, 6000, 350, -750, 750)\n",
    "yvszstop = ROOT.TH2D(\"yvszstop\", \"Y vs Z Stop\", 350, 0, 6000, 350, -750, 750)\n",
    "\n",
    "pad2.cd()\n",
    "for entryNum in range(0, tree.GetEntries()):\n",
    "    tree.GetEntry(entryNum)\n",
    "    if getattr(tree, \"ntrack\") == 0:\n",
    "        continue\n",
    "    startPosy = getattr(tree, \"startPosY\")[0]\n",
    "    startPosz = getattr(tree, \"startPosZ\")[0]\n",
    "    stopPosy = getattr(tree, \"stopPosY\")[0]\n",
    "    stopPosz = getattr(tree, \"stopPosZ\")[0]\n",
    "    if entryNum == 1421:\n",
    "        print(\"event number\", entryNum)\n",
    "        yvszstart.Fill(startPosz, startPosy)\n",
    "        yvszstop.Fill(stopPosz, stopPosy)\n",
    "        liney = ROOT.TLine(startPosz, startPosy, stopPosz, stopPosy)\n",
    "liney.SetLineColor(ROOT.kBlue)\n",
    "yvszstart.GetYaxis().SetTitle(\"Y Position (cm)\")\n",
    "yvszstart.GetXaxis().SetTitle(\"Z Position (cm)\")\n",
    "yvszstart.Draw()\n",
    "yvszstop.Draw(\"same\")\n",
    "liney.Draw()\n",
    "\n",
    "canv.Draw()\n"
   ]
  },
  {
   "cell_type": "code",
   "execution_count": 26,
   "id": "50b7cbde",
   "metadata": {},
   "outputs": [
    {
     "name": "stdout",
     "output_type": "stream",
     "text": [
      "event number 1422\n",
      "event number 1422\n"
     ]
    },
    {
     "name": "stderr",
     "output_type": "stream",
     "text": [
      "Warning in <TCanvas::Constructor>: Deleting canvas with same name: c1\n",
      "Warning in <TFile::Append>: Replacing existing TH1: xvszstart (Potential memory leak).\n",
      "Warning in <TFile::Append>: Replacing existing TH1: xvszstop (Potential memory leak).\n",
      "Warning in <TFile::Append>: Replacing existing TH1: yvszstart (Potential memory leak).\n",
      "Warning in <TFile::Append>: Replacing existing TH1: yvszstop (Potential memory leak).\n"
     ]
    },
    {
     "data": {
      "image/png": "[encoded data removed]",
      "text/plain": [
       "<IPython.core.display.Image object>"
      ]
     },
     "metadata": {},
     "output_type": "display_data"
    }
   ],
   "source": [
    "canv = ROOT.TCanvas(\"c1\",\"Canvas 1\", 850, 550)\n",
    "pad1 = ROOT.TPad(\"pad1\",\"Pad 1\",0.05,0.52,0.95,0.97)\n",
    "pad2 = ROOT.TPad(\"pad2\",\"Pad 2\",0.05,0.02,0.95,0.47)\n",
    "pad1.Draw()\n",
    "pad2.Draw()\n",
    "\n",
    "xvszstart = ROOT.TH2D(\"xvszstart\", \"X-Z Plane\", 350, 0, 6000, 350, -750, 750)\n",
    "xvszstop = ROOT.TH2D(\"xvszstop\", \"X vs Z Stop\", 350, 0, 6000, 350, -750, 750)\n",
    "\n",
    "pad1.cd()\n",
    "for entryNum in range(0, tree.GetEntries()):\n",
    "    tree.GetEntry(entryNum)\n",
    "    if getattr(tree, \"ntrack\") == 0:\n",
    "        continue\n",
    "    startPosx = getattr(tree, \"startPosX\")[0]\n",
    "    startPosz = getattr(tree, \"startPosZ\")[0]\n",
    "    stopPosx = getattr(tree, \"stopPosX\")[0]\n",
    "    stopPosz = getattr(tree, \"stopPosZ\")[0]\n",
    "    if entryNum == 1422:\n",
    "        print(\"event number\", entryNum)\n",
    "        xvszstart.Fill(startPosz, startPosx)\n",
    "        xvszstop.Fill(stopPosz, stopPosx)\n",
    "        linex = ROOT.TLine(startPosz, startPosx, stopPosz, stopPosx)\n",
    "linex.SetLineColor(ROOT.kBlue)\n",
    "xvszstart.GetYaxis().SetTitle(\"X Position (cm)\")\n",
    "xvszstart.GetXaxis().SetTitle(\"Z Position (cm)\")\n",
    "xvszstart.Draw()\n",
    "xvszstop.Draw(\"same\")\n",
    "linex.Draw()\n",
    "\n",
    "yvszstart = ROOT.TH2D(\"yvszstart\", \"Y-Z Plane\", 350, 0, 6000, 350, -750, 750)\n",
    "yvszstop = ROOT.TH2D(\"yvszstop\", \"Y vs Z Stop\", 350, 0, 6000, 350, -750, 750)\n",
    "\n",
    "pad2.cd()\n",
    "for entryNum in range(0, tree.GetEntries()):\n",
    "    tree.GetEntry(entryNum)\n",
    "    if getattr(tree, \"ntrack\") == 0:\n",
    "        continue\n",
    "    startPosy = getattr(tree, \"startPosY\")[0]\n",
    "    startPosz = getattr(tree, \"startPosZ\")[0]\n",
    "    stopPosy = getattr(tree, \"stopPosY\")[0]\n",
    "    stopPosz = getattr(tree, \"stopPosZ\")[0]\n",
    "    if entryNum == 1422:\n",
    "        print(\"event number\", entryNum)\n",
    "        yvszstart.Fill(startPosz, startPosy)\n",
    "        yvszstop.Fill(stopPosz, stopPosy)\n",
    "        liney = ROOT.TLine(startPosz, startPosy, stopPosz, stopPosy)\n",
    "liney.SetLineColor(ROOT.kBlue)\n",
    "yvszstart.GetYaxis().SetTitle(\"Y Position (cm)\")\n",
    "yvszstart.GetXaxis().SetTitle(\"Z Position (cm)\")\n",
    "yvszstart.Draw()\n",
    "yvszstop.Draw(\"same\")\n",
    "liney.Draw()\n",
    "\n",
    "canv.Draw()\n"
   ]
  },
  {
   "cell_type": "code",
   "execution_count": 27,
   "id": "36c42784",
   "metadata": {},
   "outputs": [
    {
     "name": "stdout",
     "output_type": "stream",
     "text": [
      "event number 1423\n",
      "event number 1423\n"
     ]
    },
    {
     "name": "stderr",
     "output_type": "stream",
     "text": [
      "Warning in <TCanvas::Constructor>: Deleting canvas with same name: c1\n",
      "Warning in <TFile::Append>: Replacing existing TH1: xvszstart (Potential memory leak).\n",
      "Warning in <TFile::Append>: Replacing existing TH1: xvszstop (Potential memory leak).\n",
      "Warning in <TFile::Append>: Replacing existing TH1: yvszstart (Potential memory leak).\n",
      "Warning in <TFile::Append>: Replacing existing TH1: yvszstop (Potential memory leak).\n"
     ]
    },
    {
     "data": {
      "image/png": "[encoded data removed]",
      "text/plain": [
       "<IPython.core.display.Image object>"
      ]
     },
     "metadata": {},
     "output_type": "display_data"
    }
   ],
   "source": [
    "canv = ROOT.TCanvas(\"c1\",\"Canvas 1\", 850, 550)\n",
    "pad1 = ROOT.TPad(\"pad1\",\"Pad 1\",0.05,0.52,0.95,0.97)\n",
    "pad2 = ROOT.TPad(\"pad2\",\"Pad 2\",0.05,0.02,0.95,0.47)\n",
    "pad1.Draw()\n",
    "pad2.Draw()\n",
    "\n",
    "xvszstart = ROOT.TH2D(\"xvszstart\", \"X-Z Plane\", 350, 0, 6000, 350, -750, 750)\n",
    "xvszstop = ROOT.TH2D(\"xvszstop\", \"X vs Z Stop\", 350, 0, 6000, 350, -750, 750)\n",
    "\n",
    "pad1.cd()\n",
    "for entryNum in range(0, tree.GetEntries()):\n",
    "    tree.GetEntry(entryNum)\n",
    "    if getattr(tree, \"ntrack\") == 0:\n",
    "        continue\n",
    "    startPosx = getattr(tree, \"startPosX\")[0]\n",
    "    startPosz = getattr(tree, \"startPosZ\")[0]\n",
    "    stopPosx = getattr(tree, \"stopPosX\")[0]\n",
    "    stopPosz = getattr(tree, \"stopPosZ\")[0]\n",
    "    if entryNum == 1423:\n",
    "        print(\"event number\", entryNum)\n",
    "        xvszstart.Fill(startPosz, startPosx)\n",
    "        xvszstop.Fill(stopPosz, stopPosx)\n",
    "        linex = ROOT.TLine(startPosz, startPosx, stopPosz, stopPosx)\n",
    "linex.SetLineColor(ROOT.kBlue)\n",
    "xvszstart.GetYaxis().SetTitle(\"X Position (cm)\")\n",
    "xvszstart.GetXaxis().SetTitle(\"Z Position (cm)\")\n",
    "xvszstart.Draw()\n",
    "xvszstop.Draw(\"same\")\n",
    "linex.Draw()\n",
    "\n",
    "yvszstart = ROOT.TH2D(\"yvszstart\", \"Y-Z Plane\", 350, 0, 6000, 350, -750, 750)\n",
    "yvszstop = ROOT.TH2D(\"yvszstop\", \"Y vs Z Stop\", 350, 0, 6000, 350, -750, 750)\n",
    "\n",
    "pad2.cd()\n",
    "for entryNum in range(0, tree.GetEntries()):\n",
    "    tree.GetEntry(entryNum)\n",
    "    if getattr(tree, \"ntrack\") == 0:\n",
    "        continue\n",
    "    startPosy = getattr(tree, \"startPosY\")[0]\n",
    "    startPosz = getattr(tree, \"startPosZ\")[0]\n",
    "    stopPosy = getattr(tree, \"stopPosY\")[0]\n",
    "    stopPosz = getattr(tree, \"stopPosZ\")[0]\n",
    "    if entryNum == 1423:\n",
    "        print(\"event number\", entryNum)\n",
    "        yvszstart.Fill(startPosz, startPosy)\n",
    "        yvszstop.Fill(stopPosz, stopPosy)\n",
    "        liney = ROOT.TLine(startPosz, startPosy, stopPosz, stopPosy)\n",
    "liney.SetLineColor(ROOT.kBlue)\n",
    "yvszstart.GetYaxis().SetTitle(\"Y Position (cm)\")\n",
    "yvszstart.GetXaxis().SetTitle(\"Z Position (cm)\")\n",
    "yvszstart.Draw()\n",
    "yvszstop.Draw(\"same\")\n",
    "liney.Draw()\n",
    "\n",
    "canv.Draw()\n"
   ]
  },
  {
   "cell_type": "code",
   "execution_count": 28,
   "id": "9638a436",
   "metadata": {},
   "outputs": [
    {
     "name": "stdout",
     "output_type": "stream",
     "text": [
      "event number 1424\n",
      "event number 1424\n"
     ]
    },
    {
     "name": "stderr",
     "output_type": "stream",
     "text": [
      "Warning in <TCanvas::Constructor>: Deleting canvas with same name: c1\n",
      "Warning in <TFile::Append>: Replacing existing TH1: xvszstart (Potential memory leak).\n",
      "Warning in <TFile::Append>: Replacing existing TH1: xvszstop (Potential memory leak).\n",
      "Warning in <TFile::Append>: Replacing existing TH1: yvszstart (Potential memory leak).\n",
      "Warning in <TFile::Append>: Replacing existing TH1: yvszstop (Potential memory leak).\n"
     ]
    },
    {
     "data": {
      "image/png": "[encoded data removed]",
      "text/plain": [
       "<IPython.core.display.Image object>"
      ]
     },
     "metadata": {},
     "output_type": "display_data"
    }
   ],
   "source": [
    "canv = ROOT.TCanvas(\"c1\",\"Canvas 1\", 850, 550)\n",
    "pad1 = ROOT.TPad(\"pad1\",\"Pad 1\",0.05,0.52,0.95,0.97)\n",
    "pad2 = ROOT.TPad(\"pad2\",\"Pad 2\",0.05,0.02,0.95,0.47)\n",
    "pad1.Draw()\n",
    "pad2.Draw()\n",
    "\n",
    "xvszstart = ROOT.TH2D(\"xvszstart\", \"X-Z Plane\", 350, 0, 6000, 350, -750, 750)\n",
    "xvszstop = ROOT.TH2D(\"xvszstop\", \"X vs Z Stop\", 350, 0, 6000, 350, -750, 750)\n",
    "\n",
    "pad1.cd()\n",
    "for entryNum in range(0, tree.GetEntries()):\n",
    "    tree.GetEntry(entryNum)\n",
    "    if getattr(tree, \"ntrack\") == 0:\n",
    "        continue\n",
    "    startPosx = getattr(tree, \"startPosX\")[0]\n",
    "    startPosz = getattr(tree, \"startPosZ\")[0]\n",
    "    stopPosx = getattr(tree, \"stopPosX\")[0]\n",
    "    stopPosz = getattr(tree, \"stopPosZ\")[0]\n",
    "    if entryNum == 1424:\n",
    "        print(\"event number\", entryNum)\n",
    "        xvszstart.Fill(startPosz, startPosx)\n",
    "        xvszstop.Fill(stopPosz, stopPosx)\n",
    "        linex = ROOT.TLine(startPosz, startPosx, stopPosz, stopPosx)\n",
    "linex.SetLineColor(ROOT.kBlue)\n",
    "xvszstart.GetYaxis().SetTitle(\"X Position (cm)\")\n",
    "xvszstart.GetXaxis().SetTitle(\"Z Position (cm)\")\n",
    "xvszstart.Draw()\n",
    "xvszstop.Draw(\"same\")\n",
    "linex.Draw()\n",
    "\n",
    "yvszstart = ROOT.TH2D(\"yvszstart\", \"Y-Z Plane\", 350, 0, 6000, 350, -750, 750)\n",
    "yvszstop = ROOT.TH2D(\"yvszstop\", \"Y vs Z Stop\", 350, 0, 6000, 350, -750, 750)\n",
    "\n",
    "pad2.cd()\n",
    "for entryNum in range(0, tree.GetEntries()):\n",
    "    tree.GetEntry(entryNum)\n",
    "    if getattr(tree, \"ntrack\") == 0:\n",
    "        continue\n",
    "    startPosy = getattr(tree, \"startPosY\")[0]\n",
    "    startPosz = getattr(tree, \"startPosZ\")[0]\n",
    "    stopPosy = getattr(tree, \"stopPosY\")[0]\n",
    "    stopPosz = getattr(tree, \"stopPosZ\")[0]\n",
    "    if entryNum == 1424:\n",
    "        print(\"event number\", entryNum)\n",
    "        yvszstart.Fill(startPosz, startPosy)\n",
    "        yvszstop.Fill(stopPosz, stopPosy)\n",
    "        liney = ROOT.TLine(startPosz, startPosy, stopPosz, stopPosy)\n",
    "liney.SetLineColor(ROOT.kBlue)\n",
    "yvszstart.GetYaxis().SetTitle(\"Y Position (cm)\")\n",
    "yvszstart.GetXaxis().SetTitle(\"Z Position (cm)\")\n",
    "yvszstart.Draw()\n",
    "yvszstop.Draw(\"same\")\n",
    "liney.Draw()\n",
    "\n",
    "canv.Draw()\n"
   ]
  },
  {
   "cell_type": "code",
   "execution_count": 29,
   "id": "09d0c88a",
   "metadata": {},
   "outputs": [
    {
     "name": "stdout",
     "output_type": "stream",
     "text": [
      "event number 1425\n",
      "event number 1425\n"
     ]
    },
    {
     "name": "stderr",
     "output_type": "stream",
     "text": [
      "Warning in <TCanvas::Constructor>: Deleting canvas with same name: c1\n",
      "Warning in <TFile::Append>: Replacing existing TH1: xvszstart (Potential memory leak).\n",
      "Warning in <TFile::Append>: Replacing existing TH1: xvszstop (Potential memory leak).\n",
      "Warning in <TFile::Append>: Replacing existing TH1: yvszstart (Potential memory leak).\n",
      "Warning in <TFile::Append>: Replacing existing TH1: yvszstop (Potential memory leak).\n"
     ]
    },
    {
     "data": {
      "image/png": "[encoded data removed]",
      "text/plain": [
       "<IPython.core.display.Image object>"
      ]
     },
     "metadata": {},
     "output_type": "display_data"
    }
   ],
   "source": [
    "canv = ROOT.TCanvas(\"c1\",\"Canvas 1\", 850, 550)\n",
    "pad1 = ROOT.TPad(\"pad1\",\"Pad 1\",0.05,0.52,0.95,0.97)\n",
    "pad2 = ROOT.TPad(\"pad2\",\"Pad 2\",0.05,0.02,0.95,0.47)\n",
    "pad1.Draw()\n",
    "pad2.Draw()\n",
    "\n",
    "xvszstart = ROOT.TH2D(\"xvszstart\", \"X-Z Plane\", 350, 0, 6000, 350, -750, 750)\n",
    "xvszstop = ROOT.TH2D(\"xvszstop\", \"X vs Z Stop\", 350, 0, 6000, 350, -750, 750)\n",
    "\n",
    "pad1.cd()\n",
    "for entryNum in range(0, tree.GetEntries()):\n",
    "    tree.GetEntry(entryNum)\n",
    "    if getattr(tree, \"ntrack\") == 0:\n",
    "        continue\n",
    "    startPosx = getattr(tree, \"startPosX\")[0]\n",
    "    startPosz = getattr(tree, \"startPosZ\")[0]\n",
    "    stopPosx = getattr(tree, \"stopPosX\")[0]\n",
    "    stopPosz = getattr(tree, \"stopPosZ\")[0]\n",
    "    if entryNum == 1425:\n",
    "        print(\"event number\", entryNum)\n",
    "        xvszstart.Fill(startPosz, startPosx)\n",
    "        xvszstop.Fill(stopPosz, stopPosx)\n",
    "        linex = ROOT.TLine(startPosz, startPosx, stopPosz, stopPosx)\n",
    "linex.SetLineColor(ROOT.kBlue)\n",
    "xvszstart.GetYaxis().SetTitle(\"X Position (cm)\")\n",
    "xvszstart.GetXaxis().SetTitle(\"Z Position (cm)\")\n",
    "xvszstart.Draw()\n",
    "xvszstop.Draw(\"same\")\n",
    "linex.Draw()\n",
    "\n",
    "yvszstart = ROOT.TH2D(\"yvszstart\", \"Y-Z Plane\", 350, 0, 6000, 350, -750, 750)\n",
    "yvszstop = ROOT.TH2D(\"yvszstop\", \"Y vs Z Stop\", 350, 0, 6000, 350, -750, 750)\n",
    "\n",
    "pad2.cd()\n",
    "for entryNum in range(0, tree.GetEntries()):\n",
    "    tree.GetEntry(entryNum)\n",
    "    if getattr(tree, \"ntrack\") == 0:\n",
    "        continue\n",
    "    startPosy = getattr(tree, \"startPosY\")[0]\n",
    "    startPosz = getattr(tree, \"startPosZ\")[0]\n",
    "    stopPosy = getattr(tree, \"stopPosY\")[0]\n",
    "    stopPosz = getattr(tree, \"stopPosZ\")[0]\n",
    "    if entryNum == 1425:\n",
    "        print(\"event number\", entryNum)\n",
    "        yvszstart.Fill(startPosz, startPosy)\n",
    "        yvszstop.Fill(stopPosz, stopPosy)\n",
    "        liney = ROOT.TLine(startPosz, startPosy, stopPosz, stopPosy)\n",
    "liney.SetLineColor(ROOT.kBlue)\n",
    "yvszstart.GetYaxis().SetTitle(\"Y Position (cm)\")\n",
    "yvszstart.GetXaxis().SetTitle(\"Z Position (cm)\")\n",
    "yvszstart.Draw()\n",
    "yvszstop.Draw(\"same\")\n",
    "liney.Draw()\n",
    "\n",
    "canv.Draw()\n"
   ]
  },
  {
   "cell_type": "code",
   "execution_count": 30,
   "id": "e5a54fdd",
   "metadata": {},
   "outputs": [
    {
     "name": "stdout",
     "output_type": "stream",
     "text": [
      "event number 1426\n",
      "event number 1426\n"
     ]
    },
    {
     "name": "stderr",
     "output_type": "stream",
     "text": [
      "Warning in <TCanvas::Constructor>: Deleting canvas with same name: c1\n",
      "Warning in <TFile::Append>: Replacing existing TH1: xvszstart (Potential memory leak).\n",
      "Warning in <TFile::Append>: Replacing existing TH1: xvszstop (Potential memory leak).\n",
      "Warning in <TFile::Append>: Replacing existing TH1: yvszstart (Potential memory leak).\n",
      "Warning in <TFile::Append>: Replacing existing TH1: yvszstop (Potential memory leak).\n"
     ]
    },
    {
     "data": {
      "image/png": "[encoded data removed]",
      "text/plain": [
       "<IPython.core.display.Image object>"
      ]
     },
     "metadata": {},
     "output_type": "display_data"
    }
   ],
   "source": [
    "canv = ROOT.TCanvas(\"c1\",\"Canvas 1\", 850, 550)\n",
    "pad1 = ROOT.TPad(\"pad1\",\"Pad 1\",0.05,0.52,0.95,0.97)\n",
    "pad2 = ROOT.TPad(\"pad2\",\"Pad 2\",0.05,0.02,0.95,0.47)\n",
    "pad1.Draw()\n",
    "pad2.Draw()\n",
    "\n",
    "xvszstart = ROOT.TH2D(\"xvszstart\", \"X-Z Plane\", 350, 0, 6000, 350, -750, 750)\n",
    "xvszstop = ROOT.TH2D(\"xvszstop\", \"X vs Z Stop\", 350, 0, 6000, 350, -750, 750)\n",
    "\n",
    "pad1.cd()\n",
    "for entryNum in range(0, tree.GetEntries()):\n",
    "    tree.GetEntry(entryNum)\n",
    "    if getattr(tree, \"ntrack\") == 0:\n",
    "        continue\n",
    "    startPosx = getattr(tree, \"startPosX\")[0]\n",
    "    startPosz = getattr(tree, \"startPosZ\")[0]\n",
    "    stopPosx = getattr(tree, \"stopPosX\")[0]\n",
    "    stopPosz = getattr(tree, \"stopPosZ\")[0]\n",
    "    if entryNum == 1426:\n",
    "        print(\"event number\", entryNum)\n",
    "        xvszstart.Fill(startPosz, startPosx)\n",
    "        xvszstop.Fill(stopPosz, stopPosx)\n",
    "        linex = ROOT.TLine(startPosz, startPosx, stopPosz, stopPosx)\n",
    "linex.SetLineColor(ROOT.kBlue)\n",
    "xvszstart.GetYaxis().SetTitle(\"X Position (cm)\")\n",
    "xvszstart.GetXaxis().SetTitle(\"Z Position (cm)\")\n",
    "xvszstart.Draw()\n",
    "xvszstop.Draw(\"same\")\n",
    "linex.Draw()\n",
    "\n",
    "yvszstart = ROOT.TH2D(\"yvszstart\", \"Y-Z Plane\", 350, 0, 6000, 350, -750, 750)\n",
    "yvszstop = ROOT.TH2D(\"yvszstop\", \"Y vs Z Stop\", 350, 0, 6000, 350, -750, 750)\n",
    "\n",
    "pad2.cd()\n",
    "for entryNum in range(0, tree.GetEntries()):\n",
    "    tree.GetEntry(entryNum)\n",
    "    if getattr(tree, \"ntrack\") == 0:\n",
    "        continue\n",
    "    startPosy = getattr(tree, \"startPosY\")[0]\n",
    "    startPosz = getattr(tree, \"startPosZ\")[0]\n",
    "    stopPosy = getattr(tree, \"stopPosY\")[0]\n",
    "    stopPosz = getattr(tree, \"stopPosZ\")[0]\n",
    "    if entryNum == 1426:\n",
    "        print(\"event number\", entryNum)\n",
    "        yvszstart.Fill(startPosz, startPosy)\n",
    "        yvszstop.Fill(stopPosz, stopPosy)\n",
    "        liney = ROOT.TLine(startPosz, startPosy, stopPosz, stopPosy)\n",
    "liney.SetLineColor(ROOT.kBlue)\n",
    "yvszstart.GetYaxis().SetTitle(\"Y Position (cm)\")\n",
    "yvszstart.GetXaxis().SetTitle(\"Z Position (cm)\")\n",
    "yvszstart.Draw()\n",
    "yvszstop.Draw(\"same\")\n",
    "liney.Draw()\n",
    "\n",
    "canv.Draw()\n"
   ]
  },
  {
   "cell_type": "code",
   "execution_count": 31,
   "id": "10b0d66b",
   "metadata": {},
   "outputs": [
    {
     "name": "stdout",
     "output_type": "stream",
     "text": [
      "event number 1427\n",
      "event number 1427\n"
     ]
    },
    {
     "name": "stderr",
     "output_type": "stream",
     "text": [
      "Warning in <TCanvas::Constructor>: Deleting canvas with same name: c1\n",
      "Warning in <TFile::Append>: Replacing existing TH1: xvszstart (Potential memory leak).\n",
      "Warning in <TFile::Append>: Replacing existing TH1: xvszstop (Potential memory leak).\n",
      "Warning in <TFile::Append>: Replacing existing TH1: yvszstart (Potential memory leak).\n",
      "Warning in <TFile::Append>: Replacing existing TH1: yvszstop (Potential memory leak).\n"
     ]
    },
    {
     "data": {
      "image/png": "[encoded data removed]",
      "text/plain": [
       "<IPython.core.display.Image object>"
      ]
     },
     "metadata": {},
     "output_type": "display_data"
    }
   ],
   "source": [
    "canv = ROOT.TCanvas(\"c1\",\"Canvas 1\", 850, 550)\n",
    "pad1 = ROOT.TPad(\"pad1\",\"Pad 1\",0.05,0.52,0.95,0.97)\n",
    "pad2 = ROOT.TPad(\"pad2\",\"Pad 2\",0.05,0.02,0.95,0.47)\n",
    "pad1.Draw()\n",
    "pad2.Draw()\n",
    "\n",
    "xvszstart = ROOT.TH2D(\"xvszstart\", \"X-Z Plane\", 350, 0, 6000, 350, -750, 750)\n",
    "xvszstop = ROOT.TH2D(\"xvszstop\", \"X vs Z Stop\", 350, 0, 6000, 350, -750, 750)\n",
    "\n",
    "pad1.cd()\n",
    "for entryNum in range(0, tree.GetEntries()):\n",
    "    tree.GetEntry(entryNum)\n",
    "    if getattr(tree, \"ntrack\") == 0:\n",
    "        continue\n",
    "    startPosx = getattr(tree, \"startPosX\")[0]\n",
    "    startPosz = getattr(tree, \"startPosZ\")[0]\n",
    "    stopPosx = getattr(tree, \"stopPosX\")[0]\n",
    "    stopPosz = getattr(tree, \"stopPosZ\")[0]\n",
    "    if entryNum == 1427:\n",
    "        print(\"event number\", entryNum)\n",
    "        xvszstart.Fill(startPosz, startPosx)\n",
    "        xvszstop.Fill(stopPosz, stopPosx)\n",
    "        linex = ROOT.TLine(startPosz, startPosx, stopPosz, stopPosx)\n",
    "linex.SetLineColor(ROOT.kBlue)\n",
    "xvszstart.GetYaxis().SetTitle(\"X Position (cm)\")\n",
    "xvszstart.GetXaxis().SetTitle(\"Z Position (cm)\")\n",
    "xvszstart.Draw()\n",
    "xvszstop.Draw(\"same\")\n",
    "linex.Draw()\n",
    "\n",
    "yvszstart = ROOT.TH2D(\"yvszstart\", \"Y-Z Plane\", 350, 0, 6000, 350, -750, 750)\n",
    "yvszstop = ROOT.TH2D(\"yvszstop\", \"Y vs Z Stop\", 350, 0, 6000, 350, -750, 750)\n",
    "\n",
    "pad2.cd()\n",
    "for entryNum in range(0, tree.GetEntries()):\n",
    "    tree.GetEntry(entryNum)\n",
    "    if getattr(tree, \"ntrack\") == 0:\n",
    "        continue\n",
    "    startPosy = getattr(tree, \"startPosY\")[0]\n",
    "    startPosz = getattr(tree, \"startPosZ\")[0]\n",
    "    stopPosy = getattr(tree, \"stopPosY\")[0]\n",
    "    stopPosz = getattr(tree, \"stopPosZ\")[0]\n",
    "    if entryNum == 1427:\n",
    "        print(\"event number\", entryNum)\n",
    "        yvszstart.Fill(startPosz, startPosy)\n",
    "        yvszstop.Fill(stopPosz, stopPosy)\n",
    "        liney = ROOT.TLine(startPosz, startPosy, stopPosz, stopPosy)\n",
    "liney.SetLineColor(ROOT.kBlue)\n",
    "yvszstart.GetYaxis().SetTitle(\"Y Position (cm)\")\n",
    "yvszstart.GetXaxis().SetTitle(\"Z Position (cm)\")\n",
    "yvszstart.Draw()\n",
    "yvszstop.Draw(\"same\")\n",
    "liney.Draw()\n",
    "\n",
    "canv.Draw()\n"
   ]
  },
  {
   "cell_type": "code",
   "execution_count": 32,
   "id": "457cf879",
   "metadata": {},
   "outputs": [
    {
     "name": "stdout",
     "output_type": "stream",
     "text": [
      "event number 1428\n",
      "event number 1428\n"
     ]
    },
    {
     "name": "stderr",
     "output_type": "stream",
     "text": [
      "Warning in <TCanvas::Constructor>: Deleting canvas with same name: c1\n",
      "Warning in <TFile::Append>: Replacing existing TH1: xvszstart (Potential memory leak).\n",
      "Warning in <TFile::Append>: Replacing existing TH1: xvszstop (Potential memory leak).\n",
      "Warning in <TFile::Append>: Replacing existing TH1: yvszstart (Potential memory leak).\n",
      "Warning in <TFile::Append>: Replacing existing TH1: yvszstop (Potential memory leak).\n"
     ]
    },
    {
     "data": {
      "image/png": "[encoded data removed]",
      "text/plain": [
       "<IPython.core.display.Image object>"
      ]
     },
     "metadata": {},
     "output_type": "display_data"
    }
   ],
   "source": [
    "canv = ROOT.TCanvas(\"c1\",\"Canvas 1\", 850, 550)\n",
    "pad1 = ROOT.TPad(\"pad1\",\"Pad 1\",0.05,0.52,0.95,0.97)\n",
    "pad2 = ROOT.TPad(\"pad2\",\"Pad 2\",0.05,0.02,0.95,0.47)\n",
    "pad1.Draw()\n",
    "pad2.Draw()\n",
    "\n",
    "xvszstart = ROOT.TH2D(\"xvszstart\", \"X-Z Plane\", 350, 0, 6000, 350, -750, 750)\n",
    "xvszstop = ROOT.TH2D(\"xvszstop\", \"X vs Z Stop\", 350, 0, 6000, 350, -750, 750)\n",
    "\n",
    "pad1.cd()\n",
    "for entryNum in range(0, tree.GetEntries()):\n",
    "    tree.GetEntry(entryNum)\n",
    "    if getattr(tree, \"ntrack\") == 0:\n",
    "        continue\n",
    "    startPosx = getattr(tree, \"startPosX\")[0]\n",
    "    startPosz = getattr(tree, \"startPosZ\")[0]\n",
    "    stopPosx = getattr(tree, \"stopPosX\")[0]\n",
    "    stopPosz = getattr(tree, \"stopPosZ\")[0]\n",
    "    if entryNum == 1428:\n",
    "        print(\"event number\", entryNum)\n",
    "        xvszstart.Fill(startPosz, startPosx)\n",
    "        xvszstop.Fill(stopPosz, stopPosx)\n",
    "        linex = ROOT.TLine(startPosz, startPosx, stopPosz, stopPosx)\n",
    "linex.SetLineColor(ROOT.kBlue)\n",
    "xvszstart.GetYaxis().SetTitle(\"X Position (cm)\")\n",
    "xvszstart.GetXaxis().SetTitle(\"Z Position (cm)\")\n",
    "xvszstart.Draw()\n",
    "xvszstop.Draw(\"same\")\n",
    "linex.Draw()\n",
    "\n",
    "yvszstart = ROOT.TH2D(\"yvszstart\", \"Y-Z Plane\", 350, 0, 6000, 350, -750, 750)\n",
    "yvszstop = ROOT.TH2D(\"yvszstop\", \"Y vs Z Stop\", 350, 0, 6000, 350, -750, 750)\n",
    "\n",
    "pad2.cd()\n",
    "for entryNum in range(0, tree.GetEntries()):\n",
    "    tree.GetEntry(entryNum)\n",
    "    if getattr(tree, \"ntrack\") == 0:\n",
    "        continue\n",
    "    startPosy = getattr(tree, \"startPosY\")[0]\n",
    "    startPosz = getattr(tree, \"startPosZ\")[0]\n",
    "    stopPosy = getattr(tree, \"stopPosY\")[0]\n",
    "    stopPosz = getattr(tree, \"stopPosZ\")[0]\n",
    "    if entryNum == 1428:\n",
    "        print(\"event number\", entryNum)\n",
    "        yvszstart.Fill(startPosz, startPosy)\n",
    "        yvszstop.Fill(stopPosz, stopPosy)\n",
    "        liney = ROOT.TLine(startPosz, startPosy, stopPosz, stopPosy)\n",
    "liney.SetLineColor(ROOT.kBlue)\n",
    "yvszstart.GetYaxis().SetTitle(\"Y Position (cm)\")\n",
    "yvszstart.GetXaxis().SetTitle(\"Z Position (cm)\")\n",
    "yvszstart.Draw()\n",
    "yvszstop.Draw(\"same\")\n",
    "liney.Draw()\n",
    "\n",
    "canv.Draw()\n"
   ]
  },
  {
   "cell_type": "code",
   "execution_count": 33,
   "id": "c7718a88",
   "metadata": {},
   "outputs": [
    {
     "name": "stdout",
     "output_type": "stream",
     "text": [
      "event number 1429\n",
      "event number 1429\n"
     ]
    },
    {
     "name": "stderr",
     "output_type": "stream",
     "text": [
      "Warning in <TCanvas::Constructor>: Deleting canvas with same name: c1\n",
      "Warning in <TFile::Append>: Replacing existing TH1: xvszstart (Potential memory leak).\n",
      "Warning in <TFile::Append>: Replacing existing TH1: xvszstop (Potential memory leak).\n",
      "Warning in <TFile::Append>: Replacing existing TH1: yvszstart (Potential memory leak).\n",
      "Warning in <TFile::Append>: Replacing existing TH1: yvszstop (Potential memory leak).\n"
     ]
    },
    {
     "data": {
      "image/png": "[encoded data removed]",
      "text/plain": [
       "<IPython.core.display.Image object>"
      ]
     },
     "metadata": {},
     "output_type": "display_data"
    }
   ],
   "source": [
    "canv = ROOT.TCanvas(\"c1\",\"Canvas 1\", 850, 550)\n",
    "pad1 = ROOT.TPad(\"pad1\",\"Pad 1\",0.05,0.52,0.95,0.97)\n",
    "pad2 = ROOT.TPad(\"pad2\",\"Pad 2\",0.05,0.02,0.95,0.47)\n",
    "pad1.Draw()\n",
    "pad2.Draw()\n",
    "\n",
    "xvszstart = ROOT.TH2D(\"xvszstart\", \"X-Z Plane\", 350, 0, 6000, 350, -750, 750)\n",
    "xvszstop = ROOT.TH2D(\"xvszstop\", \"X vs Z Stop\", 350, 0, 6000, 350, -750, 750)\n",
    "\n",
    "pad1.cd()\n",
    "for entryNum in range(0, tree.GetEntries()):\n",
    "    tree.GetEntry(entryNum)\n",
    "    if getattr(tree, \"ntrack\") == 0:\n",
    "        continue\n",
    "    startPosx = getattr(tree, \"startPosX\")[0]\n",
    "    startPosz = getattr(tree, \"startPosZ\")[0]\n",
    "    stopPosx = getattr(tree, \"stopPosX\")[0]\n",
    "    stopPosz = getattr(tree, \"stopPosZ\")[0]\n",
    "    if entryNum == 1429:\n",
    "        print(\"event number\", entryNum)\n",
    "        xvszstart.Fill(startPosz, startPosx)\n",
    "        xvszstop.Fill(stopPosz, stopPosx)\n",
    "        linex = ROOT.TLine(startPosz, startPosx, stopPosz, stopPosx)\n",
    "linex.SetLineColor(ROOT.kBlue)\n",
    "xvszstart.GetYaxis().SetTitle(\"X Position (cm)\")\n",
    "xvszstart.GetXaxis().SetTitle(\"Z Position (cm)\")\n",
    "xvszstart.Draw()\n",
    "xvszstop.Draw(\"same\")\n",
    "linex.Draw()\n",
    "\n",
    "yvszstart = ROOT.TH2D(\"yvszstart\", \"Y-Z Plane\", 350, 0, 6000, 350, -750, 750)\n",
    "yvszstop = ROOT.TH2D(\"yvszstop\", \"Y vs Z Stop\", 350, 0, 6000, 350, -750, 750)\n",
    "\n",
    "pad2.cd()\n",
    "for entryNum in range(0, tree.GetEntries()):\n",
    "    tree.GetEntry(entryNum)\n",
    "    if getattr(tree, \"ntrack\") == 0:\n",
    "        continue\n",
    "    startPosy = getattr(tree, \"startPosY\")[0]\n",
    "    startPosz = getattr(tree, \"startPosZ\")[0]\n",
    "    stopPosy = getattr(tree, \"stopPosY\")[0]\n",
    "    stopPosz = getattr(tree, \"stopPosZ\")[0]\n",
    "    if entryNum == 1429:\n",
    "        print(\"event number\", entryNum)\n",
    "        yvszstart.Fill(startPosz, startPosy)\n",
    "        yvszstop.Fill(stopPosz, stopPosy)\n",
    "        liney = ROOT.TLine(startPosz, startPosy, stopPosz, stopPosy)\n",
    "liney.SetLineColor(ROOT.kBlue)\n",
    "yvszstart.GetYaxis().SetTitle(\"Y Position (cm)\")\n",
    "yvszstart.GetXaxis().SetTitle(\"Z Position (cm)\")\n",
    "yvszstart.Draw()\n",
    "yvszstop.Draw(\"same\")\n",
    "liney.Draw()\n",
    "\n",
    "canv.Draw()\n"
   ]
  },
  {
   "cell_type": "code",
   "execution_count": 35,
   "id": "1f68bcb5",
   "metadata": {},
   "outputs": [
    {
     "name": "stdout",
     "output_type": "stream",
     "text": [
      "event number 1430\n",
      "event number 1430\n"
     ]
    },
    {
     "name": "stderr",
     "output_type": "stream",
     "text": [
      "Warning in <TCanvas::Constructor>: Deleting canvas with same name: c1\n",
      "Warning in <TFile::Append>: Replacing existing TH1: xvszstart (Potential memory leak).\n",
      "Warning in <TFile::Append>: Replacing existing TH1: xvszstop (Potential memory leak).\n",
      "Warning in <TFile::Append>: Replacing existing TH1: yvszstart (Potential memory leak).\n",
      "Warning in <TFile::Append>: Replacing existing TH1: yvszstop (Potential memory leak).\n"
     ]
    },
    {
     "data": {
      "image/png": "[encoded data removed]",
      "text/plain": [
       "<IPython.core.display.Image object>"
      ]
     },
     "metadata": {},
     "output_type": "display_data"
    }
   ],
   "source": [
    "canv = ROOT.TCanvas(\"c1\",\"Canvas 1\", 850, 550)\n",
    "pad1 = ROOT.TPad(\"pad1\",\"Pad 1\",0.05,0.52,0.95,0.97)\n",
    "pad2 = ROOT.TPad(\"pad2\",\"Pad 2\",0.05,0.02,0.95,0.47)\n",
    "pad1.Draw()\n",
    "pad2.Draw()\n",
    "\n",
    "xvszstart = ROOT.TH2D(\"xvszstart\", \"X-Z Plane\", 350, 0, 6000, 350, -750, 750)\n",
    "xvszstop = ROOT.TH2D(\"xvszstop\", \"X vs Z Stop\", 350, 0, 6000, 350, -750, 750)\n",
    "\n",
    "pad1.cd()\n",
    "for entryNum in range(0, tree.GetEntries()):\n",
    "    tree.GetEntry(entryNum)\n",
    "    if getattr(tree, \"ntrack\") == 0:\n",
    "        continue\n",
    "    startPosx = getattr(tree, \"startPosX\")[0]\n",
    "    startPosz = getattr(tree, \"startPosZ\")[0]\n",
    "    stopPosx = getattr(tree, \"stopPosX\")[0]\n",
    "    stopPosz = getattr(tree, \"stopPosZ\")[0]\n",
    "    if entryNum == 1430:\n",
    "        print(\"event number\", entryNum)\n",
    "        xvszstart.Fill(startPosz, startPosx)\n",
    "        xvszstop.Fill(stopPosz, stopPosx)\n",
    "        linex = ROOT.TLine(startPosz, startPosx, stopPosz, stopPosx)\n",
    "linex.SetLineColor(ROOT.kBlue)\n",
    "xvszstart.GetYaxis().SetTitle(\"X Position (cm)\")\n",
    "xvszstart.GetXaxis().SetTitle(\"Z Position (cm)\")\n",
    "xvszstart.Draw()\n",
    "xvszstop.Draw(\"same\")\n",
    "linex.Draw()\n",
    "\n",
    "yvszstart = ROOT.TH2D(\"yvszstart\", \"Y-Z Plane\", 350, 0, 6000, 350, -750, 750)\n",
    "yvszstop = ROOT.TH2D(\"yvszstop\", \"Y vs Z Stop\", 350, 0, 6000, 350, -750, 750)\n",
    "\n",
    "pad2.cd()\n",
    "for entryNum in range(0, tree.GetEntries()):\n",
    "    tree.GetEntry(entryNum)\n",
    "    if getattr(tree, \"ntrack\") == 0:\n",
    "        continue\n",
    "    startPosy = getattr(tree, \"startPosY\")[0]\n",
    "    startPosz = getattr(tree, \"startPosZ\")[0]\n",
    "    stopPosy = getattr(tree, \"stopPosY\")[0]\n",
    "    stopPosz = getattr(tree, \"stopPosZ\")[0]\n",
    "    if entryNum == 1430:\n",
    "        print(\"event number\", entryNum)\n",
    "        yvszstart.Fill(startPosz, startPosy)\n",
    "        yvszstop.Fill(stopPosz, stopPosy)\n",
    "        liney = ROOT.TLine(startPosz, startPosy, stopPosz, stopPosy)\n",
    "liney.SetLineColor(ROOT.kBlue)\n",
    "yvszstart.GetYaxis().SetTitle(\"Y Position (cm)\")\n",
    "yvszstart.GetXaxis().SetTitle(\"Z Position (cm)\")\n",
    "yvszstart.Draw()\n",
    "yvszstop.Draw(\"same\")\n",
    "liney.Draw()\n",
    "\n",
    "canv.Draw()\n"
   ]
  },
  {
   "cell_type": "code",
   "execution_count": 36,
   "id": "b5beb3e1",
   "metadata": {},
   "outputs": [
    {
     "name": "stdout",
     "output_type": "stream",
     "text": [
      "event number 1431\n",
      "event number 1431\n"
     ]
    },
    {
     "name": "stderr",
     "output_type": "stream",
     "text": [
      "Warning in <TCanvas::Constructor>: Deleting canvas with same name: c1\n",
      "Warning in <TFile::Append>: Replacing existing TH1: xvszstart (Potential memory leak).\n",
      "Warning in <TFile::Append>: Replacing existing TH1: xvszstop (Potential memory leak).\n",
      "Warning in <TFile::Append>: Replacing existing TH1: yvszstart (Potential memory leak).\n",
      "Warning in <TFile::Append>: Replacing existing TH1: yvszstop (Potential memory leak).\n"
     ]
    },
    {
     "data": {
      "image/png": "[encoded data removed]",
      "text/plain": [
       "<IPython.core.display.Image object>"
      ]
     },
     "metadata": {},
     "output_type": "display_data"
    }
   ],
   "source": [
    "canv = ROOT.TCanvas(\"c1\",\"Canvas 1\", 850, 550)\n",
    "pad1 = ROOT.TPad(\"pad1\",\"Pad 1\",0.05,0.52,0.95,0.97)\n",
    "pad2 = ROOT.TPad(\"pad2\",\"Pad 2\",0.05,0.02,0.95,0.47)\n",
    "pad1.Draw()\n",
    "pad2.Draw()\n",
    "\n",
    "xvszstart = ROOT.TH2D(\"xvszstart\", \"X-Z Plane\", 350, 0, 6000, 350, -750, 750)\n",
    "xvszstop = ROOT.TH2D(\"xvszstop\", \"X vs Z Stop\", 350, 0, 6000, 350, -750, 750)\n",
    "\n",
    "pad1.cd()\n",
    "for entryNum in range(0, tree.GetEntries()):\n",
    "    tree.GetEntry(entryNum)\n",
    "    if getattr(tree, \"ntrack\") == 0:\n",
    "        continue\n",
    "    startPosx = getattr(tree, \"startPosX\")[0]\n",
    "    startPosz = getattr(tree, \"startPosZ\")[0]\n",
    "    stopPosx = getattr(tree, \"stopPosX\")[0]\n",
    "    stopPosz = getattr(tree, \"stopPosZ\")[0]\n",
    "    if entryNum == 1431:\n",
    "        print(\"event number\", entryNum)\n",
    "        xvszstart.Fill(startPosz, startPosx)\n",
    "        xvszstop.Fill(stopPosz, stopPosx)\n",
    "        linex = ROOT.TLine(startPosz, startPosx, stopPosz, stopPosx)\n",
    "linex.SetLineColor(ROOT.kBlue)\n",
    "xvszstart.GetYaxis().SetTitle(\"X Position (cm)\")\n",
    "xvszstart.GetXaxis().SetTitle(\"Z Position (cm)\")\n",
    "xvszstart.Draw()\n",
    "xvszstop.Draw(\"same\")\n",
    "linex.Draw()\n",
    "\n",
    "yvszstart = ROOT.TH2D(\"yvszstart\", \"Y-Z Plane\", 350, 0, 6000, 350, -750, 750)\n",
    "yvszstop = ROOT.TH2D(\"yvszstop\", \"Y vs Z Stop\", 350, 0, 6000, 350, -750, 750)\n",
    "\n",
    "pad2.cd()\n",
    "for entryNum in range(0, tree.GetEntries()):\n",
    "    tree.GetEntry(entryNum)\n",
    "    if getattr(tree, \"ntrack\") == 0:\n",
    "        continue\n",
    "    startPosy = getattr(tree, \"startPosY\")[0]\n",
    "    startPosz = getattr(tree, \"startPosZ\")[0]\n",
    "    stopPosy = getattr(tree, \"stopPosY\")[0]\n",
    "    stopPosz = getattr(tree, \"stopPosZ\")[0]\n",
    "    if entryNum == 1431:\n",
    "        print(\"event number\", entryNum)\n",
    "        yvszstart.Fill(startPosz, startPosy)\n",
    "        yvszstop.Fill(stopPosz, stopPosy)\n",
    "        liney = ROOT.TLine(startPosz, startPosy, stopPosz, stopPosy)\n",
    "liney.SetLineColor(ROOT.kBlue)\n",
    "yvszstart.GetYaxis().SetTitle(\"Y Position (cm)\")\n",
    "yvszstart.GetXaxis().SetTitle(\"Z Position (cm)\")\n",
    "yvszstart.Draw()\n",
    "yvszstop.Draw(\"same\")\n",
    "liney.Draw()\n",
    "\n",
    "canv.Draw()"
   ]
  },
  {
   "cell_type": "code",
   "execution_count": 37,
   "id": "f58e4faa",
   "metadata": {},
   "outputs": [
    {
     "name": "stdout",
     "output_type": "stream",
     "text": [
      "event number 1432\n",
      "event number 1432\n"
     ]
    },
    {
     "name": "stderr",
     "output_type": "stream",
     "text": [
      "Warning in <TCanvas::Constructor>: Deleting canvas with same name: c1\n",
      "Warning in <TFile::Append>: Replacing existing TH1: xvszstart (Potential memory leak).\n",
      "Warning in <TFile::Append>: Replacing existing TH1: xvszstop (Potential memory leak).\n",
      "Warning in <TFile::Append>: Replacing existing TH1: yvszstart (Potential memory leak).\n",
      "Warning in <TFile::Append>: Replacing existing TH1: yvszstop (Potential memory leak).\n"
     ]
    },
    {
     "data": {
      "image/png": "[encoded data removed]",
      "text/plain": [
       "<IPython.core.display.Image object>"
      ]
     },
     "metadata": {},
     "output_type": "display_data"
    }
   ],
   "source": [
    "canv = ROOT.TCanvas(\"c1\",\"Canvas 1\", 850, 550)\n",
    "pad1 = ROOT.TPad(\"pad1\",\"Pad 1\",0.05,0.52,0.95,0.97)\n",
    "pad2 = ROOT.TPad(\"pad2\",\"Pad 2\",0.05,0.02,0.95,0.47)\n",
    "pad1.Draw()\n",
    "pad2.Draw()\n",
    "\n",
    "xvszstart = ROOT.TH2D(\"xvszstart\", \"X-Z Plane\", 350, 0, 6000, 350, -750, 750)\n",
    "xvszstop = ROOT.TH2D(\"xvszstop\", \"X vs Z Stop\", 350, 0, 6000, 350, -750, 750)\n",
    "\n",
    "pad1.cd()\n",
    "for entryNum in range(0, tree.GetEntries()):\n",
    "    tree.GetEntry(entryNum)\n",
    "    if getattr(tree, \"ntrack\") == 0:\n",
    "        continue\n",
    "    startPosx = getattr(tree, \"startPosX\")[0]\n",
    "    startPosz = getattr(tree, \"startPosZ\")[0]\n",
    "    stopPosx = getattr(tree, \"stopPosX\")[0]\n",
    "    stopPosz = getattr(tree, \"stopPosZ\")[0]\n",
    "    if entryNum == 1432:\n",
    "        print(\"event number\", entryNum)\n",
    "        xvszstart.Fill(startPosz, startPosx)\n",
    "        xvszstop.Fill(stopPosz, stopPosx)\n",
    "        linex = ROOT.TLine(startPosz, startPosx, stopPosz, stopPosx)\n",
    "linex.SetLineColor(ROOT.kBlue)\n",
    "xvszstart.GetYaxis().SetTitle(\"X Position (cm)\")\n",
    "xvszstart.GetXaxis().SetTitle(\"Z Position (cm)\")\n",
    "xvszstart.Draw()\n",
    "xvszstop.Draw(\"same\")\n",
    "linex.Draw()\n",
    "\n",
    "yvszstart = ROOT.TH2D(\"yvszstart\", \"Y-Z Plane\", 350, 0, 6000, 350, -750, 750)\n",
    "yvszstop = ROOT.TH2D(\"yvszstop\", \"Y vs Z Stop\", 350, 0, 6000, 350, -750, 750)\n",
    "\n",
    "pad2.cd()\n",
    "for entryNum in range(0, tree.GetEntries()):\n",
    "    tree.GetEntry(entryNum)\n",
    "    if getattr(tree, \"ntrack\") == 0:\n",
    "        continue\n",
    "    startPosy = getattr(tree, \"startPosY\")[0]\n",
    "    startPosz = getattr(tree, \"startPosZ\")[0]\n",
    "    stopPosy = getattr(tree, \"stopPosY\")[0]\n",
    "    stopPosz = getattr(tree, \"stopPosZ\")[0]\n",
    "    if entryNum == 1432:\n",
    "        print(\"event number\", entryNum)\n",
    "        yvszstart.Fill(startPosz, startPosy)\n",
    "        yvszstop.Fill(stopPosz, stopPosy)\n",
    "        liney = ROOT.TLine(startPosz, startPosy, stopPosz, stopPosy)\n",
    "liney.SetLineColor(ROOT.kBlue)\n",
    "yvszstart.GetYaxis().SetTitle(\"Y Position (cm)\")\n",
    "yvszstart.GetXaxis().SetTitle(\"Z Position (cm)\")\n",
    "yvszstart.Draw()\n",
    "yvszstop.Draw(\"same\")\n",
    "liney.Draw()\n",
    "\n",
    "canv.Draw()"
   ]
  },
  {
   "cell_type": "code",
   "execution_count": 38,
   "id": "bf8531b7",
   "metadata": {},
   "outputs": [
    {
     "name": "stdout",
     "output_type": "stream",
     "text": [
      "event number 1433\n",
      "event number 1433\n"
     ]
    },
    {
     "name": "stderr",
     "output_type": "stream",
     "text": [
      "Warning in <TCanvas::Constructor>: Deleting canvas with same name: c1\n",
      "Warning in <TFile::Append>: Replacing existing TH1: xvszstart (Potential memory leak).\n",
      "Warning in <TFile::Append>: Replacing existing TH1: xvszstop (Potential memory leak).\n",
      "Warning in <TFile::Append>: Replacing existing TH1: yvszstart (Potential memory leak).\n",
      "Warning in <TFile::Append>: Replacing existing TH1: yvszstop (Potential memory leak).\n"
     ]
    },
    {
     "data": {
      "image/png": "[encoded data removed]",
      "text/plain": [
       "<IPython.core.display.Image object>"
      ]
     },
     "metadata": {},
     "output_type": "display_data"
    }
   ],
   "source": [
    "canv = ROOT.TCanvas(\"c1\",\"Canvas 1\", 850, 550)\n",
    "pad1 = ROOT.TPad(\"pad1\",\"Pad 1\",0.05,0.52,0.95,0.97)\n",
    "pad2 = ROOT.TPad(\"pad2\",\"Pad 2\",0.05,0.02,0.95,0.47)\n",
    "pad1.Draw()\n",
    "pad2.Draw()\n",
    "\n",
    "xvszstart = ROOT.TH2D(\"xvszstart\", \"X-Z Plane\", 350, 0, 6000, 350, -750, 750)\n",
    "xvszstop = ROOT.TH2D(\"xvszstop\", \"X vs Z Stop\", 350, 0, 6000, 350, -750, 750)\n",
    "\n",
    "pad1.cd()\n",
    "for entryNum in range(0, tree.GetEntries()):\n",
    "    tree.GetEntry(entryNum)\n",
    "    if getattr(tree, \"ntrack\") == 0:\n",
    "        continue\n",
    "    startPosx = getattr(tree, \"startPosX\")[0]\n",
    "    startPosz = getattr(tree, \"startPosZ\")[0]\n",
    "    stopPosx = getattr(tree, \"stopPosX\")[0]\n",
    "    stopPosz = getattr(tree, \"stopPosZ\")[0]\n",
    "    if entryNum == 1433:\n",
    "        print(\"event number\", entryNum)\n",
    "        xvszstart.Fill(startPosz, startPosx)\n",
    "        xvszstop.Fill(stopPosz, stopPosx)\n",
    "        linex = ROOT.TLine(startPosz, startPosx, stopPosz, stopPosx)\n",
    "linex.SetLineColor(ROOT.kBlue)\n",
    "xvszstart.GetYaxis().SetTitle(\"X Position (cm)\")\n",
    "xvszstart.GetXaxis().SetTitle(\"Z Position (cm)\")\n",
    "xvszstart.Draw()\n",
    "xvszstop.Draw(\"same\")\n",
    "linex.Draw()\n",
    "\n",
    "yvszstart = ROOT.TH2D(\"yvszstart\", \"Y-Z Plane\", 350, 0, 6000, 350, -750, 750)\n",
    "yvszstop = ROOT.TH2D(\"yvszstop\", \"Y vs Z Stop\", 350, 0, 6000, 350, -750, 750)\n",
    "\n",
    "pad2.cd()\n",
    "for entryNum in range(0, tree.GetEntries()):\n",
    "    tree.GetEntry(entryNum)\n",
    "    if getattr(tree, \"ntrack\") == 0:\n",
    "        continue\n",
    "    startPosy = getattr(tree, \"startPosY\")[0]\n",
    "    startPosz = getattr(tree, \"startPosZ\")[0]\n",
    "    stopPosy = getattr(tree, \"stopPosY\")[0]\n",
    "    stopPosz = getattr(tree, \"stopPosZ\")[0]\n",
    "    if entryNum == 1433:\n",
    "        print(\"event number\", entryNum)\n",
    "        yvszstart.Fill(startPosz, startPosy)\n",
    "        yvszstop.Fill(stopPosz, stopPosy)\n",
    "        liney = ROOT.TLine(startPosz, startPosy, stopPosz, stopPosy)\n",
    "liney.SetLineColor(ROOT.kBlue)\n",
    "yvszstart.GetYaxis().SetTitle(\"Y Position (cm)\")\n",
    "yvszstart.GetXaxis().SetTitle(\"Z Position (cm)\")\n",
    "yvszstart.Draw()\n",
    "yvszstop.Draw(\"same\")\n",
    "liney.Draw()\n",
    "\n",
    "canv.Draw()"
   ]
  },
  {
   "cell_type": "code",
   "execution_count": 39,
   "id": "9dcd0c59",
   "metadata": {},
   "outputs": [
    {
     "name": "stdout",
     "output_type": "stream",
     "text": [
      "event number 1434\n",
      "event number 1434\n"
     ]
    },
    {
     "name": "stderr",
     "output_type": "stream",
     "text": [
      "Warning in <TCanvas::Constructor>: Deleting canvas with same name: c1\n",
      "Warning in <TFile::Append>: Replacing existing TH1: xvszstart (Potential memory leak).\n",
      "Warning in <TFile::Append>: Replacing existing TH1: xvszstop (Potential memory leak).\n",
      "Warning in <TFile::Append>: Replacing existing TH1: yvszstart (Potential memory leak).\n",
      "Warning in <TFile::Append>: Replacing existing TH1: yvszstop (Potential memory leak).\n"
     ]
    },
    {
     "data": {
      "image/png": "[encoded data removed]",
      "text/plain": [
       "<IPython.core.display.Image object>"
      ]
     },
     "metadata": {},
     "output_type": "display_data"
    }
   ],
   "source": [
    "canv = ROOT.TCanvas(\"c1\",\"Canvas 1\", 850, 550)\n",
    "pad1 = ROOT.TPad(\"pad1\",\"Pad 1\",0.05,0.52,0.95,0.97)\n",
    "pad2 = ROOT.TPad(\"pad2\",\"Pad 2\",0.05,0.02,0.95,0.47)\n",
    "pad1.Draw()\n",
    "pad2.Draw()\n",
    "\n",
    "xvszstart = ROOT.TH2D(\"xvszstart\", \"X-Z Plane\", 350, 0, 6000, 350, -750, 750)\n",
    "xvszstop = ROOT.TH2D(\"xvszstop\", \"X vs Z Stop\", 350, 0, 6000, 350, -750, 750)\n",
    "\n",
    "pad1.cd()\n",
    "for entryNum in range(0, tree.GetEntries()):\n",
    "    tree.GetEntry(entryNum)\n",
    "    if getattr(tree, \"ntrack\") == 0:\n",
    "        continue\n",
    "    startPosx = getattr(tree, \"startPosX\")[0]\n",
    "    startPosz = getattr(tree, \"startPosZ\")[0]\n",
    "    stopPosx = getattr(tree, \"stopPosX\")[0]\n",
    "    stopPosz = getattr(tree, \"stopPosZ\")[0]\n",
    "    if entryNum == 1434:\n",
    "        print(\"event number\", entryNum)\n",
    "        xvszstart.Fill(startPosz, startPosx)\n",
    "        xvszstop.Fill(stopPosz, stopPosx)\n",
    "        linex = ROOT.TLine(startPosz, startPosx, stopPosz, stopPosx)\n",
    "linex.SetLineColor(ROOT.kBlue)\n",
    "xvszstart.GetYaxis().SetTitle(\"X Position (cm)\")\n",
    "xvszstart.GetXaxis().SetTitle(\"Z Position (cm)\")\n",
    "xvszstart.Draw()\n",
    "xvszstop.Draw(\"same\")\n",
    "linex.Draw()\n",
    "\n",
    "yvszstart = ROOT.TH2D(\"yvszstart\", \"Y-Z Plane\", 350, 0, 6000, 350, -750, 750)\n",
    "yvszstop = ROOT.TH2D(\"yvszstop\", \"Y vs Z Stop\", 350, 0, 6000, 350, -750, 750)\n",
    "\n",
    "pad2.cd()\n",
    "for entryNum in range(0, tree.GetEntries()):\n",
    "    tree.GetEntry(entryNum)\n",
    "    if getattr(tree, \"ntrack\") == 0:\n",
    "        continue\n",
    "    startPosy = getattr(tree, \"startPosY\")[0]\n",
    "    startPosz = getattr(tree, \"startPosZ\")[0]\n",
    "    stopPosy = getattr(tree, \"stopPosY\")[0]\n",
    "    stopPosz = getattr(tree, \"stopPosZ\")[0]\n",
    "    if entryNum == 1434:\n",
    "        print(\"event number\", entryNum)\n",
    "        yvszstart.Fill(startPosz, startPosy)\n",
    "        yvszstop.Fill(stopPosz, stopPosy)\n",
    "        liney = ROOT.TLine(startPosz, startPosy, stopPosz, stopPosy)\n",
    "liney.SetLineColor(ROOT.kBlue)\n",
    "yvszstart.GetYaxis().SetTitle(\"Y Position (cm)\")\n",
    "yvszstart.GetXaxis().SetTitle(\"Z Position (cm)\")\n",
    "yvszstart.Draw()\n",
    "yvszstop.Draw(\"same\")\n",
    "liney.Draw()\n",
    "\n",
    "canv.Draw()"
   ]
  },
  {
   "cell_type": "code",
   "execution_count": 40,
   "id": "ed7e4d57",
   "metadata": {},
   "outputs": [
    {
     "name": "stdout",
     "output_type": "stream",
     "text": [
      "event number 1435\n",
      "event number 1435\n"
     ]
    },
    {
     "name": "stderr",
     "output_type": "stream",
     "text": [
      "Warning in <TCanvas::Constructor>: Deleting canvas with same name: c1\n",
      "Warning in <TFile::Append>: Replacing existing TH1: xvszstart (Potential memory leak).\n",
      "Warning in <TFile::Append>: Replacing existing TH1: xvszstop (Potential memory leak).\n",
      "Warning in <TFile::Append>: Replacing existing TH1: yvszstart (Potential memory leak).\n",
      "Warning in <TFile::Append>: Replacing existing TH1: yvszstop (Potential memory leak).\n"
     ]
    },
    {
     "data": {
      "image/png": "[encoded data removed]",
      "text/plain": [
       "<IPython.core.display.Image object>"
      ]
     },
     "metadata": {},
     "output_type": "display_data"
    }
   ],
   "source": [
    "canv = ROOT.TCanvas(\"c1\",\"Canvas 1\", 850, 550)\n",
    "pad1 = ROOT.TPad(\"pad1\",\"Pad 1\",0.05,0.52,0.95,0.97)\n",
    "pad2 = ROOT.TPad(\"pad2\",\"Pad 2\",0.05,0.02,0.95,0.47)\n",
    "pad1.Draw()\n",
    "pad2.Draw()\n",
    "\n",
    "xvszstart = ROOT.TH2D(\"xvszstart\", \"X-Z Plane\", 350, 0, 6000, 350, -750, 750)\n",
    "xvszstop = ROOT.TH2D(\"xvszstop\", \"X vs Z Stop\", 350, 0, 6000, 350, -750, 750)\n",
    "\n",
    "pad1.cd()\n",
    "for entryNum in range(0, tree.GetEntries()):\n",
    "    tree.GetEntry(entryNum)\n",
    "    if getattr(tree, \"ntrack\") == 0:\n",
    "        continue\n",
    "    startPosx = getattr(tree, \"startPosX\")[0]\n",
    "    startPosz = getattr(tree, \"startPosZ\")[0]\n",
    "    stopPosx = getattr(tree, \"stopPosX\")[0]\n",
    "    stopPosz = getattr(tree, \"stopPosZ\")[0]\n",
    "    if entryNum == 1435:\n",
    "        print(\"event number\", entryNum)\n",
    "        xvszstart.Fill(startPosz, startPosx)\n",
    "        xvszstop.Fill(stopPosz, stopPosx)\n",
    "        linex = ROOT.TLine(startPosz, startPosx, stopPosz, stopPosx)\n",
    "linex.SetLineColor(ROOT.kBlue)\n",
    "xvszstart.GetYaxis().SetTitle(\"X Position (cm)\")\n",
    "xvszstart.GetXaxis().SetTitle(\"Z Position (cm)\")\n",
    "xvszstart.Draw()\n",
    "xvszstop.Draw(\"same\")\n",
    "linex.Draw()\n",
    "\n",
    "yvszstart = ROOT.TH2D(\"yvszstart\", \"Y-Z Plane\", 350, 0, 6000, 350, -750, 750)\n",
    "yvszstop = ROOT.TH2D(\"yvszstop\", \"Y vs Z Stop\", 350, 0, 6000, 350, -750, 750)\n",
    "\n",
    "pad2.cd()\n",
    "for entryNum in range(0, tree.GetEntries()):\n",
    "    tree.GetEntry(entryNum)\n",
    "    if getattr(tree, \"ntrack\") == 0:\n",
    "        continue\n",
    "    startPosy = getattr(tree, \"startPosY\")[0]\n",
    "    startPosz = getattr(tree, \"startPosZ\")[0]\n",
    "    stopPosy = getattr(tree, \"stopPosY\")[0]\n",
    "    stopPosz = getattr(tree, \"stopPosZ\")[0]\n",
    "    if entryNum == 1435:\n",
    "        print(\"event number\", entryNum)\n",
    "        yvszstart.Fill(startPosz, startPosy)\n",
    "        yvszstop.Fill(stopPosz, stopPosy)\n",
    "        liney = ROOT.TLine(startPosz, startPosy, stopPosz, stopPosy)\n",
    "liney.SetLineColor(ROOT.kBlue)\n",
    "yvszstart.GetYaxis().SetTitle(\"Y Position (cm)\")\n",
    "yvszstart.GetXaxis().SetTitle(\"Z Position (cm)\")\n",
    "yvszstart.Draw()\n",
    "yvszstop.Draw(\"same\")\n",
    "liney.Draw()\n",
    "\n",
    "canv.Draw()"
   ]
  },
  {
   "cell_type": "code",
   "execution_count": 41,
   "id": "6a1c96e8",
   "metadata": {},
   "outputs": [
    {
     "name": "stdout",
     "output_type": "stream",
     "text": [
      "event number 1436\n",
      "event number 1436\n"
     ]
    },
    {
     "name": "stderr",
     "output_type": "stream",
     "text": [
      "Warning in <TCanvas::Constructor>: Deleting canvas with same name: c1\n",
      "Warning in <TFile::Append>: Replacing existing TH1: xvszstart (Potential memory leak).\n",
      "Warning in <TFile::Append>: Replacing existing TH1: xvszstop (Potential memory leak).\n",
      "Warning in <TFile::Append>: Replacing existing TH1: yvszstart (Potential memory leak).\n",
      "Warning in <TFile::Append>: Replacing existing TH1: yvszstop (Potential memory leak).\n"
     ]
    },
    {
     "data": {
      "image/png": "[encoded data removed]",
      "text/plain": [
       "<IPython.core.display.Image object>"
      ]
     },
     "metadata": {},
     "output_type": "display_data"
    }
   ],
   "source": [
    "canv = ROOT.TCanvas(\"c1\",\"Canvas 1\", 850, 550)\n",
    "pad1 = ROOT.TPad(\"pad1\",\"Pad 1\",0.05,0.52,0.95,0.97)\n",
    "pad2 = ROOT.TPad(\"pad2\",\"Pad 2\",0.05,0.02,0.95,0.47)\n",
    "pad1.Draw()\n",
    "pad2.Draw()\n",
    "\n",
    "xvszstart = ROOT.TH2D(\"xvszstart\", \"X-Z Plane\", 350, 0, 6000, 350, -750, 750)\n",
    "xvszstop = ROOT.TH2D(\"xvszstop\", \"X vs Z Stop\", 350, 0, 6000, 350, -750, 750)\n",
    "\n",
    "pad1.cd()\n",
    "for entryNum in range(0, tree.GetEntries()):\n",
    "    tree.GetEntry(entryNum)\n",
    "    if getattr(tree, \"ntrack\") == 0:\n",
    "        continue\n",
    "    startPosx = getattr(tree, \"startPosX\")[0]\n",
    "    startPosz = getattr(tree, \"startPosZ\")[0]\n",
    "    stopPosx = getattr(tree, \"stopPosX\")[0]\n",
    "    stopPosz = getattr(tree, \"stopPosZ\")[0]\n",
    "    if entryNum == 1436:\n",
    "        print(\"event number\", entryNum)\n",
    "        xvszstart.Fill(startPosz, startPosx)\n",
    "        xvszstop.Fill(stopPosz, stopPosx)\n",
    "        linex = ROOT.TLine(startPosz, startPosx, stopPosz, stopPosx)\n",
    "linex.SetLineColor(ROOT.kBlue)\n",
    "xvszstart.GetYaxis().SetTitle(\"X Position (cm)\")\n",
    "xvszstart.GetXaxis().SetTitle(\"Z Position (cm)\")\n",
    "xvszstart.Draw()\n",
    "xvszstop.Draw(\"same\")\n",
    "linex.Draw()\n",
    "\n",
    "yvszstart = ROOT.TH2D(\"yvszstart\", \"Y-Z Plane\", 350, 0, 6000, 350, -750, 750)\n",
    "yvszstop = ROOT.TH2D(\"yvszstop\", \"Y vs Z Stop\", 350, 0, 6000, 350, -750, 750)\n",
    "\n",
    "pad2.cd()\n",
    "for entryNum in range(0, tree.GetEntries()):\n",
    "    tree.GetEntry(entryNum)\n",
    "    if getattr(tree, \"ntrack\") == 0:\n",
    "        continue\n",
    "    startPosy = getattr(tree, \"startPosY\")[0]\n",
    "    startPosz = getattr(tree, \"startPosZ\")[0]\n",
    "    stopPosy = getattr(tree, \"stopPosY\")[0]\n",
    "    stopPosz = getattr(tree, \"stopPosZ\")[0]\n",
    "    if entryNum == 1436:\n",
    "        print(\"event number\", entryNum)\n",
    "        yvszstart.Fill(startPosz, startPosy)\n",
    "        yvszstop.Fill(stopPosz, stopPosy)\n",
    "        liney = ROOT.TLine(startPosz, startPosy, stopPosz, stopPosy)\n",
    "liney.SetLineColor(ROOT.kBlue)\n",
    "yvszstart.GetYaxis().SetTitle(\"Y Position (cm)\")\n",
    "yvszstart.GetXaxis().SetTitle(\"Z Position (cm)\")\n",
    "yvszstart.Draw()\n",
    "yvszstop.Draw(\"same\")\n",
    "liney.Draw()\n",
    "\n",
    "canv.Draw()"
   ]
  },
  {
   "cell_type": "code",
   "execution_count": 42,
   "id": "9f0f32a3",
   "metadata": {},
   "outputs": [
    {
     "name": "stdout",
     "output_type": "stream",
     "text": [
      "event number 1437\n",
      "event number 1437\n"
     ]
    },
    {
     "name": "stderr",
     "output_type": "stream",
     "text": [
      "Warning in <TCanvas::Constructor>: Deleting canvas with same name: c1\n",
      "Warning in <TFile::Append>: Replacing existing TH1: xvszstart (Potential memory leak).\n",
      "Warning in <TFile::Append>: Replacing existing TH1: xvszstop (Potential memory leak).\n",
      "Warning in <TFile::Append>: Replacing existing TH1: yvszstart (Potential memory leak).\n",
      "Warning in <TFile::Append>: Replacing existing TH1: yvszstop (Potential memory leak).\n"
     ]
    },
    {
     "data": {
      "image/png": "[encoded data removed]",
      "text/plain": [
       "<IPython.core.display.Image object>"
      ]
     },
     "metadata": {},
     "output_type": "display_data"
    }
   ],
   "source": [
    "canv = ROOT.TCanvas(\"c1\",\"Canvas 1\", 850, 550)\n",
    "pad1 = ROOT.TPad(\"pad1\",\"Pad 1\",0.05,0.52,0.95,0.97)\n",
    "pad2 = ROOT.TPad(\"pad2\",\"Pad 2\",0.05,0.02,0.95,0.47)\n",
    "pad1.Draw()\n",
    "pad2.Draw()\n",
    "\n",
    "xvszstart = ROOT.TH2D(\"xvszstart\", \"X-Z Plane\", 350, 0, 6000, 350, -750, 750)\n",
    "xvszstop = ROOT.TH2D(\"xvszstop\", \"X vs Z Stop\", 350, 0, 6000, 350, -750, 750)\n",
    "\n",
    "pad1.cd()\n",
    "for entryNum in range(0, tree.GetEntries()):\n",
    "    tree.GetEntry(entryNum)\n",
    "    if getattr(tree, \"ntrack\") == 0:\n",
    "        continue\n",
    "    startPosx = getattr(tree, \"startPosX\")[0]\n",
    "    startPosz = getattr(tree, \"startPosZ\")[0]\n",
    "    stopPosx = getattr(tree, \"stopPosX\")[0]\n",
    "    stopPosz = getattr(tree, \"stopPosZ\")[0]\n",
    "    if entryNum == 1437:\n",
    "        print(\"event number\", entryNum)\n",
    "        xvszstart.Fill(startPosz, startPosx)\n",
    "        xvszstop.Fill(stopPosz, stopPosx)\n",
    "        linex = ROOT.TLine(startPosz, startPosx, stopPosz, stopPosx)\n",
    "linex.SetLineColor(ROOT.kBlue)\n",
    "xvszstart.GetYaxis().SetTitle(\"X Position (cm)\")\n",
    "xvszstart.GetXaxis().SetTitle(\"Z Position (cm)\")\n",
    "xvszstart.Draw()\n",
    "xvszstop.Draw(\"same\")\n",
    "linex.Draw()\n",
    "\n",
    "yvszstart = ROOT.TH2D(\"yvszstart\", \"Y-Z Plane\", 350, 0, 6000, 350, -750, 750)\n",
    "yvszstop = ROOT.TH2D(\"yvszstop\", \"Y vs Z Stop\", 350, 0, 6000, 350, -750, 750)\n",
    "\n",
    "pad2.cd()\n",
    "for entryNum in range(0, tree.GetEntries()):\n",
    "    tree.GetEntry(entryNum)\n",
    "    if getattr(tree, \"ntrack\") == 0:\n",
    "        continue\n",
    "    startPosy = getattr(tree, \"startPosY\")[0]\n",
    "    startPosz = getattr(tree, \"startPosZ\")[0]\n",
    "    stopPosy = getattr(tree, \"stopPosY\")[0]\n",
    "    stopPosz = getattr(tree, \"stopPosZ\")[0]\n",
    "    if entryNum == 1437:\n",
    "        print(\"event number\", entryNum)\n",
    "        yvszstart.Fill(startPosz, startPosy)\n",
    "        yvszstop.Fill(stopPosz, stopPosy)\n",
    "        liney = ROOT.TLine(startPosz, startPosy, stopPosz, stopPosy)\n",
    "liney.SetLineColor(ROOT.kBlue)\n",
    "yvszstart.GetYaxis().SetTitle(\"Y Position (cm)\")\n",
    "yvszstart.GetXaxis().SetTitle(\"Z Position (cm)\")\n",
    "yvszstart.Draw()\n",
    "yvszstop.Draw(\"same\")\n",
    "liney.Draw()\n",
    "\n",
    "canv.Draw()"
   ]
  },
  {
   "cell_type": "code",
   "execution_count": 43,
   "id": "f096b433",
   "metadata": {},
   "outputs": [
    {
     "name": "stdout",
     "output_type": "stream",
     "text": [
      "event number 1438\n",
      "event number 1438\n"
     ]
    },
    {
     "name": "stderr",
     "output_type": "stream",
     "text": [
      "Warning in <TCanvas::Constructor>: Deleting canvas with same name: c1\n",
      "Warning in <TFile::Append>: Replacing existing TH1: xvszstart (Potential memory leak).\n",
      "Warning in <TFile::Append>: Replacing existing TH1: xvszstop (Potential memory leak).\n",
      "Warning in <TFile::Append>: Replacing existing TH1: yvszstart (Potential memory leak).\n",
      "Warning in <TFile::Append>: Replacing existing TH1: yvszstop (Potential memory leak).\n"
     ]
    },
    {
     "data": {
      "image/png": "[encoded data removed]",
      "text/plain": [
       "<IPython.core.display.Image object>"
      ]
     },
     "metadata": {},
     "output_type": "display_data"
    }
   ],
   "source": [
    "canv = ROOT.TCanvas(\"c1\",\"Canvas 1\", 850, 550)\n",
    "pad1 = ROOT.TPad(\"pad1\",\"Pad 1\",0.05,0.52,0.95,0.97)\n",
    "pad2 = ROOT.TPad(\"pad2\",\"Pad 2\",0.05,0.02,0.95,0.47)\n",
    "pad1.Draw()\n",
    "pad2.Draw()\n",
    "\n",
    "xvszstart = ROOT.TH2D(\"xvszstart\", \"X-Z Plane\", 350, 0, 6000, 350, -750, 750)\n",
    "xvszstop = ROOT.TH2D(\"xvszstop\", \"X vs Z Stop\", 350, 0, 6000, 350, -750, 750)\n",
    "\n",
    "pad1.cd()\n",
    "for entryNum in range(0, tree.GetEntries()):\n",
    "    tree.GetEntry(entryNum)\n",
    "    if getattr(tree, \"ntrack\") == 0:\n",
    "        continue\n",
    "    startPosx = getattr(tree, \"startPosX\")[0]\n",
    "    startPosz = getattr(tree, \"startPosZ\")[0]\n",
    "    stopPosx = getattr(tree, \"stopPosX\")[0]\n",
    "    stopPosz = getattr(tree, \"stopPosZ\")[0]\n",
    "    if entryNum == 1438:\n",
    "        print(\"event number\", entryNum)\n",
    "        xvszstart.Fill(startPosz, startPosx)\n",
    "        xvszstop.Fill(stopPosz, stopPosx)\n",
    "        linex = ROOT.TLine(startPosz, startPosx, stopPosz, stopPosx)\n",
    "linex.SetLineColor(ROOT.kBlue)\n",
    "xvszstart.GetYaxis().SetTitle(\"X Position (cm)\")\n",
    "xvszstart.GetXaxis().SetTitle(\"Z Position (cm)\")\n",
    "xvszstart.Draw()\n",
    "xvszstop.Draw(\"same\")\n",
    "linex.Draw()\n",
    "\n",
    "yvszstart = ROOT.TH2D(\"yvszstart\", \"Y-Z Plane\", 350, 0, 6000, 350, -750, 750)\n",
    "yvszstop = ROOT.TH2D(\"yvszstop\", \"Y vs Z Stop\", 350, 0, 6000, 350, -750, 750)\n",
    "\n",
    "pad2.cd()\n",
    "for entryNum in range(0, tree.GetEntries()):\n",
    "    tree.GetEntry(entryNum)\n",
    "    if getattr(tree, \"ntrack\") == 0:\n",
    "        continue\n",
    "    startPosy = getattr(tree, \"startPosY\")[0]\n",
    "    startPosz = getattr(tree, \"startPosZ\")[0]\n",
    "    stopPosy = getattr(tree, \"stopPosY\")[0]\n",
    "    stopPosz = getattr(tree, \"stopPosZ\")[0]\n",
    "    if entryNum == 1438:\n",
    "        print(\"event number\", entryNum)\n",
    "        yvszstart.Fill(startPosz, startPosy)\n",
    "        yvszstop.Fill(stopPosz, stopPosy)\n",
    "        liney = ROOT.TLine(startPosz, startPosy, stopPosz, stopPosy)\n",
    "liney.SetLineColor(ROOT.kBlue)\n",
    "yvszstart.GetYaxis().SetTitle(\"Y Position (cm)\")\n",
    "yvszstart.GetXaxis().SetTitle(\"Z Position (cm)\")\n",
    "yvszstart.Draw()\n",
    "yvszstop.Draw(\"same\")\n",
    "liney.Draw()\n",
    "\n",
    "canv.Draw()"
   ]
  },
  {
   "cell_type": "code",
   "execution_count": 44,
   "id": "872da0f4",
   "metadata": {},
   "outputs": [
    {
     "name": "stdout",
     "output_type": "stream",
     "text": [
      "event number 1439\n",
      "event number 1439\n"
     ]
    },
    {
     "name": "stderr",
     "output_type": "stream",
     "text": [
      "Warning in <TCanvas::Constructor>: Deleting canvas with same name: c1\n",
      "Warning in <TFile::Append>: Replacing existing TH1: xvszstart (Potential memory leak).\n",
      "Warning in <TFile::Append>: Replacing existing TH1: xvszstop (Potential memory leak).\n",
      "Warning in <TFile::Append>: Replacing existing TH1: yvszstart (Potential memory leak).\n",
      "Warning in <TFile::Append>: Replacing existing TH1: yvszstop (Potential memory leak).\n"
     ]
    },
    {
     "data": {
      "image/png": "[encoded data removed]",
      "text/plain": [
       "<IPython.core.display.Image object>"
      ]
     },
     "metadata": {},
     "output_type": "display_data"
    }
   ],
   "source": [
    "canv = ROOT.TCanvas(\"c1\",\"Canvas 1\", 850, 550)\n",
    "pad1 = ROOT.TPad(\"pad1\",\"Pad 1\",0.05,0.52,0.95,0.97)\n",
    "pad2 = ROOT.TPad(\"pad2\",\"Pad 2\",0.05,0.02,0.95,0.47)\n",
    "pad1.Draw()\n",
    "pad2.Draw()\n",
    "\n",
    "xvszstart = ROOT.TH2D(\"xvszstart\", \"X-Z Plane\", 350, 0, 6000, 350, -750, 750)\n",
    "xvszstop = ROOT.TH2D(\"xvszstop\", \"X vs Z Stop\", 350, 0, 6000, 350, -750, 750)\n",
    "\n",
    "pad1.cd()\n",
    "for entryNum in range(0, tree.GetEntries()):\n",
    "    tree.GetEntry(entryNum)\n",
    "    if getattr(tree, \"ntrack\") == 0:\n",
    "        continue\n",
    "    startPosx = getattr(tree, \"startPosX\")[0]\n",
    "    startPosz = getattr(tree, \"startPosZ\")[0]\n",
    "    stopPosx = getattr(tree, \"stopPosX\")[0]\n",
    "    stopPosz = getattr(tree, \"stopPosZ\")[0]\n",
    "    if entryNum == 1439:\n",
    "        print(\"event number\", entryNum)\n",
    "        xvszstart.Fill(startPosz, startPosx)\n",
    "        xvszstop.Fill(stopPosz, stopPosx)\n",
    "        linex = ROOT.TLine(startPosz, startPosx, stopPosz, stopPosx)\n",
    "linex.SetLineColor(ROOT.kBlue)\n",
    "xvszstart.GetYaxis().SetTitle(\"X Position (cm)\")\n",
    "xvszstart.GetXaxis().SetTitle(\"Z Position (cm)\")\n",
    "xvszstart.Draw()\n",
    "xvszstop.Draw(\"same\")\n",
    "linex.Draw()\n",
    "\n",
    "yvszstart = ROOT.TH2D(\"yvszstart\", \"Y-Z Plane\", 350, 0, 6000, 350, -750, 750)\n",
    "yvszstop = ROOT.TH2D(\"yvszstop\", \"Y vs Z Stop\", 350, 0, 6000, 350, -750, 750)\n",
    "\n",
    "pad2.cd()\n",
    "for entryNum in range(0, tree.GetEntries()):\n",
    "    tree.GetEntry(entryNum)\n",
    "    if getattr(tree, \"ntrack\") == 0:\n",
    "        continue\n",
    "    startPosy = getattr(tree, \"startPosY\")[0]\n",
    "    startPosz = getattr(tree, \"startPosZ\")[0]\n",
    "    stopPosy = getattr(tree, \"stopPosY\")[0]\n",
    "    stopPosz = getattr(tree, \"stopPosZ\")[0]\n",
    "    if entryNum == 1439:\n",
    "        print(\"event number\", entryNum)\n",
    "        yvszstart.Fill(startPosz, startPosy)\n",
    "        yvszstop.Fill(stopPosz, stopPosy)\n",
    "        liney = ROOT.TLine(startPosz, startPosy, stopPosz, stopPosy)\n",
    "liney.SetLineColor(ROOT.kBlue)\n",
    "yvszstart.GetYaxis().SetTitle(\"Y Position (cm)\")\n",
    "yvszstart.GetXaxis().SetTitle(\"Z Position (cm)\")\n",
    "yvszstart.Draw()\n",
    "yvszstop.Draw(\"same\")\n",
    "liney.Draw()\n",
    "\n",
    "canv.Draw()"
   ]
  },
  {
   "cell_type": "code",
   "execution_count": 46,
   "id": "cc2bf166",
   "metadata": {},
   "outputs": [
    {
     "name": "stdout",
     "output_type": "stream",
     "text": [
      "event number 1440\n",
      "event number 1440\n"
     ]
    },
    {
     "name": "stderr",
     "output_type": "stream",
     "text": [
      "Warning in <TCanvas::Constructor>: Deleting canvas with same name: c1\n",
      "Warning in <TFile::Append>: Replacing existing TH1: xvszstart (Potential memory leak).\n",
      "Warning in <TFile::Append>: Replacing existing TH1: xvszstop (Potential memory leak).\n",
      "Warning in <TFile::Append>: Replacing existing TH1: yvszstart (Potential memory leak).\n",
      "Warning in <TFile::Append>: Replacing existing TH1: yvszstop (Potential memory leak).\n"
     ]
    },
    {
     "data": {
      "image/png": "[encoded data removed]",
      "text/plain": [
       "<IPython.core.display.Image object>"
      ]
     },
     "metadata": {},
     "output_type": "display_data"
    }
   ],
   "source": [
    "canv = ROOT.TCanvas(\"c1\",\"Canvas 1\", 850, 550)\n",
    "pad1 = ROOT.TPad(\"pad1\",\"Pad 1\",0.05,0.52,0.95,0.97)\n",
    "pad2 = ROOT.TPad(\"pad2\",\"Pad 2\",0.05,0.02,0.95,0.47)\n",
    "pad1.Draw()\n",
    "pad2.Draw()\n",
    "\n",
    "xvszstart = ROOT.TH2D(\"xvszstart\", \"X-Z Plane\", 350, 0, 6000, 350, -750, 750)\n",
    "xvszstop = ROOT.TH2D(\"xvszstop\", \"X vs Z Stop\", 350, 0, 6000, 350, -750, 750)\n",
    "\n",
    "pad1.cd()\n",
    "for entryNum in range(0, tree.GetEntries()):\n",
    "    tree.GetEntry(entryNum)\n",
    "    if getattr(tree, \"ntrack\") == 0:\n",
    "        continue\n",
    "    startPosx = getattr(tree, \"startPosX\")[0]\n",
    "    startPosz = getattr(tree, \"startPosZ\")[0]\n",
    "    stopPosx = getattr(tree, \"stopPosX\")[0]\n",
    "    stopPosz = getattr(tree, \"stopPosZ\")[0]\n",
    "    if entryNum == 1440:\n",
    "        print(\"event number\", entryNum)\n",
    "        xvszstart.Fill(startPosz, startPosx)\n",
    "        xvszstop.Fill(stopPosz, stopPosx)\n",
    "        linex = ROOT.TLine(startPosz, startPosx, stopPosz, stopPosx)\n",
    "linex.SetLineColor(ROOT.kBlue)\n",
    "xvszstart.GetYaxis().SetTitle(\"X Position (cm)\")\n",
    "xvszstart.GetXaxis().SetTitle(\"Z Position (cm)\")\n",
    "xvszstart.Draw()\n",
    "xvszstop.Draw(\"same\")\n",
    "linex.Draw()\n",
    "\n",
    "yvszstart = ROOT.TH2D(\"yvszstart\", \"Y-Z Plane\", 350, 0, 6000, 350, -750, 750)\n",
    "yvszstop = ROOT.TH2D(\"yvszstop\", \"Y vs Z Stop\", 350, 0, 6000, 350, -750, 750)\n",
    "\n",
    "pad2.cd()\n",
    "for entryNum in range(0, tree.GetEntries()):\n",
    "    tree.GetEntry(entryNum)\n",
    "    if getattr(tree, \"ntrack\") == 0:\n",
    "        continue\n",
    "    startPosy = getattr(tree, \"startPosY\")[0]\n",
    "    startPosz = getattr(tree, \"startPosZ\")[0]\n",
    "    stopPosy = getattr(tree, \"stopPosY\")[0]\n",
    "    stopPosz = getattr(tree, \"stopPosZ\")[0]\n",
    "    if entryNum == 1440:\n",
    "        print(\"event number\", entryNum)\n",
    "        yvszstart.Fill(startPosz, startPosy)\n",
    "        yvszstop.Fill(stopPosz, stopPosy)\n",
    "        liney = ROOT.TLine(startPosz, startPosy, stopPosz, stopPosy)\n",
    "liney.SetLineColor(ROOT.kBlue)\n",
    "yvszstart.GetYaxis().SetTitle(\"Y Position (cm)\")\n",
    "yvszstart.GetXaxis().SetTitle(\"Z Position (cm)\")\n",
    "yvszstart.Draw()\n",
    "yvszstop.Draw(\"same\")\n",
    "liney.Draw()\n",
    "\n",
    "canv.Draw()"
   ]
  },
  {
   "cell_type": "code",
   "execution_count": 47,
   "id": "c93653a7",
   "metadata": {},
   "outputs": [
    {
     "name": "stdout",
     "output_type": "stream",
     "text": [
      "event number 1441\n",
      "event number 1441\n"
     ]
    },
    {
     "name": "stderr",
     "output_type": "stream",
     "text": [
      "Warning in <TCanvas::Constructor>: Deleting canvas with same name: c1\n",
      "Warning in <TFile::Append>: Replacing existing TH1: xvszstart (Potential memory leak).\n",
      "Warning in <TFile::Append>: Replacing existing TH1: xvszstop (Potential memory leak).\n",
      "Warning in <TFile::Append>: Replacing existing TH1: yvszstart (Potential memory leak).\n",
      "Warning in <TFile::Append>: Replacing existing TH1: yvszstop (Potential memory leak).\n"
     ]
    },
    {
     "data": {
      "image/png": "[encoded data removed]",
      "text/plain": [
       "<IPython.core.display.Image object>"
      ]
     },
     "metadata": {},
     "output_type": "display_data"
    }
   ],
   "source": [
    "canv = ROOT.TCanvas(\"c1\",\"Canvas 1\", 850, 550)\n",
    "pad1 = ROOT.TPad(\"pad1\",\"Pad 1\",0.05,0.52,0.95,0.97)\n",
    "pad2 = ROOT.TPad(\"pad2\",\"Pad 2\",0.05,0.02,0.95,0.47)\n",
    "pad1.Draw()\n",
    "pad2.Draw()\n",
    "\n",
    "xvszstart = ROOT.TH2D(\"xvszstart\", \"X-Z Plane\", 350, 0, 6000, 350, -750, 750)\n",
    "xvszstop = ROOT.TH2D(\"xvszstop\", \"X vs Z Stop\", 350, 0, 6000, 350, -750, 750)\n",
    "\n",
    "pad1.cd()\n",
    "for entryNum in range(0, tree.GetEntries()):\n",
    "    tree.GetEntry(entryNum)\n",
    "    if getattr(tree, \"ntrack\") == 0:\n",
    "        continue\n",
    "    startPosx = getattr(tree, \"startPosX\")[0]\n",
    "    startPosz = getattr(tree, \"startPosZ\")[0]\n",
    "    stopPosx = getattr(tree, \"stopPosX\")[0]\n",
    "    stopPosz = getattr(tree, \"stopPosZ\")[0]\n",
    "    if entryNum == 1441:\n",
    "        print(\"event number\", entryNum)\n",
    "        xvszstart.Fill(startPosz, startPosx)\n",
    "        xvszstop.Fill(stopPosz, stopPosx)\n",
    "        linex = ROOT.TLine(startPosz, startPosx, stopPosz, stopPosx)\n",
    "linex.SetLineColor(ROOT.kBlue)\n",
    "xvszstart.GetYaxis().SetTitle(\"X Position (cm)\")\n",
    "xvszstart.GetXaxis().SetTitle(\"Z Position (cm)\")\n",
    "xvszstart.Draw()\n",
    "xvszstop.Draw(\"same\")\n",
    "linex.Draw()\n",
    "\n",
    "yvszstart = ROOT.TH2D(\"yvszstart\", \"Y-Z Plane\", 350, 0, 6000, 350, -750, 750)\n",
    "yvszstop = ROOT.TH2D(\"yvszstop\", \"Y vs Z Stop\", 350, 0, 6000, 350, -750, 750)\n",
    "\n",
    "pad2.cd()\n",
    "for entryNum in range(0, tree.GetEntries()):\n",
    "    tree.GetEntry(entryNum)\n",
    "    if getattr(tree, \"ntrack\") == 0:\n",
    "        continue\n",
    "    startPosy = getattr(tree, \"startPosY\")[0]\n",
    "    startPosz = getattr(tree, \"startPosZ\")[0]\n",
    "    stopPosy = getattr(tree, \"stopPosY\")[0]\n",
    "    stopPosz = getattr(tree, \"stopPosZ\")[0]\n",
    "    if entryNum == 1441:\n",
    "        print(\"event number\", entryNum)\n",
    "        yvszstart.Fill(startPosz, startPosy)\n",
    "        yvszstop.Fill(stopPosz, stopPosy)\n",
    "        liney = ROOT.TLine(startPosz, startPosy, stopPosz, stopPosy)\n",
    "liney.SetLineColor(ROOT.kBlue)\n",
    "yvszstart.GetYaxis().SetTitle(\"Y Position (cm)\")\n",
    "yvszstart.GetXaxis().SetTitle(\"Z Position (cm)\")\n",
    "yvszstart.Draw()\n",
    "yvszstop.Draw(\"same\")\n",
    "liney.Draw()\n",
    "\n",
    "canv.Draw()"
   ]
  },
  {
   "cell_type": "code",
   "execution_count": 48,
   "id": "e5b4c6a5",
   "metadata": {},
   "outputs": [
    {
     "name": "stdout",
     "output_type": "stream",
     "text": [
      "event number 1442\n",
      "event number 1442\n"
     ]
    },
    {
     "name": "stderr",
     "output_type": "stream",
     "text": [
      "Warning in <TCanvas::Constructor>: Deleting canvas with same name: c1\n",
      "Warning in <TFile::Append>: Replacing existing TH1: xvszstart (Potential memory leak).\n",
      "Warning in <TFile::Append>: Replacing existing TH1: xvszstop (Potential memory leak).\n",
      "Warning in <TFile::Append>: Replacing existing TH1: yvszstart (Potential memory leak).\n",
      "Warning in <TFile::Append>: Replacing existing TH1: yvszstop (Potential memory leak).\n"
     ]
    },
    {
     "data": {
      "image/png": "[encoded data removed]",
      "text/plain": [
       "<IPython.core.display.Image object>"
      ]
     },
     "metadata": {},
     "output_type": "display_data"
    }
   ],
   "source": [
    "canv = ROOT.TCanvas(\"c1\",\"Canvas 1\", 850, 550)\n",
    "pad1 = ROOT.TPad(\"pad1\",\"Pad 1\",0.05,0.52,0.95,0.97)\n",
    "pad2 = ROOT.TPad(\"pad2\",\"Pad 2\",0.05,0.02,0.95,0.47)\n",
    "pad1.Draw()\n",
    "pad2.Draw()\n",
    "\n",
    "xvszstart = ROOT.TH2D(\"xvszstart\", \"X-Z Plane\", 350, 0, 6000, 350, -750, 750)\n",
    "xvszstop = ROOT.TH2D(\"xvszstop\", \"X vs Z Stop\", 350, 0, 6000, 350, -750, 750)\n",
    "\n",
    "pad1.cd()\n",
    "for entryNum in range(0, tree.GetEntries()):\n",
    "    tree.GetEntry(entryNum)\n",
    "    if getattr(tree, \"ntrack\") == 0:\n",
    "        continue\n",
    "    startPosx = getattr(tree, \"startPosX\")[0]\n",
    "    startPosz = getattr(tree, \"startPosZ\")[0]\n",
    "    stopPosx = getattr(tree, \"stopPosX\")[0]\n",
    "    stopPosz = getattr(tree, \"stopPosZ\")[0]\n",
    "    if entryNum == 1442:\n",
    "        print(\"event number\", entryNum)\n",
    "        xvszstart.Fill(startPosz, startPosx)\n",
    "        xvszstop.Fill(stopPosz, stopPosx)\n",
    "        linex = ROOT.TLine(startPosz, startPosx, stopPosz, stopPosx)\n",
    "linex.SetLineColor(ROOT.kBlue)\n",
    "xvszstart.GetYaxis().SetTitle(\"X Position (cm)\")\n",
    "xvszstart.GetXaxis().SetTitle(\"Z Position (cm)\")\n",
    "xvszstart.Draw()\n",
    "xvszstop.Draw(\"same\")\n",
    "linex.Draw()\n",
    "\n",
    "yvszstart = ROOT.TH2D(\"yvszstart\", \"Y-Z Plane\", 350, 0, 6000, 350, -750, 750)\n",
    "yvszstop = ROOT.TH2D(\"yvszstop\", \"Y vs Z Stop\", 350, 0, 6000, 350, -750, 750)\n",
    "\n",
    "pad2.cd()\n",
    "for entryNum in range(0, tree.GetEntries()):\n",
    "    tree.GetEntry(entryNum)\n",
    "    if getattr(tree, \"ntrack\") == 0:\n",
    "        continue\n",
    "    startPosy = getattr(tree, \"startPosY\")[0]\n",
    "    startPosz = getattr(tree, \"startPosZ\")[0]\n",
    "    stopPosy = getattr(tree, \"stopPosY\")[0]\n",
    "    stopPosz = getattr(tree, \"stopPosZ\")[0]\n",
    "    if entryNum == 1442:\n",
    "        print(\"event number\", entryNum)\n",
    "        yvszstart.Fill(startPosz, startPosy)\n",
    "        yvszstop.Fill(stopPosz, stopPosy)\n",
    "        liney = ROOT.TLine(startPosz, startPosy, stopPosz, stopPosy)\n",
    "liney.SetLineColor(ROOT.kBlue)\n",
    "yvszstart.GetYaxis().SetTitle(\"Y Position (cm)\")\n",
    "yvszstart.GetXaxis().SetTitle(\"Z Position (cm)\")\n",
    "yvszstart.Draw()\n",
    "yvszstop.Draw(\"same\")\n",
    "liney.Draw()\n",
    "\n",
    "canv.Draw()"
   ]
  },
  {
   "cell_type": "code",
   "execution_count": 49,
   "id": "b049ac71",
   "metadata": {},
   "outputs": [
    {
     "name": "stdout",
     "output_type": "stream",
     "text": [
      "event number 1443\n",
      "event number 1443\n"
     ]
    },
    {
     "name": "stderr",
     "output_type": "stream",
     "text": [
      "Warning in <TCanvas::Constructor>: Deleting canvas with same name: c1\n",
      "Warning in <TFile::Append>: Replacing existing TH1: xvszstart (Potential memory leak).\n",
      "Warning in <TFile::Append>: Replacing existing TH1: xvszstop (Potential memory leak).\n",
      "Warning in <TFile::Append>: Replacing existing TH1: yvszstart (Potential memory leak).\n",
      "Warning in <TFile::Append>: Replacing existing TH1: yvszstop (Potential memory leak).\n"
     ]
    },
    {
     "data": {
      "image/png": "[encoded data removed]",
      "text/plain": [
       "<IPython.core.display.Image object>"
      ]
     },
     "metadata": {},
     "output_type": "display_data"
    }
   ],
   "source": [
    "canv = ROOT.TCanvas(\"c1\",\"Canvas 1\", 850, 550)\n",
    "pad1 = ROOT.TPad(\"pad1\",\"Pad 1\",0.05,0.52,0.95,0.97)\n",
    "pad2 = ROOT.TPad(\"pad2\",\"Pad 2\",0.05,0.02,0.95,0.47)\n",
    "pad1.Draw()\n",
    "pad2.Draw()\n",
    "\n",
    "xvszstart = ROOT.TH2D(\"xvszstart\", \"X-Z Plane\", 350, 0, 6000, 350, -750, 750)\n",
    "xvszstop = ROOT.TH2D(\"xvszstop\", \"X vs Z Stop\", 350, 0, 6000, 350, -750, 750)\n",
    "\n",
    "pad1.cd()\n",
    "for entryNum in range(0, tree.GetEntries()):\n",
    "    tree.GetEntry(entryNum)\n",
    "    if getattr(tree, \"ntrack\") == 0:\n",
    "        continue\n",
    "    startPosx = getattr(tree, \"startPosX\")[0]\n",
    "    startPosz = getattr(tree, \"startPosZ\")[0]\n",
    "    stopPosx = getattr(tree, \"stopPosX\")[0]\n",
    "    stopPosz = getattr(tree, \"stopPosZ\")[0]\n",
    "    if entryNum == 1443:\n",
    "        print(\"event number\", entryNum)\n",
    "        xvszstart.Fill(startPosz, startPosx)\n",
    "        xvszstop.Fill(stopPosz, stopPosx)\n",
    "        linex = ROOT.TLine(startPosz, startPosx, stopPosz, stopPosx)\n",
    "linex.SetLineColor(ROOT.kBlue)\n",
    "xvszstart.GetYaxis().SetTitle(\"X Position (cm)\")\n",
    "xvszstart.GetXaxis().SetTitle(\"Z Position (cm)\")\n",
    "xvszstart.Draw()\n",
    "xvszstop.Draw(\"same\")\n",
    "linex.Draw()\n",
    "\n",
    "yvszstart = ROOT.TH2D(\"yvszstart\", \"Y-Z Plane\", 350, 0, 6000, 350, -750, 750)\n",
    "yvszstop = ROOT.TH2D(\"yvszstop\", \"Y vs Z Stop\", 350, 0, 6000, 350, -750, 750)\n",
    "\n",
    "pad2.cd()\n",
    "for entryNum in range(0, tree.GetEntries()):\n",
    "    tree.GetEntry(entryNum)\n",
    "    if getattr(tree, \"ntrack\") == 0:\n",
    "        continue\n",
    "    startPosy = getattr(tree, \"startPosY\")[0]\n",
    "    startPosz = getattr(tree, \"startPosZ\")[0]\n",
    "    stopPosy = getattr(tree, \"stopPosY\")[0]\n",
    "    stopPosz = getattr(tree, \"stopPosZ\")[0]\n",
    "    if entryNum == 1443:\n",
    "        print(\"event number\", entryNum)\n",
    "        yvszstart.Fill(startPosz, startPosy)\n",
    "        yvszstop.Fill(stopPosz, stopPosy)\n",
    "        liney = ROOT.TLine(startPosz, startPosy, stopPosz, stopPosy)\n",
    "liney.SetLineColor(ROOT.kBlue)\n",
    "yvszstart.GetYaxis().SetTitle(\"Y Position (cm)\")\n",
    "yvszstart.GetXaxis().SetTitle(\"Z Position (cm)\")\n",
    "yvszstart.Draw()\n",
    "yvszstop.Draw(\"same\")\n",
    "liney.Draw()\n",
    "\n",
    "canv.Draw()"
   ]
  },
  {
   "cell_type": "code",
   "execution_count": 50,
   "id": "69d99935",
   "metadata": {},
   "outputs": [
    {
     "name": "stdout",
     "output_type": "stream",
     "text": [
      "event number 1444\n",
      "event number 1444\n"
     ]
    },
    {
     "name": "stderr",
     "output_type": "stream",
     "text": [
      "Warning in <TCanvas::Constructor>: Deleting canvas with same name: c1\n",
      "Warning in <TFile::Append>: Replacing existing TH1: xvszstart (Potential memory leak).\n",
      "Warning in <TFile::Append>: Replacing existing TH1: xvszstop (Potential memory leak).\n",
      "Warning in <TFile::Append>: Replacing existing TH1: yvszstart (Potential memory leak).\n",
      "Warning in <TFile::Append>: Replacing existing TH1: yvszstop (Potential memory leak).\n"
     ]
    },
    {
     "data": {
      "image/png": "[encoded data removed]",
      "text/plain": [
       "<IPython.core.display.Image object>"
      ]
     },
     "metadata": {},
     "output_type": "display_data"
    }
   ],
   "source": [
    "canv = ROOT.TCanvas(\"c1\",\"Canvas 1\", 850, 550)\n",
    "pad1 = ROOT.TPad(\"pad1\",\"Pad 1\",0.05,0.52,0.95,0.97)\n",
    "pad2 = ROOT.TPad(\"pad2\",\"Pad 2\",0.05,0.02,0.95,0.47)\n",
    "pad1.Draw()\n",
    "pad2.Draw()\n",
    "\n",
    "xvszstart = ROOT.TH2D(\"xvszstart\", \"X-Z Plane\", 350, 0, 6000, 350, -750, 750)\n",
    "xvszstop = ROOT.TH2D(\"xvszstop\", \"X vs Z Stop\", 350, 0, 6000, 350, -750, 750)\n",
    "\n",
    "pad1.cd()\n",
    "for entryNum in range(0, tree.GetEntries()):\n",
    "    tree.GetEntry(entryNum)\n",
    "    if getattr(tree, \"ntrack\") == 0:\n",
    "        continue\n",
    "    startPosx = getattr(tree, \"startPosX\")[0]\n",
    "    startPosz = getattr(tree, \"startPosZ\")[0]\n",
    "    stopPosx = getattr(tree, \"stopPosX\")[0]\n",
    "    stopPosz = getattr(tree, \"stopPosZ\")[0]\n",
    "    if entryNum == 1444:\n",
    "        print(\"event number\", entryNum)\n",
    "        xvszstart.Fill(startPosz, startPosx)\n",
    "        xvszstop.Fill(stopPosz, stopPosx)\n",
    "        linex = ROOT.TLine(startPosz, startPosx, stopPosz, stopPosx)\n",
    "linex.SetLineColor(ROOT.kBlue)\n",
    "xvszstart.GetYaxis().SetTitle(\"X Position (cm)\")\n",
    "xvszstart.GetXaxis().SetTitle(\"Z Position (cm)\")\n",
    "xvszstart.Draw()\n",
    "xvszstop.Draw(\"same\")\n",
    "linex.Draw()\n",
    "\n",
    "yvszstart = ROOT.TH2D(\"yvszstart\", \"Y-Z Plane\", 350, 0, 6000, 350, -750, 750)\n",
    "yvszstop = ROOT.TH2D(\"yvszstop\", \"Y vs Z Stop\", 350, 0, 6000, 350, -750, 750)\n",
    "\n",
    "pad2.cd()\n",
    "for entryNum in range(0, tree.GetEntries()):\n",
    "    tree.GetEntry(entryNum)\n",
    "    if getattr(tree, \"ntrack\") == 0:\n",
    "        continue\n",
    "    startPosy = getattr(tree, \"startPosY\")[0]\n",
    "    startPosz = getattr(tree, \"startPosZ\")[0]\n",
    "    stopPosy = getattr(tree, \"stopPosY\")[0]\n",
    "    stopPosz = getattr(tree, \"stopPosZ\")[0]\n",
    "    if entryNum == 1444:\n",
    "        print(\"event number\", entryNum)\n",
    "        yvszstart.Fill(startPosz, startPosy)\n",
    "        yvszstop.Fill(stopPosz, stopPosy)\n",
    "        liney = ROOT.TLine(startPosz, startPosy, stopPosz, stopPosy)\n",
    "liney.SetLineColor(ROOT.kBlue)\n",
    "yvszstart.GetYaxis().SetTitle(\"Y Position (cm)\")\n",
    "yvszstart.GetXaxis().SetTitle(\"Z Position (cm)\")\n",
    "yvszstart.Draw()\n",
    "yvszstop.Draw(\"same\")\n",
    "liney.Draw()\n",
    "\n",
    "canv.Draw()"
   ]
  },
  {
   "cell_type": "code",
   "execution_count": 51,
   "id": "d2c195fa",
   "metadata": {},
   "outputs": [
    {
     "name": "stdout",
     "output_type": "stream",
     "text": [
      "event number 1445\n",
      "event number 1445\n"
     ]
    },
    {
     "name": "stderr",
     "output_type": "stream",
     "text": [
      "Warning in <TCanvas::Constructor>: Deleting canvas with same name: c1\n",
      "Warning in <TFile::Append>: Replacing existing TH1: xvszstart (Potential memory leak).\n",
      "Warning in <TFile::Append>: Replacing existing TH1: xvszstop (Potential memory leak).\n",
      "Warning in <TFile::Append>: Replacing existing TH1: yvszstart (Potential memory leak).\n",
      "Warning in <TFile::Append>: Replacing existing TH1: yvszstop (Potential memory leak).\n"
     ]
    },
    {
     "data": {
      "image/png": "[encoded data removed]",
      "text/plain": [
       "<IPython.core.display.Image object>"
      ]
     },
     "metadata": {},
     "output_type": "display_data"
    }
   ],
   "source": [
    "canv = ROOT.TCanvas(\"c1\",\"Canvas 1\", 850, 550)\n",
    "pad1 = ROOT.TPad(\"pad1\",\"Pad 1\",0.05,0.52,0.95,0.97)\n",
    "pad2 = ROOT.TPad(\"pad2\",\"Pad 2\",0.05,0.02,0.95,0.47)\n",
    "pad1.Draw()\n",
    "pad2.Draw()\n",
    "\n",
    "xvszstart = ROOT.TH2D(\"xvszstart\", \"X-Z Plane\", 350, 0, 6000, 350, -750, 750)\n",
    "xvszstop = ROOT.TH2D(\"xvszstop\", \"X vs Z Stop\", 350, 0, 6000, 350, -750, 750)\n",
    "\n",
    "pad1.cd()\n",
    "for entryNum in range(0, tree.GetEntries()):\n",
    "    tree.GetEntry(entryNum)\n",
    "    if getattr(tree, \"ntrack\") == 0:\n",
    "        continue\n",
    "    startPosx = getattr(tree, \"startPosX\")[0]\n",
    "    startPosz = getattr(tree, \"startPosZ\")[0]\n",
    "    stopPosx = getattr(tree, \"stopPosX\")[0]\n",
    "    stopPosz = getattr(tree, \"stopPosZ\")[0]\n",
    "    if entryNum == 1445:\n",
    "        print(\"event number\", entryNum)\n",
    "        xvszstart.Fill(startPosz, startPosx)\n",
    "        xvszstop.Fill(stopPosz, stopPosx)\n",
    "        linex = ROOT.TLine(startPosz, startPosx, stopPosz, stopPosx)\n",
    "linex.SetLineColor(ROOT.kBlue)\n",
    "xvszstart.GetYaxis().SetTitle(\"X Position (cm)\")\n",
    "xvszstart.GetXaxis().SetTitle(\"Z Position (cm)\")\n",
    "xvszstart.Draw()\n",
    "xvszstop.Draw(\"same\")\n",
    "linex.Draw()\n",
    "\n",
    "yvszstart = ROOT.TH2D(\"yvszstart\", \"Y-Z Plane\", 350, 0, 6000, 350, -750, 750)\n",
    "yvszstop = ROOT.TH2D(\"yvszstop\", \"Y vs Z Stop\", 350, 0, 6000, 350, -750, 750)\n",
    "\n",
    "pad2.cd()\n",
    "for entryNum in range(0, tree.GetEntries()):\n",
    "    tree.GetEntry(entryNum)\n",
    "    if getattr(tree, \"ntrack\") == 0:\n",
    "        continue\n",
    "    startPosy = getattr(tree, \"startPosY\")[0]\n",
    "    startPosz = getattr(tree, \"startPosZ\")[0]\n",
    "    stopPosy = getattr(tree, \"stopPosY\")[0]\n",
    "    stopPosz = getattr(tree, \"stopPosZ\")[0]\n",
    "    if entryNum == 1445:\n",
    "        print(\"event number\", entryNum)\n",
    "        yvszstart.Fill(startPosz, startPosy)\n",
    "        yvszstop.Fill(stopPosz, stopPosy)\n",
    "        liney = ROOT.TLine(startPosz, startPosy, stopPosz, stopPosy)\n",
    "liney.SetLineColor(ROOT.kBlue)\n",
    "yvszstart.GetYaxis().SetTitle(\"Y Position (cm)\")\n",
    "yvszstart.GetXaxis().SetTitle(\"Z Position (cm)\")\n",
    "yvszstart.Draw()\n",
    "yvszstop.Draw(\"same\")\n",
    "liney.Draw()\n",
    "\n",
    "canv.Draw()"
   ]
  },
  {
   "cell_type": "code",
   "execution_count": 52,
   "id": "bb76f049",
   "metadata": {},
   "outputs": [
    {
     "name": "stdout",
     "output_type": "stream",
     "text": [
      "event number 1446\n",
      "event number 1446\n"
     ]
    },
    {
     "name": "stderr",
     "output_type": "stream",
     "text": [
      "Warning in <TCanvas::Constructor>: Deleting canvas with same name: c1\n",
      "Warning in <TFile::Append>: Replacing existing TH1: xvszstart (Potential memory leak).\n",
      "Warning in <TFile::Append>: Replacing existing TH1: xvszstop (Potential memory leak).\n",
      "Warning in <TFile::Append>: Replacing existing TH1: yvszstart (Potential memory leak).\n",
      "Warning in <TFile::Append>: Replacing existing TH1: yvszstop (Potential memory leak).\n"
     ]
    },
    {
     "data": {
      "image/png": "[encoded data removed]",
      "text/plain": [
       "<IPython.core.display.Image object>"
      ]
     },
     "metadata": {},
     "output_type": "display_data"
    }
   ],
   "source": [
    "canv = ROOT.TCanvas(\"c1\",\"Canvas 1\", 850, 550)\n",
    "pad1 = ROOT.TPad(\"pad1\",\"Pad 1\",0.05,0.52,0.95,0.97)\n",
    "pad2 = ROOT.TPad(\"pad2\",\"Pad 2\",0.05,0.02,0.95,0.47)\n",
    "pad1.Draw()\n",
    "pad2.Draw()\n",
    "\n",
    "xvszstart = ROOT.TH2D(\"xvszstart\", \"X-Z Plane\", 350, 0, 6000, 350, -750, 750)\n",
    "xvszstop = ROOT.TH2D(\"xvszstop\", \"X vs Z Stop\", 350, 0, 6000, 350, -750, 750)\n",
    "\n",
    "pad1.cd()\n",
    "for entryNum in range(0, tree.GetEntries()):\n",
    "    tree.GetEntry(entryNum)\n",
    "    if getattr(tree, \"ntrack\") == 0:\n",
    "        continue\n",
    "    startPosx = getattr(tree, \"startPosX\")[0]\n",
    "    startPosz = getattr(tree, \"startPosZ\")[0]\n",
    "    stopPosx = getattr(tree, \"stopPosX\")[0]\n",
    "    stopPosz = getattr(tree, \"stopPosZ\")[0]\n",
    "    if entryNum == 1446:\n",
    "        print(\"event number\", entryNum)\n",
    "        xvszstart.Fill(startPosz, startPosx)\n",
    "        xvszstop.Fill(stopPosz, stopPosx)\n",
    "        linex = ROOT.TLine(startPosz, startPosx, stopPosz, stopPosx)\n",
    "linex.SetLineColor(ROOT.kBlue)\n",
    "xvszstart.GetYaxis().SetTitle(\"X Position (cm)\")\n",
    "xvszstart.GetXaxis().SetTitle(\"Z Position (cm)\")\n",
    "xvszstart.Draw()\n",
    "xvszstop.Draw(\"same\")\n",
    "linex.Draw()\n",
    "\n",
    "yvszstart = ROOT.TH2D(\"yvszstart\", \"Y-Z Plane\", 350, 0, 6000, 350, -750, 750)\n",
    "yvszstop = ROOT.TH2D(\"yvszstop\", \"Y vs Z Stop\", 350, 0, 6000, 350, -750, 750)\n",
    "\n",
    "pad2.cd()\n",
    "for entryNum in range(0, tree.GetEntries()):\n",
    "    tree.GetEntry(entryNum)\n",
    "    if getattr(tree, \"ntrack\") == 0:\n",
    "        continue\n",
    "    startPosy = getattr(tree, \"startPosY\")[0]\n",
    "    startPosz = getattr(tree, \"startPosZ\")[0]\n",
    "    stopPosy = getattr(tree, \"stopPosY\")[0]\n",
    "    stopPosz = getattr(tree, \"stopPosZ\")[0]\n",
    "    if entryNum == 1446:\n",
    "        print(\"event number\", entryNum)\n",
    "        yvszstart.Fill(startPosz, startPosy)\n",
    "        yvszstop.Fill(stopPosz, stopPosy)\n",
    "        liney = ROOT.TLine(startPosz, startPosy, stopPosz, stopPosy)\n",
    "liney.SetLineColor(ROOT.kBlue)\n",
    "yvszstart.GetYaxis().SetTitle(\"Y Position (cm)\")\n",
    "yvszstart.GetXaxis().SetTitle(\"Z Position (cm)\")\n",
    "yvszstart.Draw()\n",
    "yvszstop.Draw(\"same\")\n",
    "liney.Draw()\n",
    "\n",
    "canv.Draw()"
   ]
  },
  {
   "cell_type": "code",
   "execution_count": 53,
   "id": "2979252b",
   "metadata": {},
   "outputs": [
    {
     "name": "stdout",
     "output_type": "stream",
     "text": [
      "event number 1447\n",
      "event number 1447\n"
     ]
    },
    {
     "name": "stderr",
     "output_type": "stream",
     "text": [
      "Warning in <TCanvas::Constructor>: Deleting canvas with same name: c1\n",
      "Warning in <TFile::Append>: Replacing existing TH1: xvszstart (Potential memory leak).\n",
      "Warning in <TFile::Append>: Replacing existing TH1: xvszstop (Potential memory leak).\n",
      "Warning in <TFile::Append>: Replacing existing TH1: yvszstart (Potential memory leak).\n",
      "Warning in <TFile::Append>: Replacing existing TH1: yvszstop (Potential memory leak).\n"
     ]
    },
    {
     "data": {
      "image/png": "[encoded data removed]",
      "text/plain": [
       "<IPython.core.display.Image object>"
      ]
     },
     "metadata": {},
     "output_type": "display_data"
    }
   ],
   "source": [
    "canv = ROOT.TCanvas(\"c1\",\"Canvas 1\", 850, 550)\n",
    "pad1 = ROOT.TPad(\"pad1\",\"Pad 1\",0.05,0.52,0.95,0.97)\n",
    "pad2 = ROOT.TPad(\"pad2\",\"Pad 2\",0.05,0.02,0.95,0.47)\n",
    "pad1.Draw()\n",
    "pad2.Draw()\n",
    "\n",
    "xvszstart = ROOT.TH2D(\"xvszstart\", \"X-Z Plane\", 350, 0, 6000, 350, -750, 750)\n",
    "xvszstop = ROOT.TH2D(\"xvszstop\", \"X vs Z Stop\", 350, 0, 6000, 350, -750, 750)\n",
    "\n",
    "pad1.cd()\n",
    "for entryNum in range(0, tree.GetEntries()):\n",
    "    tree.GetEntry(entryNum)\n",
    "    if getattr(tree, \"ntrack\") == 0:\n",
    "        continue\n",
    "    startPosx = getattr(tree, \"startPosX\")[0]\n",
    "    startPosz = getattr(tree, \"startPosZ\")[0]\n",
    "    stopPosx = getattr(tree, \"stopPosX\")[0]\n",
    "    stopPosz = getattr(tree, \"stopPosZ\")[0]\n",
    "    if entryNum == 1447:\n",
    "        print(\"event number\", entryNum)\n",
    "        xvszstart.Fill(startPosz, startPosx)\n",
    "        xvszstop.Fill(stopPosz, stopPosx)\n",
    "        linex = ROOT.TLine(startPosz, startPosx, stopPosz, stopPosx)\n",
    "linex.SetLineColor(ROOT.kBlue)\n",
    "xvszstart.GetYaxis().SetTitle(\"X Position (cm)\")\n",
    "xvszstart.GetXaxis().SetTitle(\"Z Position (cm)\")\n",
    "xvszstart.Draw()\n",
    "xvszstop.Draw(\"same\")\n",
    "linex.Draw()\n",
    "\n",
    "yvszstart = ROOT.TH2D(\"yvszstart\", \"Y-Z Plane\", 350, 0, 6000, 350, -750, 750)\n",
    "yvszstop = ROOT.TH2D(\"yvszstop\", \"Y vs Z Stop\", 350, 0, 6000, 350, -750, 750)\n",
    "\n",
    "pad2.cd()\n",
    "for entryNum in range(0, tree.GetEntries()):\n",
    "    tree.GetEntry(entryNum)\n",
    "    if getattr(tree, \"ntrack\") == 0:\n",
    "        continue\n",
    "    startPosy = getattr(tree, \"startPosY\")[0]\n",
    "    startPosz = getattr(tree, \"startPosZ\")[0]\n",
    "    stopPosy = getattr(tree, \"stopPosY\")[0]\n",
    "    stopPosz = getattr(tree, \"stopPosZ\")[0]\n",
    "    if entryNum == 1447:\n",
    "        print(\"event number\", entryNum)\n",
    "        yvszstart.Fill(startPosz, startPosy)\n",
    "        yvszstop.Fill(stopPosz, stopPosy)\n",
    "        liney = ROOT.TLine(startPosz, startPosy, stopPosz, stopPosy)\n",
    "liney.SetLineColor(ROOT.kBlue)\n",
    "yvszstart.GetYaxis().SetTitle(\"Y Position (cm)\")\n",
    "yvszstart.GetXaxis().SetTitle(\"Z Position (cm)\")\n",
    "yvszstart.Draw()\n",
    "yvszstop.Draw(\"same\")\n",
    "liney.Draw()\n",
    "\n",
    "canv.Draw()"
   ]
  },
  {
   "cell_type": "code",
   "execution_count": 54,
   "id": "078e07ce",
   "metadata": {},
   "outputs": [
    {
     "name": "stdout",
     "output_type": "stream",
     "text": [
      "event number 1448\n",
      "event number 1448\n"
     ]
    },
    {
     "name": "stderr",
     "output_type": "stream",
     "text": [
      "Warning in <TCanvas::Constructor>: Deleting canvas with same name: c1\n",
      "Warning in <TFile::Append>: Replacing existing TH1: xvszstart (Potential memory leak).\n",
      "Warning in <TFile::Append>: Replacing existing TH1: xvszstop (Potential memory leak).\n",
      "Warning in <TFile::Append>: Replacing existing TH1: yvszstart (Potential memory leak).\n",
      "Warning in <TFile::Append>: Replacing existing TH1: yvszstop (Potential memory leak).\n"
     ]
    },
    {
     "data": {
      "image/png": "[encoded data removed]",
      "text/plain": [
       "<IPython.core.display.Image object>"
      ]
     },
     "metadata": {},
     "output_type": "display_data"
    }
   ],
   "source": [
    "canv = ROOT.TCanvas(\"c1\",\"Canvas 1\", 850, 550)\n",
    "pad1 = ROOT.TPad(\"pad1\",\"Pad 1\",0.05,0.52,0.95,0.97)\n",
    "pad2 = ROOT.TPad(\"pad2\",\"Pad 2\",0.05,0.02,0.95,0.47)\n",
    "pad1.Draw()\n",
    "pad2.Draw()\n",
    "\n",
    "xvszstart = ROOT.TH2D(\"xvszstart\", \"X-Z Plane\", 350, 0, 6000, 350, -750, 750)\n",
    "xvszstop = ROOT.TH2D(\"xvszstop\", \"X vs Z Stop\", 350, 0, 6000, 350, -750, 750)\n",
    "\n",
    "pad1.cd()\n",
    "for entryNum in range(0, tree.GetEntries()):\n",
    "    tree.GetEntry(entryNum)\n",
    "    if getattr(tree, \"ntrack\") == 0:\n",
    "        continue\n",
    "    startPosx = getattr(tree, \"startPosX\")[0]\n",
    "    startPosz = getattr(tree, \"startPosZ\")[0]\n",
    "    stopPosx = getattr(tree, \"stopPosX\")[0]\n",
    "    stopPosz = getattr(tree, \"stopPosZ\")[0]\n",
    "    if entryNum == 1448:\n",
    "        print(\"event number\", entryNum)\n",
    "        xvszstart.Fill(startPosz, startPosx)\n",
    "        xvszstop.Fill(stopPosz, stopPosx)\n",
    "        linex = ROOT.TLine(startPosz, startPosx, stopPosz, stopPosx)\n",
    "linex.SetLineColor(ROOT.kBlue)\n",
    "xvszstart.GetYaxis().SetTitle(\"X Position (cm)\")\n",
    "xvszstart.GetXaxis().SetTitle(\"Z Position (cm)\")\n",
    "xvszstart.Draw()\n",
    "xvszstop.Draw(\"same\")\n",
    "linex.Draw()\n",
    "\n",
    "yvszstart = ROOT.TH2D(\"yvszstart\", \"Y-Z Plane\", 350, 0, 6000, 350, -750, 750)\n",
    "yvszstop = ROOT.TH2D(\"yvszstop\", \"Y vs Z Stop\", 350, 0, 6000, 350, -750, 750)\n",
    "\n",
    "pad2.cd()\n",
    "for entryNum in range(0, tree.GetEntries()):\n",
    "    tree.GetEntry(entryNum)\n",
    "    if getattr(tree, \"ntrack\") == 0:\n",
    "        continue\n",
    "    startPosy = getattr(tree, \"startPosY\")[0]\n",
    "    startPosz = getattr(tree, \"startPosZ\")[0]\n",
    "    stopPosy = getattr(tree, \"stopPosY\")[0]\n",
    "    stopPosz = getattr(tree, \"stopPosZ\")[0]\n",
    "    if entryNum == 1448:\n",
    "        print(\"event number\", entryNum)\n",
    "        yvszstart.Fill(startPosz, startPosy)\n",
    "        yvszstop.Fill(stopPosz, stopPosy)\n",
    "        liney = ROOT.TLine(startPosz, startPosy, stopPosz, stopPosy)\n",
    "liney.SetLineColor(ROOT.kBlue)\n",
    "yvszstart.GetYaxis().SetTitle(\"Y Position (cm)\")\n",
    "yvszstart.GetXaxis().SetTitle(\"Z Position (cm)\")\n",
    "yvszstart.Draw()\n",
    "yvszstop.Draw(\"same\")\n",
    "liney.Draw()\n",
    "\n",
    "canv.Draw()"
   ]
  },
  {
   "cell_type": "code",
   "execution_count": 55,
   "id": "7354f5cc",
   "metadata": {},
   "outputs": [
    {
     "name": "stdout",
     "output_type": "stream",
     "text": [
      "event number 1449\n",
      "event number 1449\n"
     ]
    },
    {
     "name": "stderr",
     "output_type": "stream",
     "text": [
      "Warning in <TCanvas::Constructor>: Deleting canvas with same name: c1\n",
      "Warning in <TFile::Append>: Replacing existing TH1: xvszstart (Potential memory leak).\n",
      "Warning in <TFile::Append>: Replacing existing TH1: xvszstop (Potential memory leak).\n",
      "Warning in <TFile::Append>: Replacing existing TH1: yvszstart (Potential memory leak).\n",
      "Warning in <TFile::Append>: Replacing existing TH1: yvszstop (Potential memory leak).\n"
     ]
    },
    {
     "data": {
      "image/png": "[encoded data removed]",
      "text/plain": [
       "<IPython.core.display.Image object>"
      ]
     },
     "metadata": {},
     "output_type": "display_data"
    }
   ],
   "source": [
    "canv = ROOT.TCanvas(\"c1\",\"Canvas 1\", 850, 550)\n",
    "pad1 = ROOT.TPad(\"pad1\",\"Pad 1\",0.05,0.52,0.95,0.97)\n",
    "pad2 = ROOT.TPad(\"pad2\",\"Pad 2\",0.05,0.02,0.95,0.47)\n",
    "pad1.Draw()\n",
    "pad2.Draw()\n",
    "\n",
    "xvszstart = ROOT.TH2D(\"xvszstart\", \"X-Z Plane\", 350, 0, 6000, 350, -750, 750)\n",
    "xvszstop = ROOT.TH2D(\"xvszstop\", \"X vs Z Stop\", 350, 0, 6000, 350, -750, 750)\n",
    "\n",
    "pad1.cd()\n",
    "for entryNum in range(0, tree.GetEntries()):\n",
    "    tree.GetEntry(entryNum)\n",
    "    if getattr(tree, \"ntrack\") == 0:\n",
    "        continue\n",
    "    startPosx = getattr(tree, \"startPosX\")[0]\n",
    "    startPosz = getattr(tree, \"startPosZ\")[0]\n",
    "    stopPosx = getattr(tree, \"stopPosX\")[0]\n",
    "    stopPosz = getattr(tree, \"stopPosZ\")[0]\n",
    "    if entryNum == 1449:\n",
    "        print(\"event number\", entryNum)\n",
    "        xvszstart.Fill(startPosz, startPosx)\n",
    "        xvszstop.Fill(stopPosz, stopPosx)\n",
    "        linex = ROOT.TLine(startPosz, startPosx, stopPosz, stopPosx)\n",
    "linex.SetLineColor(ROOT.kBlue)\n",
    "xvszstart.GetYaxis().SetTitle(\"X Position (cm)\")\n",
    "xvszstart.GetXaxis().SetTitle(\"Z Position (cm)\")\n",
    "xvszstart.Draw()\n",
    "xvszstop.Draw(\"same\")\n",
    "linex.Draw()\n",
    "\n",
    "yvszstart = ROOT.TH2D(\"yvszstart\", \"Y-Z Plane\", 350, 0, 6000, 350, -750, 750)\n",
    "yvszstop = ROOT.TH2D(\"yvszstop\", \"Y vs Z Stop\", 350, 0, 6000, 350, -750, 750)\n",
    "\n",
    "pad2.cd()\n",
    "for entryNum in range(0, tree.GetEntries()):\n",
    "    tree.GetEntry(entryNum)\n",
    "    if getattr(tree, \"ntrack\") == 0:\n",
    "        continue\n",
    "    startPosy = getattr(tree, \"startPosY\")[0]\n",
    "    startPosz = getattr(tree, \"startPosZ\")[0]\n",
    "    stopPosy = getattr(tree, \"stopPosY\")[0]\n",
    "    stopPosz = getattr(tree, \"stopPosZ\")[0]\n",
    "    if entryNum == 1449:\n",
    "        print(\"event number\", entryNum)\n",
    "        yvszstart.Fill(startPosz, startPosy)\n",
    "        yvszstop.Fill(stopPosz, stopPosy)\n",
    "        liney = ROOT.TLine(startPosz, startPosy, stopPosz, stopPosy)\n",
    "liney.SetLineColor(ROOT.kBlue)\n",
    "yvszstart.GetYaxis().SetTitle(\"Y Position (cm)\")\n",
    "yvszstart.GetXaxis().SetTitle(\"Z Position (cm)\")\n",
    "yvszstart.Draw()\n",
    "yvszstop.Draw(\"same\")\n",
    "liney.Draw()\n",
    "\n",
    "canv.Draw()"
   ]
  },
  {
   "cell_type": "code",
   "execution_count": 56,
   "id": "839348e9",
   "metadata": {},
   "outputs": [
    {
     "name": "stdout",
     "output_type": "stream",
     "text": [
      "event number 1450\n",
      "event number 1450\n"
     ]
    },
    {
     "name": "stderr",
     "output_type": "stream",
     "text": [
      "Warning in <TCanvas::Constructor>: Deleting canvas with same name: c1\n",
      "Warning in <TFile::Append>: Replacing existing TH1: xvszstart (Potential memory leak).\n",
      "Warning in <TFile::Append>: Replacing existing TH1: xvszstop (Potential memory leak).\n",
      "Warning in <TFile::Append>: Replacing existing TH1: yvszstart (Potential memory leak).\n",
      "Warning in <TFile::Append>: Replacing existing TH1: yvszstop (Potential memory leak).\n"
     ]
    },
    {
     "data": {
      "image/png": "[encoded data removed]",
      "text/plain": [
       "<IPython.core.display.Image object>"
      ]
     },
     "metadata": {},
     "output_type": "display_data"
    }
   ],
   "source": [
    "canv = ROOT.TCanvas(\"c1\",\"Canvas 1\", 850, 550)\n",
    "pad1 = ROOT.TPad(\"pad1\",\"Pad 1\",0.05,0.52,0.95,0.97)\n",
    "pad2 = ROOT.TPad(\"pad2\",\"Pad 2\",0.05,0.02,0.95,0.47)\n",
    "pad1.Draw()\n",
    "pad2.Draw()\n",
    "\n",
    "xvszstart = ROOT.TH2D(\"xvszstart\", \"X-Z Plane\", 350, 0, 6000, 350, -750, 750)\n",
    "xvszstop = ROOT.TH2D(\"xvszstop\", \"X vs Z Stop\", 350, 0, 6000, 350, -750, 750)\n",
    "\n",
    "pad1.cd()\n",
    "for entryNum in range(0, tree.GetEntries()):\n",
    "    tree.GetEntry(entryNum)\n",
    "    if getattr(tree, \"ntrack\") == 0:\n",
    "        continue\n",
    "    startPosx = getattr(tree, \"startPosX\")[0]\n",
    "    startPosz = getattr(tree, \"startPosZ\")[0]\n",
    "    stopPosx = getattr(tree, \"stopPosX\")[0]\n",
    "    stopPosz = getattr(tree, \"stopPosZ\")[0]\n",
    "    if entryNum == 1450:\n",
    "        print(\"event number\", entryNum)\n",
    "        xvszstart.Fill(startPosz, startPosx)\n",
    "        xvszstop.Fill(stopPosz, stopPosx)\n",
    "        linex = ROOT.TLine(startPosz, startPosx, stopPosz, stopPosx)\n",
    "linex.SetLineColor(ROOT.kBlue)\n",
    "xvszstart.GetYaxis().SetTitle(\"X Position (cm)\")\n",
    "xvszstart.GetXaxis().SetTitle(\"Z Position (cm)\")\n",
    "xvszstart.Draw()\n",
    "xvszstop.Draw(\"same\")\n",
    "linex.Draw()\n",
    "\n",
    "yvszstart = ROOT.TH2D(\"yvszstart\", \"Y-Z Plane\", 350, 0, 6000, 350, -750, 750)\n",
    "yvszstop = ROOT.TH2D(\"yvszstop\", \"Y vs Z Stop\", 350, 0, 6000, 350, -750, 750)\n",
    "\n",
    "pad2.cd()\n",
    "for entryNum in range(0, tree.GetEntries()):\n",
    "    tree.GetEntry(entryNum)\n",
    "    if getattr(tree, \"ntrack\") == 0:\n",
    "        continue\n",
    "    startPosy = getattr(tree, \"startPosY\")[0]\n",
    "    startPosz = getattr(tree, \"startPosZ\")[0]\n",
    "    stopPosy = getattr(tree, \"stopPosY\")[0]\n",
    "    stopPosz = getattr(tree, \"stopPosZ\")[0]\n",
    "    if entryNum == 1450:\n",
    "        print(\"event number\", entryNum)\n",
    "        yvszstart.Fill(startPosz, startPosy)\n",
    "        yvszstop.Fill(stopPosz, stopPosy)\n",
    "        liney = ROOT.TLine(startPosz, startPosy, stopPosz, stopPosy)\n",
    "liney.SetLineColor(ROOT.kBlue)\n",
    "yvszstart.GetYaxis().SetTitle(\"Y Position (cm)\")\n",
    "yvszstart.GetXaxis().SetTitle(\"Z Position (cm)\")\n",
    "yvszstart.Draw()\n",
    "yvszstop.Draw(\"same\")\n",
    "liney.Draw()\n",
    "\n",
    "canv.Draw()"
   ]
  },
  {
   "cell_type": "code",
   "execution_count": null,
   "id": "f0a207d9",
   "metadata": {},
   "outputs": [],
   "source": []
  }
 ],
 "metadata": {
  "kernelspec": {
   "display_name": "Python 3 (ipykernel)",
   "language": "python",
   "name": "python3"
  },
  "language_info": {
   "codemirror_mode": {
    "name": "ipython",
    "version": 3
   },
   "file_extension": ".py",
   "mimetype": "text/x-python",
   "name": "python",
   "nbconvert_exporter": "python",
   "pygments_lexer": "ipython3",
   "version": "3.10.12"
  }
 },
 "nbformat": 4,
 "nbformat_minor": 5
}
