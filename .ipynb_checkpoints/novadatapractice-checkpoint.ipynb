{
 "cells": [
  {
   "cell_type": "code",
   "execution_count": 1,
   "id": "13a7cb79",
   "metadata": {},
   "outputs": [
    {
     "name": "stdout",
     "output_type": "stream",
     "text": [
      "Welcome to JupyROOT 6.26/06\n"
     ]
    }
   ],
   "source": [
    "import ROOT"
   ]
  },
  {
   "cell_type": "code",
   "execution_count": 2,
   "id": "14679c41",
   "metadata": {},
   "outputs": [],
   "source": [
    "inFileName = \"data/fardet_data_2_run44299_R20-11-25-cosfilt.c_r44299.0-r44299.53.cosmic_ntuple.root\""
   ]
  },
  {
   "cell_type": "code",
   "execution_count": 3,
   "id": "708cc3f9",
   "metadata": {
    "scrolled": true
   },
   "outputs": [],
   "source": [
    "inFile = ROOT.TFile.Open(inFileName, \"READ\")"
   ]
  },
  {
   "cell_type": "code",
   "execution_count": 4,
   "id": "4394fac1",
   "metadata": {},
   "outputs": [],
   "source": [
    "tree = inFile.Get(\"cosmicntuple/cosmicTree\")"
   ]
  },
  {
   "cell_type": "code",
   "execution_count": 5,
   "id": "ff5143e1",
   "metadata": {},
   "outputs": [],
   "source": [
    "xPos = ROOT.TH1D(\"startx\",\"Starting X Position\", 375, -1000, 1000)"
   ]
  },
  {
   "cell_type": "code",
   "execution_count": 6,
   "id": "6fef6ad0",
   "metadata": {},
   "outputs": [],
   "source": [
    "for entryNum in range(0, tree.GetEntries()):\n",
    "    tree.GetEntry(entryNum)\n",
    "    if getattr(tree, \"ntrack\") == 0:\n",
    "        continue\n",
    "    startX = getattr(tree, \"startPosX\")[0]\n",
    "    xPos.Fill(startX)"
   ]
  },
  {
   "cell_type": "code",
   "execution_count": 7,
   "id": "ddeeae18",
   "metadata": {},
   "outputs": [],
   "source": [
    "canv = ROOT.TCanvas(\"Canvas\", \"NewGraph\", 800, 600)\n",
    "xPos.GetYaxis().SetTitle(\"Occurances\")\n",
    "xPos.GetXaxis().SetTitle(\"Distance From Center (cm)\")\n",
    "xPos.SetLineColor(ROOT.kRed)"
   ]
  },
  {
   "cell_type": "code",
   "execution_count": null,
   "id": "efd74f62",
   "metadata": {},
   "outputs": [],
   "source": [
    "xPos.Draw()"
   ]
  },
  {
   "cell_type": "code",
   "execution_count": null,
   "id": "219f95ff",
   "metadata": {},
   "outputs": [],
   "source": [
    "canv.Draw()"
   ]
  },
  {
   "cell_type": "code",
   "execution_count": null,
   "id": "e123d686",
   "metadata": {},
   "outputs": [],
   "source": [
    "yPos = ROOT.TH1D(\"startY\", \"Starting Y Position\", 250, -1000, 1000)"
   ]
  },
  {
   "cell_type": "code",
   "execution_count": null,
   "id": "00651a26",
   "metadata": {},
   "outputs": [],
   "source": [
    "for entryNum in range(0, tree.GetEntries()):\n",
    "    tree.GetEntry(entryNum)\n",
    "    if getattr(tree, \"ntrack\") == 0:\n",
    "        continue\n",
    "    startY = getattr(tree, \"startPosY\")[0]\n",
    "    yPos.Fill(startY)"
   ]
  },
  {
   "cell_type": "code",
   "execution_count": null,
   "id": "1b354aad",
   "metadata": {},
   "outputs": [],
   "source": [
    "yPos.GetYaxis().SetTitle(\"Occurances\")\n",
    "yPos.GetXaxis().SetTitle(\"Distance From Center (cm)\")\n",
    "yPos.Draw()\n",
    "ROOT.gStyle.SetOptStat(0)"
   ]
  },
  {
   "cell_type": "code",
   "execution_count": null,
   "id": "f59b3d99",
   "metadata": {
    "scrolled": false
   },
   "outputs": [],
   "source": [
    "canv.Draw()"
   ]
  },
  {
   "cell_type": "code",
   "execution_count": null,
   "id": "7533d68e",
   "metadata": {},
   "outputs": [],
   "source": [
    "zPos = ROOT.TH1D(\"startZ\",\"Starting Z Position\", 1000, 0, 6000)"
   ]
  },
  {
   "cell_type": "code",
   "execution_count": null,
   "id": "9a45738d",
   "metadata": {},
   "outputs": [],
   "source": [
    "for entryNum in range(0, tree.GetEntries()):\n",
    "    tree.GetEntry(entryNum)\n",
    "    if getattr(tree, \"ntrack\") == 0:\n",
    "        continue\n",
    "    startZ = getattr(tree, \"startPosZ\")[0]\n",
    "    zPos.Fill(startZ)"
   ]
  },
  {
   "cell_type": "code",
   "execution_count": null,
   "id": "37aa27ce",
   "metadata": {},
   "outputs": [],
   "source": [
    "zPos.GetYaxis().SetTitle(\"Occurances\")\n",
    "zPos.GetXaxis().SetTitle(\"Distance From Front of Detector (cm)\")\n",
    "zPos.Draw()"
   ]
  },
  {
   "cell_type": "code",
   "execution_count": null,
   "id": "d7c7ad16",
   "metadata": {},
   "outputs": [],
   "source": [
    "canv.Draw()"
   ]
  },
  {
   "cell_type": "code",
   "execution_count": null,
   "id": "59c1a964",
   "metadata": {},
   "outputs": [],
   "source": [
    "xStopPos = ROOT.TH1D(\"stopx\",\"Stopping X Position\", 375, -1000, 1000)"
   ]
  },
  {
   "cell_type": "code",
   "execution_count": null,
   "id": "e911603a",
   "metadata": {},
   "outputs": [],
   "source": [
    "for entryNum in range(0, tree.GetEntries()):\n",
    "    tree.GetEntry(entryNum)\n",
    "    if getattr(tree, \"ntrack\") == 0:\n",
    "        continue\n",
    "    stopX = getattr(tree, \"stopPosX\")[0]\n",
    "    xStopPos.Fill(stopX)"
   ]
  },
  {
   "cell_type": "code",
   "execution_count": null,
   "id": "a605d4d3",
   "metadata": {},
   "outputs": [],
   "source": [
    "xStopPos.GetYaxis().SetTitle(\"Occurances\")\n",
    "xStopPos.GetXaxis().SetTitle(\"Distance From Center (cm)\")"
   ]
  },
  {
   "cell_type": "code",
   "execution_count": null,
   "id": "c3d11e64",
   "metadata": {},
   "outputs": [],
   "source": [
    "xStopPos.Draw()"
   ]
  },
  {
   "cell_type": "code",
   "execution_count": null,
   "id": "fc3bed65",
   "metadata": {},
   "outputs": [],
   "source": [
    "canv.Draw()"
   ]
  },
  {
   "cell_type": "code",
   "execution_count": null,
   "id": "9c15f3fa",
   "metadata": {},
   "outputs": [],
   "source": [
    "yStopPos = ROOT.TH1D(\"stopy\", \"Stopping Y Position\", 250, -1000, 1000)"
   ]
  },
  {
   "cell_type": "code",
   "execution_count": null,
   "id": "182c8082",
   "metadata": {},
   "outputs": [],
   "source": [
    "for entryNum in range(0, tree.GetEntries()):\n",
    "    tree.GetEntry(entryNum)\n",
    "    if getattr(tree, \"ntrack\") == 0:\n",
    "        continue\n",
    "    stopY = getattr(tree, \"stopPosY\")[0]\n",
    "    yStopPos.Fill(stopY)"
   ]
  },
  {
   "cell_type": "code",
   "execution_count": null,
   "id": "13b6496a",
   "metadata": {},
   "outputs": [],
   "source": [
    "yStopPos.GetYaxis().SetTitle(\"Occurances\")\n",
    "yStopPos.GetXaxis().SetTitle(\"Distance From Center (cm)\")"
   ]
  },
  {
   "cell_type": "code",
   "execution_count": null,
   "id": "01cae683",
   "metadata": {},
   "outputs": [],
   "source": [
    "yStopPos.Draw()"
   ]
  },
  {
   "cell_type": "code",
   "execution_count": null,
   "id": "2398cafc",
   "metadata": {},
   "outputs": [],
   "source": [
    "canv.Draw()"
   ]
  },
  {
   "cell_type": "code",
   "execution_count": null,
   "id": "dbfd1c19",
   "metadata": {},
   "outputs": [],
   "source": [
    "zStopPos = ROOT.TH1D(\"stopZ\",\"Stopping Z Position\", 1000, 0, 6000)"
   ]
  },
  {
   "cell_type": "code",
   "execution_count": null,
   "id": "a4568503",
   "metadata": {},
   "outputs": [],
   "source": [
    "for entryNum in range(0, tree.GetEntries()):\n",
    "    tree.GetEntry(entryNum)\n",
    "    if getattr(tree, \"ntrack\") == 0:\n",
    "        continue\n",
    "    stopZ = getattr(tree, \"stopPosZ\")[0]\n",
    "    zStopPos.Fill(stopZ)"
   ]
  },
  {
   "cell_type": "code",
   "execution_count": null,
   "id": "2e9c1f3d",
   "metadata": {},
   "outputs": [],
   "source": [
    "zStopPos.GetYaxis().SetTitle(\"Occurances\")\n",
    "zStopPos.GetXaxis().SetTitle(\"Distance From Front of Detector (cm)\")"
   ]
  },
  {
   "cell_type": "code",
   "execution_count": null,
   "id": "09e912c0",
   "metadata": {},
   "outputs": [],
   "source": [
    "zStopPos.Draw()"
   ]
  },
  {
   "cell_type": "code",
   "execution_count": null,
   "id": "dd85b8ad",
   "metadata": {},
   "outputs": [],
   "source": [
    "canv.Draw()"
   ]
  },
  {
   "cell_type": "code",
   "execution_count": null,
   "id": "e662836c",
   "metadata": {},
   "outputs": [],
   "source": [
    "xStartDir = ROOT.TH1D(\"startdX\", \"Starting X Direction\", 250, -1, 1)"
   ]
  },
  {
   "cell_type": "code",
   "execution_count": null,
   "id": "1bd7e009",
   "metadata": {},
   "outputs": [],
   "source": [
    "for entryNum in range(0, tree.GetEntries()):\n",
    "    tree.GetEntry(entryNum)\n",
    "    if getattr(tree, \"ntrack\") == 0:\n",
    "        continue\n",
    "    startdirectionX = getattr(tree, \"startDirX\")[0]\n",
    "    xStartDir.Fill(startdirectionX)"
   ]
  },
  {
   "cell_type": "code",
   "execution_count": null,
   "id": "8b12989d",
   "metadata": {},
   "outputs": [],
   "source": [
    "xStartDir.GetYaxis().SetTitle(\"Occurances\")\n",
    "xStartDir.GetXaxis().SetTitle(\"Direction (cos)\")"
   ]
  },
  {
   "cell_type": "code",
   "execution_count": null,
   "id": "42b895f9",
   "metadata": {},
   "outputs": [],
   "source": [
    "xStartDir.Draw()"
   ]
  },
  {
   "cell_type": "code",
   "execution_count": null,
   "id": "df8da8b0",
   "metadata": {},
   "outputs": [],
   "source": [
    "canv.Draw()"
   ]
  },
  {
   "cell_type": "code",
   "execution_count": null,
   "id": "7f09f52a",
   "metadata": {},
   "outputs": [],
   "source": [
    "xStopDir = ROOT.TH1D(\"stopdX\", \"Stopping X Direction\", 250, -1, 1)\n",
    "\n",
    "for entryNum in range(0, tree.GetEntries()):\n",
    "    tree.GetEntry(entryNum)\n",
    "    if getattr(tree, \"ntrack\") == 0:\n",
    "        continue\n",
    "    stopdirectionX = getattr(tree, \"stopDirX\")[0]\n",
    "    xStopDir.Fill(stopdirectionX)\n",
    "\n",
    "xStopDir.GetYaxis().SetTitle(\"Occurances\")\n",
    "xStopDir.GetXaxis().SetTitle(\"Direction (cos)\")\n",
    "\n",
    "xStopDir.Draw()\n",
    "canv.Draw()"
   ]
  },
  {
   "cell_type": "code",
   "execution_count": null,
   "id": "2a0f30ba",
   "metadata": {},
   "outputs": [],
   "source": [
    "yStartDir = ROOT.TH1D(\"startdY\", \"Starting Y Direction\", 250, -1, 1)\n",
    "\n",
    "for entryNum in range(0, tree.GetEntries()):\n",
    "    tree.GetEntry(entryNum)\n",
    "    if getattr(tree, \"ntrack\") == 0:\n",
    "        continue\n",
    "    startdirectionY = getattr(tree, \"startDirY\")[0]\n",
    "    yStartDir.Fill(startdirectionY)\n",
    "\n",
    "yStartDir.GetYaxis().SetTitle(\"Occurances\")\n",
    "yStartDir.GetXaxis().SetTitle(\"Direction (cos(angle))\")\n",
    "\n",
    "yStartDir.Draw()\n",
    "canv.Draw()"
   ]
  },
  {
   "cell_type": "code",
   "execution_count": null,
   "id": "168d732e",
   "metadata": {},
   "outputs": [],
   "source": [
    "yStopDir = ROOT.TH1D(\"startdY\", \"Starting Y Direction\", 250, -1, 1)\n",
    "\n",
    "for entryNum in range(0, tree.GetEntries()):\n",
    "    tree.GetEntry(entryNum)\n",
    "    if getattr(tree, \"ntrack\") == 0:\n",
    "        continue\n",
    "    startdirectionY = getattr(tree, \"startDirY\")[0]\n",
    "    yStartDir.Fill(startdirectionY)\n",
    "\n",
    "yStartDir.GetYaxis().SetTitle(\"Occurances\")\n",
    "yStartDir.GetXaxis().SetTitle(\"Direction (cos(angle))\")\n",
    "\n",
    "yStartDir.Draw()\n",
    "canv.Draw()"
   ]
  },
  {
   "cell_type": "code",
   "execution_count": null,
   "id": "1f5f1388",
   "metadata": {},
   "outputs": [],
   "source": [
    "zStartDir = ROOT.TH1D(\"startdZ\", \"Starting Z Direction\", 250, -1, 1)\n",
    "\n",
    "for entryNum in range(0, tree.GetEntries()):\n",
    "    tree.GetEntry(entryNum)\n",
    "    if getattr(tree, \"ntrack\") == 0:\n",
    "        continue\n",
    "    startdirectionZ = getattr(tree, \"startDirZ\")[0]\n",
    "    zStartDir.Fill(startdirectionZ)\n",
    "\n",
    "zStartDir.GetYaxis().SetTitle(\"Occurances\")\n",
    "zStartDir.GetXaxis().SetTitle(\"Direction (cos)\")\n",
    "\n",
    "zStartDir.Draw()\n",
    "canv.Draw()"
   ]
  },
  {
   "cell_type": "code",
   "execution_count": null,
   "id": "c0eab675",
   "metadata": {},
   "outputs": [],
   "source": [
    "zStopDir = ROOT.TH1D(\"stopdZ\", \"Stopping Z Direction\", 250, -1, 1)\n",
    "\n",
    "for entryNum in range(0, tree.GetEntries()):\n",
    "    tree.GetEntry(entryNum)\n",
    "    if getattr(tree, \"ntrack\") == 0:\n",
    "        continue\n",
    "    stopdirectionZ = getattr(tree, \"stopDirZ\")[0]\n",
    "    zStopDir.Fill(stopdirectionZ)\n",
    "\n",
    "zStopDir.GetYaxis().SetTitle(\"Occurances\")\n",
    "zStopDir.GetXaxis().SetTitle(\"Direction (cos)\")\n",
    "\n",
    "zStopDir.Draw()\n",
    "canv.Draw()"
   ]
  },
  {
   "cell_type": "code",
   "execution_count": null,
   "id": "bb59a662",
   "metadata": {},
   "outputs": [],
   "source": [
    "totalGeV = ROOT.TH1D(\"totalGeV\", \"Total Energy\", 250, 0, 4)\n",
    "\n",
    "for entryNum in range(0, tree.GetEntries()):\n",
    "    tree.GetEntry(entryNum)\n",
    "    if getattr(tree, \"ntrack\") == 0:\n",
    "        continue\n",
    "    GeV = getattr(tree, \"totalGeV\")[0]\n",
    "    totalGeV.Fill(GeV)\n",
    "\n",
    "totalGeV.GetYaxis().SetTitle(\"Occurances\")\n",
    "totalGeV.GetXaxis().SetTitle(\"Energy (GeV)\")\n",
    "\n",
    "totalGeV.Draw()\n",
    "canv.Draw()"
   ]
  },
  {
   "cell_type": "code",
   "execution_count": null,
   "id": "a3450a15",
   "metadata": {},
   "outputs": [],
   "source": [
    "totalLength = ROOT.TH1D(\"totalLength\", \"Total Length\", 250, 0, 3000)\n",
    "\n",
    "for entryNum in range(0, tree.GetEntries()):\n",
    "    tree.GetEntry(entryNum)\n",
    "    if getattr(tree, \"ntrack\") == 0:\n",
    "        continue\n",
    "    Length = getattr(tree, \"totalLength\")[0]\n",
    "    totalLength.Fill(Length)\n",
    "\n",
    "totalLength.GetYaxis().SetTitle(\"Occurances\")\n",
    "totalLength.GetXaxis().SetTitle(\"Length (cm)\")\n",
    "\n",
    "totalLength.Draw()\n",
    "canv.Draw()"
   ]
  },
  {
   "cell_type": "code",
   "execution_count": null,
   "id": "e509c7cb",
   "metadata": {
    "scrolled": false
   },
   "outputs": [],
   "source": [
    "LengthGeV = ROOT.TH2D(\"lengthGeV\", \"Length vs Energy\", 350, 0, 4, 350, 0, 3000)\n",
    "\n",
    "\n",
    "for entryNum in range(0, tree.GetEntries()):\n",
    "    tree.GetEntry(entryNum)\n",
    "    if getattr(tree, \"ntrack\") == 0:\n",
    "        continue\n",
    "    Length = getattr(tree, \"totalLength\")[0]\n",
    "    GeV = getattr(tree, \"totalGeV\")[0]\n",
    "    LengthGeV.Fill(GeV, Length)\n",
    "\n",
    "LengthGeV.GetYaxis().SetTitle(\"Length (cm)\")\n",
    "LengthGeV.GetXaxis().SetTitle(\"Energy (GeV)\")\n",
    "ROOT.gStyle.SetPalette(105)\n",
    "\n",
    "LengthGeV.Draw(\"colz\")\n",
    "canv.Draw()"
   ]
  },
  {
   "cell_type": "code",
   "execution_count": null,
   "id": "b64a166a",
   "metadata": {},
   "outputs": [],
   "source": [
    "xvsz = ROOT.TH2D(\"xvsz\", \"X vs Z Start\", 350, 0, 6000, 350, -1000, 1000)\n",
    "\n",
    "\n",
    "for entryNum in range(0, tree.GetEntries()):\n",
    "    tree.GetEntry(entryNum)\n",
    "    if getattr(tree, \"ntrack\") == 0:\n",
    "        continue\n",
    "    startPosx = getattr(tree, \"startPosX\")[0]\n",
    "    startPosz = getattr(tree, \"startPosZ\")[0]\n",
    "    xvsz.Fill(startPosz, startPosx)\n",
    "\n",
    "ROOT.gStyle.SetPalette(57)\n",
    "xvsz.GetYaxis().SetTitle(\"Initial X Position (cm)\")\n",
    "xvsz.GetXaxis().SetTitle(\"Initial Z Position (cm)\")\n",
    "xvsz.Draw(\"colz\")\n",
    "canv.Draw()"
   ]
  },
  {
   "cell_type": "code",
   "execution_count": null,
   "id": "40f0b3ca",
   "metadata": {},
   "outputs": [],
   "source": [
    "yvsz = ROOT.TH2D(\"yvsz\", \"Y vs Z Start\", 350, 0, 6000, 350, -1000, 1000)\n",
    "\n",
    "\n",
    "for entryNum in range(0, tree.GetEntries()):\n",
    "    tree.GetEntry(entryNum)\n",
    "    if getattr(tree, \"ntrack\") == 0:\n",
    "        continue\n",
    "    startPosy = getattr(tree, \"startPosY\")[0]\n",
    "    startPosz = getattr(tree, \"startPosZ\")[0]\n",
    "    yvsz.Fill(startPosz, startPosy)\n",
    "\n",
    "    \n",
    "yvsz.GetYaxis().SetTitle(\"Initial Y Position (cm)\")\n",
    "yvsz.GetXaxis().SetTitle(\"Initial Z Position (cm)\")\n",
    "yvsz.Draw(\"colz\")\n",
    "canv.Draw()"
   ]
  },
  {
   "cell_type": "markdown",
   "id": "e00f2002",
   "metadata": {},
   "source": [
    "```\n",
    "legend = ROOT.TLegend(0.1,0.7,0.48,0.9)\n",
    "legend.SetHeader(\"The Legend Title\",\"C\")\n",
    "legend.AddEntry(yStopDir,\"Histogram filled with random numbers\",\"f\")\n",
    "legend.AddEntry(\"f1\",\"Function abs(#frac{sin(x)}{x})\",\"l\")\n",
    "legend.AddEntry(\"gr\",\"Graph with error bars\",\"lep\")\n",
    "\n"
   ]
  },
  {
   "cell_type": "code",
   "execution_count": null,
   "id": "c8e5150b",
   "metadata": {
    "scrolled": false
   },
   "outputs": [],
   "source": [
    "dirxGeV = ROOT.TH2D(\"dirxGeV\", \"Energy and Direction(along the X-axis)\", 350, -1, 1, 350, 0, 4)\n",
    "\n",
    "\n",
    "for entryNum in range(0, tree.GetEntries()):\n",
    "    tree.GetEntry(entryNum)\n",
    "    if getattr(tree, \"ntrack\") == 0:\n",
    "        continue\n",
    "    startDirX = getattr(tree, \"startDirX\")[0]\n",
    "    GeV = getattr(tree, \"totalGeV\")[0]\n",
    "    dirxGeV.Fill(startDirX, GeV)\n",
    "\n",
    "ROOT.gStyle.SetPalette(57)\n",
    "dirxGeV.GetYaxis().SetTitle(\"Total Energy (GeV)\")\n",
    "dirxGeV.GetXaxis().SetTitle(\"Starting X-Direction\")\n",
    "dirxGeV.Draw(\"colz\")\n",
    "canv.Draw()"
   ]
  },
  {
   "cell_type": "code",
   "execution_count": null,
   "id": "6aacf4be",
   "metadata": {},
   "outputs": [],
   "source": [
    "diryGeV = ROOT.TH2D(\"diryGeV\", \"Energy and Direction(along the Y-axis)\", 350, -1, 1, 350, 0, 4)\n",
    "\n",
    "\n",
    "for entryNum in range(0, tree.GetEntries()):\n",
    "    tree.GetEntry(entryNum)\n",
    "    if getattr(tree, \"ntrack\") == 0:\n",
    "        continue\n",
    "    startDirY = getattr(tree, \"startDirY\")[0]\n",
    "    GeV = getattr(tree, \"totalGeV\")[0]\n",
    "    diryGeV.Fill(startDirY, GeV)\n",
    "\n",
    "ROOT.gStyle.SetPalette(57)\n",
    "diryGeV.GetYaxis().SetTitle(\"Total Energy (GeV)\")\n",
    "diryGeV.GetXaxis().SetTitle(\"Starting Y-Direction\")\n",
    "diryGeV.Draw(\"colz\")\n",
    "canv.Draw()"
   ]
  },
  {
   "cell_type": "code",
   "execution_count": null,
   "id": "f0d14d88",
   "metadata": {
    "scrolled": false
   },
   "outputs": [],
   "source": [
    "dirzGeV = ROOT.TH2D(\"dirzGeV\", \"Energy and Direction(along the Z-axis)\", 350, -1, 1, 350, 0, 4)\n",
    "\n",
    "\n",
    "for entryNum in range(0, tree.GetEntries()):\n",
    "    tree.GetEntry(entryNum)\n",
    "    if getattr(tree, \"ntrack\") == 0:\n",
    "        continue\n",
    "    startDirZ = getattr(tree, \"startDirZ\")[0]\n",
    "    GeV = getattr(tree, \"totalGeV\")[0]\n",
    "    dirzGeV.Fill(startDirZ, GeV)\n",
    "\n",
    "ROOT.gStyle.SetPalette(57)\n",
    "dirzGeV.GetYaxis().SetTitle(\"Total Energy (GeV)\")\n",
    "dirzGeV.GetXaxis().SetTitle(\"Starting Z-Direction\")\n",
    "dirzGeV.Draw(\"colz\")\n",
    "canv.Draw()"
   ]
  },
  {
   "cell_type": "code",
   "execution_count": null,
   "id": "31263e3d",
   "metadata": {},
   "outputs": [],
   "source": [
    "startPos3D = ROOT.TH3D(\"startPos3D\", \"3D Density of Starting Positions\", 1000, -750, 750, 1000, 0, 6000, 1000, -750, 750)\n",
    "\n",
    "\n",
    "for entryNum in range(0, tree.GetEntries()):\n",
    "    tree.GetEntry(entryNum)\n",
    "    if getattr(tree, \"ntrack\") == 0:\n",
    "        continue\n",
    "    startPosX = getattr(tree, \"startPosX\")[0]\n",
    "    startPosY = getattr(tree, \"startPosY\")[0]\n",
    "    startPosZ = getattr(tree, \"startPosZ\")[0]\n",
    "    startPos3D.Fill(startPosX, startPosZ, startPosY)\n",
    "\n",
    "startPos3D.GetXaxis().SetTitle(\"Starting X-Position\")\n",
    "startPos3D.GetZaxis().SetTitle(\"Starting Y-Position\")\n",
    "startPos3D.GetYaxis().SetTitle(\"Starting Z-Position\")\n",
    "\n",
    "# Set the view to be rectangular\n",
    "view = TView.CreateView(1)\n",
    "\n",
    "# Set the range of the X, Y, and Z axes\n",
    "view.SetRangeUser(-600, 600, 0, 6000, 0, 600)  # Adjust the range as needed\n",
    "\n",
    "\n",
    "startPos3D.Draw(\"colz1\")\n",
    "canv.Draw()"
   ]
  },
  {
   "cell_type": "code",
   "execution_count": null,
   "id": "b0cd4fa9",
   "metadata": {},
   "outputs": [],
   "source": []
  }
 ],
 "metadata": {
  "kernelspec": {
   "display_name": "Python 3 (ipykernel)",
   "language": "python",
   "name": "python3"
  },
  "language_info": {
   "codemirror_mode": {
    "name": "ipython",
    "version": 3
   },
   "file_extension": ".py",
   "mimetype": "text/x-python",
   "name": "python",
   "nbconvert_exporter": "python",
   "pygments_lexer": "ipython3",
   "version": "3.10.12"
  }
 },
 "nbformat": 4,
 "nbformat_minor": 5
}
